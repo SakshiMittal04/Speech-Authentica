{
  "cells": [
    {
      "cell_type": "code",
      "execution_count": null,
      "metadata": {
        "colab": {
          "base_uri": "https://localhost:8080/"
        },
        "id": "eOnsZCLlXk5b",
        "outputId": "9e6d4421-fe06-4f99-f657-be9216c48d45"
      },
      "outputs": [
        {
          "output_type": "stream",
          "name": "stdout",
          "text": [
            "Mounted at /content/drive\n"
          ]
        }
      ],
      "source": [
        "from google.colab import drive\n",
        "drive.mount('/content/drive')"
      ]
    },
    {
      "cell_type": "code",
      "execution_count": null,
      "metadata": {
        "id": "9Ktf3AFoXm1O"
      },
      "outputs": [],
      "source": [
        "#import librosa\n",
        "import os\n",
        "from sklearn.model_selection import train_test_split\n",
        "from keras.utils import to_categorical\n",
        "import numpy as np\n",
        "from tqdm import tqdm\n",
        "\n",
        "DATA_PATH = \"/content/drive/MyDrive/FLask_model/Dataset\""
      ]
    },
    {
      "cell_type": "code",
      "execution_count": null,
      "metadata": {
        "colab": {
          "base_uri": "https://localhost:8080/",
          "height": 36
        },
        "id": "92XycdXCXqgQ",
        "outputId": "e5226540-b5f8-4547-db53-f3a689de06e5"
      },
      "outputs": [
        {
          "output_type": "execute_result",
          "data": {
            "text/plain": [
              "'/content/drive/MyDrive/FLask_model/Dataset'"
            ],
            "application/vnd.google.colaboratory.intrinsic+json": {
              "type": "string"
            }
          },
          "metadata": {},
          "execution_count": 3
        }
      ],
      "source": [
        "DATA_PATH"
      ]
    },
    {
      "cell_type": "code",
      "execution_count": null,
      "metadata": {
        "id": "gDblF1LtXuEK"
      },
      "outputs": [],
      "source": [
        "# Input: Folder Path\n",
        "# Output: Tuple (Label, Indices of the labels, one-hot encoded labels)\n",
        "def get_labels(path=DATA_PATH):\n",
        "    labels = os.listdir(path)\n",
        "    label_indices = np.arange(0, len(labels))\n",
        "    return labels, label_indices, to_categorical(label_indices)\n",
        "\n",
        "#labels: The list of file and directory names obtained from the specified path or the default DATA_PATH.\n",
        "# label_indices: An array of indices from 0 to the number of labels.\n",
        "# to_categorical(label_indices): The one-hot encoded representation of the label indices.\n"
      ]
    },
    {
      "cell_type": "code",
      "execution_count": null,
      "metadata": {
        "colab": {
          "base_uri": "https://localhost:8080/"
        },
        "id": "3i23_KqKXw-K",
        "outputId": "269f570d-597a-4d9c-eedb-ed28f5a9b7c1"
      },
      "outputs": [
        {
          "output_type": "stream",
          "name": "stdout",
          "text": [
            "Requirement already satisfied: librosa in /usr/local/lib/python3.10/dist-packages (0.10.0.post2)\n",
            "Requirement already satisfied: audioread>=2.1.9 in /usr/local/lib/python3.10/dist-packages (from librosa) (3.0.0)\n",
            "Requirement already satisfied: numpy!=1.22.0,!=1.22.1,!=1.22.2,>=1.20.3 in /usr/local/lib/python3.10/dist-packages (from librosa) (1.22.4)\n",
            "Requirement already satisfied: scipy>=1.2.0 in /usr/local/lib/python3.10/dist-packages (from librosa) (1.10.1)\n",
            "Requirement already satisfied: scikit-learn>=0.20.0 in /usr/local/lib/python3.10/dist-packages (from librosa) (1.2.2)\n",
            "Requirement already satisfied: joblib>=0.14 in /usr/local/lib/python3.10/dist-packages (from librosa) (1.3.1)\n",
            "Requirement already satisfied: decorator>=4.3.0 in /usr/local/lib/python3.10/dist-packages (from librosa) (4.4.2)\n",
            "Requirement already satisfied: numba>=0.51.0 in /usr/local/lib/python3.10/dist-packages (from librosa) (0.56.4)\n",
            "Requirement already satisfied: soundfile>=0.12.1 in /usr/local/lib/python3.10/dist-packages (from librosa) (0.12.1)\n",
            "Requirement already satisfied: pooch<1.7,>=1.0 in /usr/local/lib/python3.10/dist-packages (from librosa) (1.6.0)\n",
            "Requirement already satisfied: soxr>=0.3.2 in /usr/local/lib/python3.10/dist-packages (from librosa) (0.3.5)\n",
            "Requirement already satisfied: typing-extensions>=4.1.1 in /usr/local/lib/python3.10/dist-packages (from librosa) (4.7.1)\n",
            "Requirement already satisfied: lazy-loader>=0.1 in /usr/local/lib/python3.10/dist-packages (from librosa) (0.3)\n",
            "Requirement already satisfied: msgpack>=1.0 in /usr/local/lib/python3.10/dist-packages (from librosa) (1.0.5)\n",
            "Requirement already satisfied: llvmlite<0.40,>=0.39.0dev0 in /usr/local/lib/python3.10/dist-packages (from numba>=0.51.0->librosa) (0.39.1)\n",
            "Requirement already satisfied: setuptools in /usr/local/lib/python3.10/dist-packages (from numba>=0.51.0->librosa) (67.7.2)\n",
            "Requirement already satisfied: appdirs>=1.3.0 in /usr/local/lib/python3.10/dist-packages (from pooch<1.7,>=1.0->librosa) (1.4.4)\n",
            "Requirement already satisfied: packaging>=20.0 in /usr/local/lib/python3.10/dist-packages (from pooch<1.7,>=1.0->librosa) (23.1)\n",
            "Requirement already satisfied: requests>=2.19.0 in /usr/local/lib/python3.10/dist-packages (from pooch<1.7,>=1.0->librosa) (2.27.1)\n",
            "Requirement already satisfied: threadpoolctl>=2.0.0 in /usr/local/lib/python3.10/dist-packages (from scikit-learn>=0.20.0->librosa) (3.2.0)\n",
            "Requirement already satisfied: cffi>=1.0 in /usr/local/lib/python3.10/dist-packages (from soundfile>=0.12.1->librosa) (1.15.1)\n",
            "Requirement already satisfied: pycparser in /usr/local/lib/python3.10/dist-packages (from cffi>=1.0->soundfile>=0.12.1->librosa) (2.21)\n",
            "Requirement already satisfied: urllib3<1.27,>=1.21.1 in /usr/local/lib/python3.10/dist-packages (from requests>=2.19.0->pooch<1.7,>=1.0->librosa) (1.26.16)\n",
            "Requirement already satisfied: certifi>=2017.4.17 in /usr/local/lib/python3.10/dist-packages (from requests>=2.19.0->pooch<1.7,>=1.0->librosa) (2023.7.22)\n",
            "Requirement already satisfied: charset-normalizer~=2.0.0 in /usr/local/lib/python3.10/dist-packages (from requests>=2.19.0->pooch<1.7,>=1.0->librosa) (2.0.12)\n",
            "Requirement already satisfied: idna<4,>=2.5 in /usr/local/lib/python3.10/dist-packages (from requests>=2.19.0->pooch<1.7,>=1.0->librosa) (3.4)\n"
          ]
        }
      ],
      "source": [
        "!pip install librosa"
      ]
    },
    {
      "cell_type": "code",
      "execution_count": null,
      "metadata": {
        "colab": {
          "base_uri": "https://localhost:8080/"
        },
        "id": "lllW7Q1_X7le",
        "outputId": "236f4679-164b-47e9-fb3d-fa407b31a25f"
      },
      "outputs": [
        {
          "output_type": "stream",
          "name": "stdout",
          "text": [
            "Requirement already satisfied: pydantic[dotenv] in /usr/local/lib/python3.10/dist-packages (1.10.12)\n",
            "Requirement already satisfied: typing-extensions>=4.2.0 in /usr/local/lib/python3.10/dist-packages (from pydantic[dotenv]) (4.7.1)\n",
            "Collecting python-dotenv>=0.10.4 (from pydantic[dotenv])\n",
            "  Downloading python_dotenv-1.0.0-py3-none-any.whl (19 kB)\n",
            "Installing collected packages: python-dotenv\n",
            "Successfully installed python-dotenv-1.0.0\n"
          ]
        }
      ],
      "source": [
        "!pip install pydantic[dotenv]"
      ]
    },
    {
      "cell_type": "code",
      "execution_count": null,
      "metadata": {
        "id": "VUk-VqtrX-oT"
      },
      "outputs": [],
      "source": [
        "#import yaml\n",
        "import librosa"
      ]
    },
    {
      "cell_type": "code",
      "execution_count": null,
      "metadata": {
        "id": "Fo2NXksLYFEA"
      },
      "outputs": [],
      "source": [
        "# convert file to wav2mfcc\n",
        "# Mel-frequency cepstral coefficients\n",
        "def wav2mfcc(file_path, n_mfcc=20, max_len=11):\n",
        "    wave, sr = librosa.load(file_path, mono=True, sr=None)\n",
        "    wave = np.asfortranarray(wave[::3])\n",
        "    mfcc = librosa.feature.mfcc(y=wave, sr=16000, n_mfcc=n_mfcc)\n",
        "\n",
        "    # If maximum length exceeds mfcc lengths then pad the remaining ones\n",
        "    if (max_len > mfcc.shape[1]):\n",
        "        pad_width = max_len - mfcc.shape[1]\n",
        "        mfcc = np.pad(mfcc, pad_width=((0, 0), (0, pad_width)), mode='constant')\n",
        "\n",
        "    # Else cutoff the remaining parts\n",
        "    else:\n",
        "        mfcc = mfcc[:, :max_len]\n",
        "\n",
        "    return mfcc\n"
      ]
    },
    {
      "cell_type": "code",
      "source": [
        "import numpy as np\n",
        "import librosa\n",
        "from scipy.signal import wiener\n",
        "\n",
        "def denoise_audio(audio_data):\n",
        "    # Apply denoising using Wiener filter\n",
        "    denoised_audio = wiener(audio_data)\n",
        "    return denoised_audio\n",
        "\n",
        "def save_data_to_array(path=DATA_PATH, max_len=11, n_mfcc=20):\n",
        "    labels, _, _ = get_labels(path)\n",
        "\n",
        "    for label in labels:\n",
        "        # Init mfcc vectors\n",
        "        mfcc_vectors = []\n",
        "\n",
        "        wavfiles = [path + '/' + label + '/' + wavfile for wavfile in os.listdir(path + '/' + label)]\n",
        "        for wavfile in tqdm(wavfiles, \"Saving vectors of label - '{}'\".format(label)):\n",
        "            # Load the audio file\n",
        "            wave, sr = librosa.load(wavfile, mono=True, sr=None)\n",
        "\n",
        "            # Apply denoising using Wiener filter\n",
        "            denoised_wave = denoise_audio(wave)\n",
        "\n",
        "            # Resample and downsample the denoised audio\n",
        "            denoised_wave = np.asfortranarray(denoised_wave[::3])\n",
        "\n",
        "            # Extract MFCCs from the denoised audio\n",
        "            mfcc = librosa.feature.mfcc(y=denoised_wave, sr=16000, n_mfcc=n_mfcc)\n",
        "\n",
        "            # If maximum length exceeds mfcc lengths then pad the remaining ones\n",
        "            if (max_len > mfcc.shape[1]):\n",
        "                pad_width = max_len - mfcc.shape[1]\n",
        "                mfcc = np.pad(mfcc, pad_width=((0, 0), (0, pad_width)), mode='constant')\n",
        "            # Else cutoff the remaining parts\n",
        "            else:\n",
        "                mfcc = mfcc[:, :max_len]\n",
        "\n",
        "            mfcc_vectors.append(mfcc)\n",
        "\n",
        "        np.save(label + '.npy', mfcc_vectors)\n"
      ],
      "metadata": {
        "id": "j0OXSY5ilN6M"
      },
      "execution_count": null,
      "outputs": []
    },
    {
      "cell_type": "code",
      "execution_count": null,
      "metadata": {
        "id": "_H2fJP0vYRCs"
      },
      "outputs": [],
      "source": [
        "# def save_data_to_array(path=DATA_PATH, max_len=11, n_mfcc=20):\n",
        "#     labels, _, _ = get_labels(path)\n",
        "\n",
        "#     for label in labels:\n",
        "#         # Init mfcc vectors\n",
        "#         mfcc_vectors = []\n",
        "\n",
        "#         wavfiles = [path + '/' + label + '/' + wavfile for wavfile in os.listdir(path + '/' + label)]\n",
        "#         for wavfile in tqdm(wavfiles, \"Saving vectors of label - '{}'\".format(label)):\n",
        "#             mfcc = wav2mfcc(wavfile, max_len=max_len, n_mfcc=n_mfcc)\n",
        "#             mfcc_vectors.append(mfcc)\n",
        "#         np.save(label + '.npy', mfcc_vectors)\n"
      ]
    },
    {
      "cell_type": "code",
      "execution_count": null,
      "metadata": {
        "id": "XBIvlEPsYXss"
      },
      "outputs": [],
      "source": [
        "def get_train_test(split_ratio=0.6, random_state=42):\n",
        "    # Get available labels\n",
        "    labels, indices, _ = get_labels(DATA_PATH)\n",
        "\n",
        "    # Getting first arrays\n",
        "    X = np.load(labels[0] + '.npy')\n",
        "    y = np.zeros(X.shape[0])\n",
        "\n",
        "    # Append all of the dataset into one single array, same goes for y\n",
        "    for i, label in enumerate(labels[1:]):\n",
        "        x = np.load(label + '.npy')\n",
        "        X = np.vstack((X, x))\n",
        "        y = np.append(y, np.full(x.shape[0], fill_value=(i + 1)))\n",
        "\n",
        "    assert X.shape[0] == len(y)\n",
        "\n",
        "    return train_test_split(X, y, test_size=(1 - split_ratio), random_state=random_state, shuffle=True)\n"
      ]
    },
    {
      "cell_type": "code",
      "execution_count": null,
      "metadata": {
        "id": "qeHfO7mUYbrW"
      },
      "outputs": [],
      "source": [
        "def prepare_dataset(path=DATA_PATH):\n",
        "    labels, _, _ = get_labels(path)\n",
        "    data = {}\n",
        "    for label in labels:\n",
        "        data[label] = {}\n",
        "        data[label]['path'] = [path + '/' + label + '/' + wavfile for wavfile in os.listdir(path + '/' + label)]\n",
        "\n",
        "        vectors = []\n",
        "\n",
        "        for wavfile in data[label]['path']:\n",
        "            wave, sr = librosa.load(wavfile, mono=True, sr=None)\n",
        "            # Downsampling\n",
        "            wave = wave[::3]\n",
        "            mfcc = librosa.feature.mfcc(y=wave, sr=16000)\n",
        "            vectors.append(mfcc)\n",
        "\n",
        "        data[label]['mfcc'] = vectors\n",
        "\n",
        "    return data"
      ]
    },
    {
      "cell_type": "code",
      "execution_count": null,
      "metadata": {
        "id": "Voo2iCKvYfY7"
      },
      "outputs": [],
      "source": [
        "def load_dataset(path=DATA_PATH):\n",
        "    data = prepare_dataset(path)\n",
        "\n",
        "    dataset = []\n",
        "\n",
        "    for key in data:\n",
        "        for mfcc in data[key]['mfcc']:\n",
        "            dataset.append((key, mfcc))\n",
        "\n",
        "    return dataset[:100]"
      ]
    },
    {
      "cell_type": "code",
      "execution_count": null,
      "metadata": {
        "colab": {
          "base_uri": "https://localhost:8080/"
        },
        "id": "mFuQQW4OZKnU",
        "outputId": "47c661d1-b88d-4a86-9625-1a27fafe9bc5"
      },
      "outputs": [
        {
          "output_type": "stream",
          "name": "stdout",
          "text": [
            "Collecting wandb\n",
            "  Downloading wandb-0.15.8-py3-none-any.whl (2.1 MB)\n",
            "\u001b[2K     \u001b[90m━━━━━━━━━━━━━━━━━━━━━━━━━━━━━━━━━━━━━━━━\u001b[0m \u001b[32m2.1/2.1 MB\u001b[0m \u001b[31m12.4 MB/s\u001b[0m eta \u001b[36m0:00:00\u001b[0m\n",
            "\u001b[?25hRequirement already satisfied: Click!=8.0.0,>=7.1 in /usr/local/lib/python3.10/dist-packages (from wandb) (8.1.6)\n",
            "Collecting GitPython!=3.1.29,>=1.0.0 (from wandb)\n",
            "  Downloading GitPython-3.1.32-py3-none-any.whl (188 kB)\n",
            "\u001b[2K     \u001b[90m━━━━━━━━━━━━━━━━━━━━━━━━━━━━━━━━━━━━━━\u001b[0m \u001b[32m188.5/188.5 kB\u001b[0m \u001b[31m17.0 MB/s\u001b[0m eta \u001b[36m0:00:00\u001b[0m\n",
            "\u001b[?25hRequirement already satisfied: requests<3,>=2.0.0 in /usr/local/lib/python3.10/dist-packages (from wandb) (2.27.1)\n",
            "Requirement already satisfied: psutil>=5.0.0 in /usr/local/lib/python3.10/dist-packages (from wandb) (5.9.5)\n",
            "Collecting sentry-sdk>=1.0.0 (from wandb)\n",
            "  Downloading sentry_sdk-1.29.2-py2.py3-none-any.whl (215 kB)\n",
            "\u001b[2K     \u001b[90m━━━━━━━━━━━━━━━━━━━━━━━━━━━━━━━━━━━━━━\u001b[0m \u001b[32m215.6/215.6 kB\u001b[0m \u001b[31m16.7 MB/s\u001b[0m eta \u001b[36m0:00:00\u001b[0m\n",
            "\u001b[?25hCollecting docker-pycreds>=0.4.0 (from wandb)\n",
            "  Downloading docker_pycreds-0.4.0-py2.py3-none-any.whl (9.0 kB)\n",
            "Requirement already satisfied: PyYAML in /usr/local/lib/python3.10/dist-packages (from wandb) (6.0.1)\n",
            "Collecting pathtools (from wandb)\n",
            "  Downloading pathtools-0.1.2.tar.gz (11 kB)\n",
            "  Preparing metadata (setup.py) ... \u001b[?25l\u001b[?25hdone\n",
            "Collecting setproctitle (from wandb)\n",
            "  Downloading setproctitle-1.3.2-cp310-cp310-manylinux_2_5_x86_64.manylinux1_x86_64.manylinux_2_17_x86_64.manylinux2014_x86_64.whl (30 kB)\n",
            "Requirement already satisfied: setuptools in /usr/local/lib/python3.10/dist-packages (from wandb) (67.7.2)\n",
            "Requirement already satisfied: appdirs>=1.4.3 in /usr/local/lib/python3.10/dist-packages (from wandb) (1.4.4)\n",
            "Requirement already satisfied: protobuf!=4.21.0,<5,>=3.19.0 in /usr/local/lib/python3.10/dist-packages (from wandb) (3.20.3)\n",
            "Requirement already satisfied: six>=1.4.0 in /usr/local/lib/python3.10/dist-packages (from docker-pycreds>=0.4.0->wandb) (1.16.0)\n",
            "Collecting gitdb<5,>=4.0.1 (from GitPython!=3.1.29,>=1.0.0->wandb)\n",
            "  Downloading gitdb-4.0.10-py3-none-any.whl (62 kB)\n",
            "\u001b[2K     \u001b[90m━━━━━━━━━━━━━━━━━━━━━━━━━━━━━━━━━━━━━━━━\u001b[0m \u001b[32m62.7/62.7 kB\u001b[0m \u001b[31m7.0 MB/s\u001b[0m eta \u001b[36m0:00:00\u001b[0m\n",
            "\u001b[?25hRequirement already satisfied: urllib3<1.27,>=1.21.1 in /usr/local/lib/python3.10/dist-packages (from requests<3,>=2.0.0->wandb) (1.26.16)\n",
            "Requirement already satisfied: certifi>=2017.4.17 in /usr/local/lib/python3.10/dist-packages (from requests<3,>=2.0.0->wandb) (2023.7.22)\n",
            "Requirement already satisfied: charset-normalizer~=2.0.0 in /usr/local/lib/python3.10/dist-packages (from requests<3,>=2.0.0->wandb) (2.0.12)\n",
            "Requirement already satisfied: idna<4,>=2.5 in /usr/local/lib/python3.10/dist-packages (from requests<3,>=2.0.0->wandb) (3.4)\n",
            "Collecting smmap<6,>=3.0.1 (from gitdb<5,>=4.0.1->GitPython!=3.1.29,>=1.0.0->wandb)\n",
            "  Downloading smmap-5.0.0-py3-none-any.whl (24 kB)\n",
            "Building wheels for collected packages: pathtools\n",
            "  Building wheel for pathtools (setup.py) ... \u001b[?25l\u001b[?25hdone\n",
            "  Created wheel for pathtools: filename=pathtools-0.1.2-py3-none-any.whl size=8791 sha256=555e90189f1e9c677cef146db8845ec45dd6d64283e93db8511f7ba0691f8a92\n",
            "  Stored in directory: /root/.cache/pip/wheels/e7/f3/22/152153d6eb222ee7a56ff8617d80ee5207207a8c00a7aab794\n",
            "Successfully built pathtools\n",
            "Installing collected packages: pathtools, smmap, setproctitle, sentry-sdk, docker-pycreds, gitdb, GitPython, wandb\n",
            "Successfully installed GitPython-3.1.32 docker-pycreds-0.4.0 gitdb-4.0.10 pathtools-0.1.2 sentry-sdk-1.29.2 setproctitle-1.3.2 smmap-5.0.0 wandb-0.15.8\n"
          ]
        }
      ],
      "source": [
        "!pip install wandb"
      ]
    },
    {
      "cell_type": "code",
      "execution_count": null,
      "metadata": {
        "colab": {
          "base_uri": "https://localhost:8080/",
          "height": 452
        },
        "id": "ZJAaCfg6ZTyX",
        "outputId": "ba077d9a-72ff-4a70-da59-0a242b1ba153"
      },
      "outputs": [
        {
          "output_type": "display_data",
          "data": {
            "text/plain": [
              "<IPython.core.display.Javascript object>"
            ],
            "application/javascript": [
              "\n",
              "        window._wandbApiKey = new Promise((resolve, reject) => {\n",
              "            function loadScript(url) {\n",
              "            return new Promise(function(resolve, reject) {\n",
              "                let newScript = document.createElement(\"script\");\n",
              "                newScript.onerror = reject;\n",
              "                newScript.onload = resolve;\n",
              "                document.body.appendChild(newScript);\n",
              "                newScript.src = url;\n",
              "            });\n",
              "            }\n",
              "            loadScript(\"https://cdn.jsdelivr.net/npm/postmate/build/postmate.min.js\").then(() => {\n",
              "            const iframe = document.createElement('iframe')\n",
              "            iframe.style.cssText = \"width:0;height:0;border:none\"\n",
              "            document.body.appendChild(iframe)\n",
              "            const handshake = new Postmate({\n",
              "                container: iframe,\n",
              "                url: 'https://wandb.ai/authorize'\n",
              "            });\n",
              "            const timeout = setTimeout(() => reject(\"Couldn't auto authenticate\"), 5000)\n",
              "            handshake.then(function(child) {\n",
              "                child.on('authorize', data => {\n",
              "                    clearTimeout(timeout)\n",
              "                    resolve(data)\n",
              "                });\n",
              "            });\n",
              "            })\n",
              "        });\n",
              "    "
            ]
          },
          "metadata": {}
        },
        {
          "output_type": "stream",
          "name": "stderr",
          "text": [
            "\u001b[34m\u001b[1mwandb\u001b[0m: Logging into wandb.ai. (Learn how to deploy a W&B server locally: https://wandb.me/wandb-server)\n",
            "\u001b[34m\u001b[1mwandb\u001b[0m: You can find your API key in your browser here: https://wandb.ai/authorize\n",
            "wandb: Paste an API key from your profile and hit enter, or press ctrl+c to quit:"
          ]
        },
        {
          "name": "stdout",
          "output_type": "stream",
          "text": [
            " ··········\n"
          ]
        },
        {
          "output_type": "stream",
          "name": "stderr",
          "text": [
            "\u001b[34m\u001b[1mwandb\u001b[0m: Appending key for api.wandb.ai to your netrc file: /root/.netrc\n"
          ]
        },
        {
          "output_type": "display_data",
          "data": {
            "text/plain": [
              "<IPython.core.display.HTML object>"
            ],
            "text/html": [
              "Tracking run with wandb version 0.15.8"
            ]
          },
          "metadata": {}
        },
        {
          "output_type": "display_data",
          "data": {
            "text/plain": [
              "<IPython.core.display.HTML object>"
            ],
            "text/html": [
              "Run data is saved locally in <code>/content/wandb/run-20230804_122034-e9kndx6z</code>"
            ]
          },
          "metadata": {}
        },
        {
          "output_type": "display_data",
          "data": {
            "text/plain": [
              "<IPython.core.display.HTML object>"
            ],
            "text/html": [
              "Syncing run <strong><a href='https://wandb.ai/speaker_recognitionas/uncategorized/runs/e9kndx6z' target=\"_blank\">iconic-forest-121</a></strong> to <a href='https://wandb.ai/speaker_recognitionas/uncategorized' target=\"_blank\">Weights & Biases</a> (<a href='https://wandb.me/run' target=\"_blank\">docs</a>)<br/>"
            ]
          },
          "metadata": {}
        },
        {
          "output_type": "display_data",
          "data": {
            "text/plain": [
              "<IPython.core.display.HTML object>"
            ],
            "text/html": [
              " View project at <a href='https://wandb.ai/speaker_recognitionas/uncategorized' target=\"_blank\">https://wandb.ai/speaker_recognitionas/uncategorized</a>"
            ]
          },
          "metadata": {}
        },
        {
          "output_type": "display_data",
          "data": {
            "text/plain": [
              "<IPython.core.display.HTML object>"
            ],
            "text/html": [
              " View run at <a href='https://wandb.ai/speaker_recognitionas/uncategorized/runs/e9kndx6z' target=\"_blank\">https://wandb.ai/speaker_recognitionas/uncategorized/runs/e9kndx6z</a>"
            ]
          },
          "metadata": {}
        },
        {
          "output_type": "stream",
          "name": "stderr",
          "text": [
            "\rSaving vectors of label - '00_Aiman':   0%|          | 0/66 [00:00<?, ?it/s]/usr/local/lib/python3.10/dist-packages/scipy/signal/_signaltools.py:1629: RuntimeWarning: divide by zero encountered in true_divide\n",
            "  res *= (1 - noise / lVar)\n",
            "/usr/local/lib/python3.10/dist-packages/scipy/signal/_signaltools.py:1629: RuntimeWarning: invalid value encountered in multiply\n",
            "  res *= (1 - noise / lVar)\n",
            "Saving vectors of label - '00_Aiman':   2%|▏         | 1/66 [00:10<10:51, 10.03s/it]/usr/local/lib/python3.10/dist-packages/scipy/signal/_signaltools.py:1629: RuntimeWarning: divide by zero encountered in true_divide\n",
            "  res *= (1 - noise / lVar)\n",
            "/usr/local/lib/python3.10/dist-packages/scipy/signal/_signaltools.py:1629: RuntimeWarning: invalid value encountered in multiply\n",
            "  res *= (1 - noise / lVar)\n",
            "Saving vectors of label - '00_Aiman': 100%|██████████| 66/66 [00:48<00:00,  1.36it/s]\n",
            "Saving vectors of label - '01_Rafea': 100%|██████████| 64/64 [00:30<00:00,  2.08it/s]\n",
            "Saving vectors of label - '02_Sakshi': 100%|██████████| 64/64 [00:30<00:00,  2.09it/s]\n",
            "Saving vectors of label - '03_Sham': 100%|██████████| 64/64 [00:31<00:00,  2.04it/s]\n",
            "Saving vectors of label - '04_Danish': 100%|██████████| 58/58 [00:32<00:00,  1.79it/s]\n"
          ]
        }
      ],
      "source": [
        "# print(prepare_dataset(DATA_PATH))\n",
        "from keras.models import Sequential\n",
        "from keras.layers import Dense, Dropout, Flatten, Conv2D, MaxPooling2D, LSTM\n",
        "from keras.utils import to_categorical\n",
        "import wandb\n",
        "from wandb.keras import WandbCallback\n",
        "import matplotlib.pyplot as plt\n",
        "\n",
        "wandb.init()\n",
        "config = wandb.config\n",
        "\n",
        "config.max_len = 64\n",
        "config.buckets = 22\n",
        "\n",
        "# Save data to array file first\n",
        "save_data_to_array(max_len=config.max_len, n_mfcc=config.buckets)\n",
        "\n",
        "# labels=[\"down\", \"go\", \"left\", \"no\", \"off\",\"on\",\"right\",\"stop\",\"up\",\"yes\",\"present\"]\n",
        "labels = [\"zero\",\"one\",\"two\",\"three\",\"four\",\"five\",\"six\",\"seven\",\"eight\",\"nine\"]\n",
        "          #  264e3dd0f984bacda1dc9e1a08a26605aca76ee3"
      ]
    },
    {
      "cell_type": "code",
      "execution_count": null,
      "metadata": {
        "id": "ST47YUBsZUzI"
      },
      "outputs": [],
      "source": [
        "# # Loading train set and test set\n",
        "X_train, X_test, y_train, y_test = get_train_test()"
      ]
    },
    {
      "cell_type": "code",
      "execution_count": null,
      "metadata": {
        "id": "sY8o0ZPw-GLt"
      },
      "outputs": [],
      "source": [
        "channels = 1\n",
        "config.epochs = 50 #50\n",
        "config.batch_size = 100 #100\n",
        "\n",
        "num_classes = 5\n",
        "\n",
        "X_train = X_train.reshape(X_train.shape[0], config.buckets, config.max_len, channels)\n",
        "X_test = X_test.reshape(X_test.shape[0], config.buckets, config.max_len, channels)"
      ]
    },
    {
      "cell_type": "code",
      "execution_count": null,
      "metadata": {
        "colab": {
          "base_uri": "https://localhost:8080/"
        },
        "id": "LQxUHohrxfEb",
        "outputId": "069e7f03-6271-43b2-bb98-f6fcb84074a9"
      },
      "outputs": [
        {
          "output_type": "stream",
          "name": "stdout",
          "text": [
            "(189, 22, 64, 1)\n"
          ]
        }
      ],
      "source": [
        "print(X_train.shape)"
      ]
    },
    {
      "cell_type": "code",
      "execution_count": null,
      "metadata": {
        "colab": {
          "base_uri": "https://localhost:8080/",
          "height": 250
        },
        "id": "Y2Q8GtlGA0FA",
        "outputId": "26f3ec42-c7d9-4ce0-e863-a737d73f08d1"
      },
      "outputs": [
        {
          "output_type": "stream",
          "name": "stdout",
          "text": [
            "3.0\n"
          ]
        },
        {
          "output_type": "display_data",
          "data": {
            "text/plain": [
              "<Figure size 640x480 with 1 Axes>"
            ],
            "image/png": "[encoded data removed]"
          },
          "metadata": {}
        }
      ],
      "source": [
        "plt.imshow(X_train[100, :, :, 0])\n",
        "print(y_train[100])"
      ]
    },
    {
      "cell_type": "code",
      "execution_count": null,
      "metadata": {
        "id": "Jlyur0p-A4xt"
      },
      "outputs": [],
      "source": [
        "y_train_hot = to_categorical(y_train)\n",
        "y_test_hot = to_categorical(y_test)\n",
        "\n",
        "X_train = X_train.reshape(X_train.shape[0], config.buckets, config.max_len)\n",
        "X_test = X_test.reshape(X_test.shape[0], config.buckets, config.max_len)"
      ]
    },
    {
      "cell_type": "markdown",
      "metadata": {
        "id": "CMLC_ARgKSzo"
      },
      "source": [
        "LSTM RNN"
      ]
    },
    {
      "cell_type": "code",
      "execution_count": null,
      "metadata": {
        "colab": {
          "base_uri": "https://localhost:8080/"
        },
        "id": "Ip0VC36RHsLW",
        "outputId": "64fcd0e7-7005-40d0-e439-c509e64eee36"
      },
      "outputs": [
        {
          "output_type": "stream",
          "name": "stderr",
          "text": [
            "\u001b[34m\u001b[1mwandb\u001b[0m: \u001b[33mWARNING\u001b[0m The save_model argument by default saves the model in the HDF5 format that cannot save custom objects like subclassed models and custom layers. This behavior will be deprecated in a future release in favor of the SavedModel format. Meanwhile, the HDF5 model is saved as W&B files and the SavedModel as W&B Artifacts.\n",
            "\u001b[34m\u001b[1mwandb\u001b[0m: \u001b[33mWARNING\u001b[0m The data_type argument of wandb.keras.WandbCallback is deprecated and will be removed in a future release. Please use input_type instead.\n",
            "\u001b[34m\u001b[1mwandb\u001b[0m: \u001b[33mWARNING\u001b[0m Setting input_type = data_type.\n"
          ]
        },
        {
          "output_type": "stream",
          "name": "stdout",
          "text": [
            "Epoch 1/50\n",
            "6/6 [==============================] - ETA: 0s - loss: 1.3302 - accuracy: 0.3598"
          ]
        },
        {
          "output_type": "stream",
          "name": "stderr",
          "text": [
            "WARNING:absl:Found untraced functions such as lstm_cell_layer_call_fn, lstm_cell_layer_call_and_return_conditional_losses while saving (showing 2 of 2). These functions will not be directly callable after loading.\n",
            "\u001b[34m\u001b[1mwandb\u001b[0m: Adding directory to artifact (/content/wandb/run-20230804_122034-e9kndx6z/files/model-best)... Done. 0.0s\n"
          ]
        },
        {
          "output_type": "stream",
          "name": "stdout",
          "text": [
            "\b\b\b\b\b\b\b\b\b\b\b\b\b\b\b\b\b\b\b\b\b\b\b\b\b\b\b\b\b\b\b\b\b\b\b\b\b\b\b\b\b\b\b\b\b\b\b\b\b\b\b\b\b\b\b\b\b\b\b\b\b\b\b\b\b\b\b\b\b\b\b\b\b\b\b\b\b\b\b\b\r6/6 [==============================] - 25s 3s/step - loss: 1.3302 - accuracy: 0.3598 - val_loss: 1.3147 - val_accuracy: 0.4094\n",
            "Epoch 2/50\n",
            "6/6 [==============================] - ETA: 0s - loss: 0.9770 - accuracy: 0.5079"
          ]
        },
        {
          "output_type": "stream",
          "name": "stderr",
          "text": [
            "WARNING:absl:Found untraced functions such as lstm_cell_layer_call_fn, lstm_cell_layer_call_and_return_conditional_losses while saving (showing 2 of 2). These functions will not be directly callable after loading.\n",
            "\u001b[34m\u001b[1mwandb\u001b[0m: Adding directory to artifact (/content/wandb/run-20230804_122034-e9kndx6z/files/model-best)... Done. 0.0s\n"
          ]
        },
        {
          "output_type": "stream",
          "name": "stdout",
          "text": [
            "\b\b\b\b\b\b\b\b\b\b\b\b\b\b\b\b\b\b\b\b\b\b\b\b\b\b\b\b\b\b\b\b\b\b\b\b\b\b\b\b\b\b\b\b\b\b\b\b\b\b\b\b\b\b\b\b\b\b\b\b\b\b\b\b\b\b\b\b\b\b\b\b\b\b\b\b\b\b\b\b\r6/6 [==============================] - 13s 3s/step - loss: 0.9770 - accuracy: 0.5079 - val_loss: 1.1617 - val_accuracy: 0.4646\n",
            "Epoch 3/50\n",
            "6/6 [==============================] - ETA: 0s - loss: 0.7846 - accuracy: 0.5291"
          ]
        },
        {
          "output_type": "stream",
          "name": "stderr",
          "text": [
            "WARNING:absl:Found untraced functions such as lstm_cell_layer_call_fn, lstm_cell_layer_call_and_return_conditional_losses while saving (showing 2 of 2). These functions will not be directly callable after loading.\n",
            "\u001b[34m\u001b[1mwandb\u001b[0m: Adding directory to artifact (/content/wandb/run-20230804_122034-e9kndx6z/files/model-best)... Done. 0.0s\n"
          ]
        },
        {
          "output_type": "stream",
          "name": "stdout",
          "text": [
            "\b\b\b\b\b\b\b\b\b\b\b\b\b\b\b\b\b\b\b\b\b\b\b\b\b\b\b\b\b\b\b\b\b\b\b\b\b\b\b\b\b\b\b\b\b\b\b\b\b\b\b\b\b\b\b\b\b\b\b\b\b\b\b\b\b\b\b\b\b\b\b\b\b\b\b\b\b\b\b\b\r6/6 [==============================] - 10s 2s/step - loss: 0.7846 - accuracy: 0.5291 - val_loss: 1.0310 - val_accuracy: 0.4567\n",
            "Epoch 4/50\n",
            "6/6 [==============================] - ETA: 0s - loss: 0.5952 - accuracy: 0.6243"
          ]
        },
        {
          "output_type": "stream",
          "name": "stderr",
          "text": [
            "WARNING:absl:Found untraced functions such as lstm_cell_layer_call_fn, lstm_cell_layer_call_and_return_conditional_losses while saving (showing 2 of 2). These functions will not be directly callable after loading.\n",
            "\u001b[34m\u001b[1mwandb\u001b[0m: Adding directory to artifact (/content/wandb/run-20230804_122034-e9kndx6z/files/model-best)... Done. 0.0s\n"
          ]
        },
        {
          "output_type": "stream",
          "name": "stdout",
          "text": [
            "\b\b\b\b\b\b\b\b\b\b\b\b\b\b\b\b\b\b\b\b\b\b\b\b\b\b\b\b\b\b\b\b\b\b\b\b\b\b\b\b\b\b\b\b\b\b\b\b\b\b\b\b\b\b\b\b\b\b\b\b\b\b\b\b\b\b\b\b\b\b\b\b\b\b\b\b\b\b\b\b\r6/6 [==============================] - 9s 2s/step - loss: 0.5952 - accuracy: 0.6243 - val_loss: 0.9481 - val_accuracy: 0.5039\n",
            "Epoch 5/50\n",
            "5/6 [========================>.....] - ETA: 0s - loss: 0.5062 - accuracy: 0.7312"
          ]
        },
        {
          "output_type": "stream",
          "name": "stderr",
          "text": [
            "WARNING:absl:Found untraced functions such as lstm_cell_layer_call_fn, lstm_cell_layer_call_and_return_conditional_losses while saving (showing 2 of 2). These functions will not be directly callable after loading.\n",
            "\u001b[34m\u001b[1mwandb\u001b[0m: Adding directory to artifact (/content/wandb/run-20230804_122034-e9kndx6z/files/model-best)... Done. 0.0s\n"
          ]
        },
        {
          "output_type": "stream",
          "name": "stdout",
          "text": [
            "\b\b\b\b\b\b\b\b\b\b\b\b\b\b\b\b\b\b\b\b\b\b\b\b\b\b\b\b\b\b\b\b\b\b\b\b\b\b\b\b\b\b\b\b\b\b\b\b\b\b\b\b\b\b\b\b\b\b\b\b\b\b\b\b\b\b\b\b\b\b\b\b\b\b\b\b\b\b\b\b\r6/6 [==============================] - 16s 3s/step - loss: 0.5515 - accuracy: 0.7196 - val_loss: 0.8457 - val_accuracy: 0.5669\n",
            "Epoch 6/50\n",
            "6/6 [==============================] - ETA: 0s - loss: 0.4871 - accuracy: 0.7354"
          ]
        },
        {
          "output_type": "stream",
          "name": "stderr",
          "text": [
            "WARNING:absl:Found untraced functions such as lstm_cell_layer_call_fn, lstm_cell_layer_call_and_return_conditional_losses while saving (showing 2 of 2). These functions will not be directly callable after loading.\n",
            "\u001b[34m\u001b[1mwandb\u001b[0m: Adding directory to artifact (/content/wandb/run-20230804_122034-e9kndx6z/files/model-best)... Done. 0.0s\n"
          ]
        },
        {
          "output_type": "stream",
          "name": "stdout",
          "text": [
            "\b\b\b\b\b\b\b\b\b\b\b\b\b\b\b\b\b\b\b\b\b\b\b\b\b\b\b\b\b\b\b\b\b\b\b\b\b\b\b\b\b\b\b\b\b\b\b\b\b\b\b\b\b\b\b\b\b\b\b\b\b\b\b\b\b\b\b\b\b\b\b\b\b\b\b\b\b\b\b\b\r6/6 [==============================] - 9s 2s/step - loss: 0.4871 - accuracy: 0.7354 - val_loss: 0.7547 - val_accuracy: 0.5906\n",
            "Epoch 7/50\n",
            "5/6 [========================>.....] - ETA: 0s - loss: 0.4424 - accuracy: 0.7437"
          ]
        },
        {
          "output_type": "stream",
          "name": "stderr",
          "text": [
            "WARNING:absl:Found untraced functions such as lstm_cell_layer_call_fn, lstm_cell_layer_call_and_return_conditional_losses while saving (showing 2 of 2). These functions will not be directly callable after loading.\n",
            "\u001b[34m\u001b[1mwandb\u001b[0m: Adding directory to artifact (/content/wandb/run-20230804_122034-e9kndx6z/files/model-best)... Done. 0.0s\n"
          ]
        },
        {
          "output_type": "stream",
          "name": "stdout",
          "text": [
            "\b\b\b\b\b\b\b\b\b\b\b\b\b\b\b\b\b\b\b\b\b\b\b\b\b\b\b\b\b\b\b\b\b\b\b\b\b\b\b\b\b\b\b\b\b\b\b\b\b\b\b\b\b\b\b\b\b\b\b\b\b\b\b\b\b\b\b\b\b\b\b\b\b\b\b\b\b\b\b\b\r6/6 [==============================] - 6s 1s/step - loss: 0.4610 - accuracy: 0.7460 - val_loss: 0.6948 - val_accuracy: 0.5984\n",
            "Epoch 8/50\n",
            "6/6 [==============================] - ETA: 0s - loss: 0.4354 - accuracy: 0.7196"
          ]
        },
        {
          "output_type": "stream",
          "name": "stderr",
          "text": [
            "WARNING:absl:Found untraced functions such as lstm_cell_layer_call_fn, lstm_cell_layer_call_and_return_conditional_losses while saving (showing 2 of 2). These functions will not be directly callable after loading.\n",
            "\u001b[34m\u001b[1mwandb\u001b[0m: Adding directory to artifact (/content/wandb/run-20230804_122034-e9kndx6z/files/model-best)... Done. 0.0s\n"
          ]
        },
        {
          "output_type": "stream",
          "name": "stdout",
          "text": [
            "\b\b\b\b\b\b\b\b\b\b\b\b\b\b\b\b\b\b\b\b\b\b\b\b\b\b\b\b\b\b\b\b\b\b\b\b\b\b\b\b\b\b\b\b\b\b\b\b\b\b\b\b\b\b\b\b\b\b\b\b\b\b\b\b\b\b\b\b\b\b\b\b\b\b\b\b\b\b\b\b\r6/6 [==============================] - 5s 1s/step - loss: 0.4354 - accuracy: 0.7196 - val_loss: 0.6320 - val_accuracy: 0.5669\n",
            "Epoch 9/50\n",
            "5/6 [========================>.....] - ETA: 0s - loss: 0.4425 - accuracy: 0.7312"
          ]
        },
        {
          "output_type": "stream",
          "name": "stderr",
          "text": [
            "WARNING:absl:Found untraced functions such as lstm_cell_layer_call_fn, lstm_cell_layer_call_and_return_conditional_losses while saving (showing 2 of 2). These functions will not be directly callable after loading.\n",
            "\u001b[34m\u001b[1mwandb\u001b[0m: Adding directory to artifact (/content/wandb/run-20230804_122034-e9kndx6z/files/model-best)... Done. 0.0s\n"
          ]
        },
        {
          "output_type": "stream",
          "name": "stdout",
          "text": [
            "\b\b\b\b\b\b\b\b\b\b\b\b\b\b\b\b\b\b\b\b\b\b\b\b\b\b\b\b\b\b\b\b\b\b\b\b\b\b\b\b\b\b\b\b\b\b\b\b\b\b\b\b\b\b\b\b\b\b\b\b\b\b\b\b\b\b\b\b\b\b\b\b\b\b\b\b\b\b\b\b\r6/6 [==============================] - 7s 1s/step - loss: 0.4254 - accuracy: 0.7196 - val_loss: 0.5998 - val_accuracy: 0.6142\n",
            "Epoch 10/50\n",
            "5/6 [========================>.....] - ETA: 0s - loss: 0.3844 - accuracy: 0.7500"
          ]
        },
        {
          "output_type": "stream",
          "name": "stderr",
          "text": [
            "WARNING:absl:Found untraced functions such as lstm_cell_layer_call_fn, lstm_cell_layer_call_and_return_conditional_losses while saving (showing 2 of 2). These functions will not be directly callable after loading.\n",
            "\u001b[34m\u001b[1mwandb\u001b[0m: Adding directory to artifact (/content/wandb/run-20230804_122034-e9kndx6z/files/model-best)... Done. 0.0s\n"
          ]
        },
        {
          "output_type": "stream",
          "name": "stdout",
          "text": [
            "\b\b\b\b\b\b\b\b\b\b\b\b\b\b\b\b\b\b\b\b\b\b\b\b\b\b\b\b\b\b\b\b\b\b\b\b\b\b\b\b\b\b\b\b\b\b\b\b\b\b\b\b\b\b\b\b\b\b\b\b\b\b\b\b\b\b\b\b\b\b\b\b\b\b\b\b\b\b\b\b\r6/6 [==============================] - 5s 1s/step - loss: 0.4061 - accuracy: 0.7513 - val_loss: 0.5765 - val_accuracy: 0.5906\n",
            "Epoch 11/50\n",
            "5/6 [========================>.....] - ETA: 0s - loss: 0.3705 - accuracy: 0.7625"
          ]
        },
        {
          "output_type": "stream",
          "name": "stderr",
          "text": [
            "WARNING:absl:Found untraced functions such as lstm_cell_layer_call_fn, lstm_cell_layer_call_and_return_conditional_losses while saving (showing 2 of 2). These functions will not be directly callable after loading.\n",
            "\u001b[34m\u001b[1mwandb\u001b[0m: Adding directory to artifact (/content/wandb/run-20230804_122034-e9kndx6z/files/model-best)... Done. 0.0s\n"
          ]
        },
        {
          "output_type": "stream",
          "name": "stdout",
          "text": [
            "\b\b\b\b\b\b\b\b\b\b\b\b\b\b\b\b\b\b\b\b\b\b\b\b\b\b\b\b\b\b\b\b\b\b\b\b\b\b\b\b\b\b\b\b\b\b\b\b\b\b\b\b\b\b\b\b\b\b\b\b\b\b\b\b\b\b\b\b\b\b\b\b\b\b\b\b\b\b\b\b\r6/6 [==============================] - 7s 1s/step - loss: 0.3872 - accuracy: 0.7354 - val_loss: 0.5734 - val_accuracy: 0.5906\n",
            "Epoch 12/50\n",
            "4/6 [===================>..........] - ETA: 0s - loss: 0.3860 - accuracy: 0.7422"
          ]
        },
        {
          "output_type": "stream",
          "name": "stderr",
          "text": [
            "WARNING:absl:Found untraced functions such as lstm_cell_layer_call_fn, lstm_cell_layer_call_and_return_conditional_losses while saving (showing 2 of 2). These functions will not be directly callable after loading.\n",
            "\u001b[34m\u001b[1mwandb\u001b[0m: Adding directory to artifact (/content/wandb/run-20230804_122034-e9kndx6z/files/model-best)... Done. 0.0s\n"
          ]
        },
        {
          "output_type": "stream",
          "name": "stdout",
          "text": [
            "\b\b\b\b\b\b\b\b\b\b\b\b\b\b\b\b\b\b\b\b\b\b\b\b\b\b\b\b\b\b\b\b\b\b\b\b\b\b\b\b\b\b\b\b\b\b\b\b\b\b\b\b\b\b\b\b\b\b\b\b\b\b\b\b\b\b\b\b\b\b\b\b\b\b\b\b\b\b\b\b\r6/6 [==============================] - 7s 1s/step - loss: 0.3655 - accuracy: 0.7513 - val_loss: 0.5662 - val_accuracy: 0.6299\n",
            "Epoch 13/50\n",
            "6/6 [==============================] - ETA: 0s - loss: 0.3615 - accuracy: 0.7513"
          ]
        },
        {
          "output_type": "stream",
          "name": "stderr",
          "text": [
            "WARNING:absl:Found untraced functions such as lstm_cell_layer_call_fn, lstm_cell_layer_call_and_return_conditional_losses while saving (showing 2 of 2). These functions will not be directly callable after loading.\n",
            "\u001b[34m\u001b[1mwandb\u001b[0m: Adding directory to artifact (/content/wandb/run-20230804_122034-e9kndx6z/files/model-best)... Done. 0.0s\n"
          ]
        },
        {
          "output_type": "stream",
          "name": "stdout",
          "text": [
            "\b\b\b\b\b\b\b\b\b\b\b\b\b\b\b\b\b\b\b\b\b\b\b\b\b\b\b\b\b\b\b\b\b\b\b\b\b\b\b\b\b\b\b\b\b\b\b\b\b\b\b\b\b\b\b\b\b\b\b\b\b\b\b\b\b\b\b\b\b\b\b\b\b\b\b\b\b\b\b\b\r6/6 [==============================] - 7s 1s/step - loss: 0.3615 - accuracy: 0.7513 - val_loss: 0.5616 - val_accuracy: 0.6299\n",
            "Epoch 14/50\n",
            "6/6 [==============================] - ETA: 0s - loss: 0.3601 - accuracy: 0.7566"
          ]
        },
        {
          "output_type": "stream",
          "name": "stderr",
          "text": [
            "WARNING:absl:Found untraced functions such as lstm_cell_layer_call_fn, lstm_cell_layer_call_and_return_conditional_losses while saving (showing 2 of 2). These functions will not be directly callable after loading.\n",
            "\u001b[34m\u001b[1mwandb\u001b[0m: Adding directory to artifact (/content/wandb/run-20230804_122034-e9kndx6z/files/model-best)... Done. 0.0s\n"
          ]
        },
        {
          "output_type": "stream",
          "name": "stdout",
          "text": [
            "\b\b\b\b\b\b\b\b\b\b\b\b\b\b\b\b\b\b\b\b\b\b\b\b\b\b\b\b\b\b\b\b\b\b\b\b\b\b\b\b\b\b\b\b\b\b\b\b\b\b\b\b\b\b\b\b\b\b\b\b\b\b\b\b\b\b\b\b\b\b\b\b\b\b\b\b\b\b\b\b\r6/6 [==============================] - 8s 2s/step - loss: 0.3601 - accuracy: 0.7566 - val_loss: 0.5583 - val_accuracy: 0.6299\n",
            "Epoch 15/50\n",
            "6/6 [==============================] - 0s 37ms/step - loss: 0.3616 - accuracy: 0.7143 - val_loss: 0.5592 - val_accuracy: 0.5906\n",
            "Epoch 16/50\n",
            "5/6 [========================>.....] - ETA: 0s - loss: 0.3336 - accuracy: 0.7437"
          ]
        },
        {
          "output_type": "stream",
          "name": "stderr",
          "text": [
            "WARNING:absl:Found untraced functions such as lstm_cell_layer_call_fn, lstm_cell_layer_call_and_return_conditional_losses while saving (showing 2 of 2). These functions will not be directly callable after loading.\n",
            "\u001b[34m\u001b[1mwandb\u001b[0m: Adding directory to artifact (/content/wandb/run-20230804_122034-e9kndx6z/files/model-best)... Done. 0.0s\n"
          ]
        },
        {
          "output_type": "stream",
          "name": "stdout",
          "text": [
            "\b\b\b\b\b\b\b\b\b\b\b\b\b\b\b\b\b\b\b\b\b\b\b\b\b\b\b\b\b\b\b\b\b\b\b\b\b\b\b\b\b\b\b\b\b\b\b\b\b\b\b\b\b\b\b\b\b\b\b\b\b\b\b\b\b\b\b\b\b\b\b\b\b\b\b\b\b\b\b\b\r6/6 [==============================] - 7s 1s/step - loss: 0.3452 - accuracy: 0.7513 - val_loss: 0.5537 - val_accuracy: 0.6299\n",
            "Epoch 17/50\n",
            "6/6 [==============================] - ETA: 0s - loss: 0.3410 - accuracy: 0.7725"
          ]
        },
        {
          "output_type": "stream",
          "name": "stderr",
          "text": [
            "WARNING:absl:Found untraced functions such as lstm_cell_layer_call_fn, lstm_cell_layer_call_and_return_conditional_losses while saving (showing 2 of 2). These functions will not be directly callable after loading.\n",
            "\u001b[34m\u001b[1mwandb\u001b[0m: Adding directory to artifact (/content/wandb/run-20230804_122034-e9kndx6z/files/model-best)... Done. 0.0s\n"
          ]
        },
        {
          "output_type": "stream",
          "name": "stdout",
          "text": [
            "\b\b\b\b\b\b\b\b\b\b\b\b\b\b\b\b\b\b\b\b\b\b\b\b\b\b\b\b\b\b\b\b\b\b\b\b\b\b\b\b\b\b\b\b\b\b\b\b\b\b\b\b\b\b\b\b\b\b\b\b\b\b\b\b\b\b\b\b\b\b\b\b\b\b\b\b\b\b\b\b\r6/6 [==============================] - 6s 1s/step - loss: 0.3410 - accuracy: 0.7725 - val_loss: 0.5515 - val_accuracy: 0.6299\n",
            "Epoch 18/50\n",
            "6/6 [==============================] - ETA: 0s - loss: 0.3288 - accuracy: 0.7672"
          ]
        },
        {
          "output_type": "stream",
          "name": "stderr",
          "text": [
            "WARNING:absl:Found untraced functions such as lstm_cell_layer_call_fn, lstm_cell_layer_call_and_return_conditional_losses while saving (showing 2 of 2). These functions will not be directly callable after loading.\n",
            "\u001b[34m\u001b[1mwandb\u001b[0m: Adding directory to artifact (/content/wandb/run-20230804_122034-e9kndx6z/files/model-best)... Done. 0.0s\n"
          ]
        },
        {
          "output_type": "stream",
          "name": "stdout",
          "text": [
            "\b\b\b\b\b\b\b\b\b\b\b\b\b\b\b\b\b\b\b\b\b\b\b\b\b\b\b\b\b\b\b\b\b\b\b\b\b\b\b\b\b\b\b\b\b\b\b\b\b\b\b\b\b\b\b\b\b\b\b\b\b\b\b\b\b\b\b\b\b\b\b\b\b\b\b\b\b\b\b\b\r6/6 [==============================] - 6s 1s/step - loss: 0.3288 - accuracy: 0.7672 - val_loss: 0.5514 - val_accuracy: 0.5906\n",
            "Epoch 19/50\n",
            "6/6 [==============================] - ETA: 0s - loss: 0.3288 - accuracy: 0.7407"
          ]
        },
        {
          "output_type": "stream",
          "name": "stderr",
          "text": [
            "WARNING:absl:Found untraced functions such as lstm_cell_layer_call_fn, lstm_cell_layer_call_and_return_conditional_losses while saving (showing 2 of 2). These functions will not be directly callable after loading.\n",
            "\u001b[34m\u001b[1mwandb\u001b[0m: Adding directory to artifact (/content/wandb/run-20230804_122034-e9kndx6z/files/model-best)... Done. 0.0s\n"
          ]
        },
        {
          "output_type": "stream",
          "name": "stdout",
          "text": [
            "\b\b\b\b\b\b\b\b\b\b\b\b\b\b\b\b\b\b\b\b\b\b\b\b\b\b\b\b\b\b\b\b\b\b\b\b\b\b\b\b\b\b\b\b\b\b\b\b\b\b\b\b\b\b\b\b\b\b\b\b\b\b\b\b\b\b\b\b\b\b\b\b\b\b\b\b\b\b\b\b\r6/6 [==============================] - 6s 1s/step - loss: 0.3288 - accuracy: 0.7407 - val_loss: 0.5481 - val_accuracy: 0.6299\n",
            "Epoch 20/50\n",
            "6/6 [==============================] - 0s 36ms/step - loss: 0.3136 - accuracy: 0.7725 - val_loss: 0.5506 - val_accuracy: 0.5827\n",
            "Epoch 21/50\n",
            "6/6 [==============================] - 0s 33ms/step - loss: 0.3143 - accuracy: 0.7407 - val_loss: 0.5482 - val_accuracy: 0.6378\n",
            "Epoch 22/50\n",
            "6/6 [==============================] - 0s 35ms/step - loss: 0.3102 - accuracy: 0.7831 - val_loss: 0.5528 - val_accuracy: 0.5984\n",
            "Epoch 23/50\n",
            "6/6 [==============================] - ETA: 0s - loss: 0.3092 - accuracy: 0.7725"
          ]
        },
        {
          "output_type": "stream",
          "name": "stderr",
          "text": [
            "WARNING:absl:Found untraced functions such as lstm_cell_layer_call_fn, lstm_cell_layer_call_and_return_conditional_losses while saving (showing 2 of 2). These functions will not be directly callable after loading.\n",
            "\u001b[34m\u001b[1mwandb\u001b[0m: Adding directory to artifact (/content/wandb/run-20230804_122034-e9kndx6z/files/model-best)... Done. 0.0s\n"
          ]
        },
        {
          "output_type": "stream",
          "name": "stdout",
          "text": [
            "\b\b\b\b\b\b\b\b\b\b\b\b\b\b\b\b\b\b\b\b\b\b\b\b\b\b\b\b\b\b\b\b\b\b\b\b\b\b\b\b\b\b\b\b\b\b\b\b\b\b\b\b\b\b\b\b\b\b\b\b\b\b\b\b\b\b\b\b\b\b\b\b\b\b\b\b\b\b\b\b\r6/6 [==============================] - 6s 1s/step - loss: 0.3092 - accuracy: 0.7725 - val_loss: 0.5309 - val_accuracy: 0.5906\n",
            "Epoch 24/50\n",
            "6/6 [==============================] - ETA: 0s - loss: 0.3073 - accuracy: 0.7725"
          ]
        },
        {
          "output_type": "stream",
          "name": "stderr",
          "text": [
            "WARNING:absl:Found untraced functions such as lstm_cell_layer_call_fn, lstm_cell_layer_call_and_return_conditional_losses while saving (showing 2 of 2). These functions will not be directly callable after loading.\n",
            "\u001b[34m\u001b[1mwandb\u001b[0m: Adding directory to artifact (/content/wandb/run-20230804_122034-e9kndx6z/files/model-best)... Done. 0.0s\n"
          ]
        },
        {
          "output_type": "stream",
          "name": "stdout",
          "text": [
            "\b\b\b\b\b\b\b\b\b\b\b\b\b\b\b\b\b\b\b\b\b\b\b\b\b\b\b\b\b\b\b\b\b\b\b\b\b\b\b\b\b\b\b\b\b\b\b\b\b\b\b\b\b\b\b\b\b\b\b\b\b\b\b\b\b\b\b\b\b\b\b\b\b\b\b\b\b\b\b\b\r6/6 [==============================] - 7s 1s/step - loss: 0.3073 - accuracy: 0.7725 - val_loss: 0.5295 - val_accuracy: 0.6378\n",
            "Epoch 25/50\n",
            "6/6 [==============================] - 0s 35ms/step - loss: 0.3069 - accuracy: 0.7884 - val_loss: 0.5309 - val_accuracy: 0.6299\n",
            "Epoch 26/50\n",
            "6/6 [==============================] - 0s 37ms/step - loss: 0.3083 - accuracy: 0.7884 - val_loss: 0.5348 - val_accuracy: 0.6299\n",
            "Epoch 27/50\n",
            "6/6 [==============================] - 0s 37ms/step - loss: 0.3059 - accuracy: 0.7989 - val_loss: 0.5526 - val_accuracy: 0.5906\n",
            "Epoch 28/50\n",
            "6/6 [==============================] - 0s 48ms/step - loss: 0.3077 - accuracy: 0.7725 - val_loss: 0.5539 - val_accuracy: 0.5906\n",
            "Epoch 29/50\n",
            "6/6 [==============================] - 0s 74ms/step - loss: 0.3061 - accuracy: 0.7778 - val_loss: 0.5524 - val_accuracy: 0.6299\n",
            "Epoch 30/50\n",
            "6/6 [==============================] - 0s 36ms/step - loss: 0.3069 - accuracy: 0.7884 - val_loss: 0.5397 - val_accuracy: 0.6299\n",
            "Epoch 31/50\n",
            "6/6 [==============================] - 0s 40ms/step - loss: 0.3072 - accuracy: 0.7566 - val_loss: 0.5566 - val_accuracy: 0.5906\n",
            "Epoch 32/50\n",
            "6/6 [==============================] - 0s 35ms/step - loss: 0.3075 - accuracy: 0.7249 - val_loss: 0.5699 - val_accuracy: 0.6299\n",
            "Epoch 33/50\n",
            "6/6 [==============================] - 0s 39ms/step - loss: 0.3097 - accuracy: 0.7884 - val_loss: 0.5419 - val_accuracy: 0.6299\n",
            "Epoch 34/50\n",
            "6/6 [==============================] - 0s 33ms/step - loss: 0.3069 - accuracy: 0.7884 - val_loss: 0.5435 - val_accuracy: 0.6299\n",
            "Epoch 35/50\n",
            "6/6 [==============================] - 0s 34ms/step - loss: 0.3059 - accuracy: 0.7619 - val_loss: 0.5576 - val_accuracy: 0.5906\n",
            "Epoch 36/50\n",
            "6/6 [==============================] - 0s 38ms/step - loss: 0.3068 - accuracy: 0.7725 - val_loss: 0.5576 - val_accuracy: 0.5906\n",
            "Epoch 37/50\n",
            "6/6 [==============================] - 0s 39ms/step - loss: 0.3068 - accuracy: 0.7725 - val_loss: 0.5440 - val_accuracy: 0.6299\n",
            "Epoch 38/50\n",
            "6/6 [==============================] - 0s 44ms/step - loss: 0.3059 - accuracy: 0.7884 - val_loss: 0.5441 - val_accuracy: 0.6299\n",
            "Epoch 39/50\n",
            "6/6 [==============================] - 0s 38ms/step - loss: 0.3061 - accuracy: 0.7884 - val_loss: 0.5450 - val_accuracy: 0.6299\n",
            "Epoch 40/50\n",
            "6/6 [==============================] - 0s 35ms/step - loss: 0.3061 - accuracy: 0.7884 - val_loss: 0.5447 - val_accuracy: 0.6299\n",
            "Epoch 41/50\n",
            "6/6 [==============================] - 0s 40ms/step - loss: 0.3069 - accuracy: 0.7884 - val_loss: 0.5550 - val_accuracy: 0.6299\n",
            "Epoch 42/50\n",
            "6/6 [==============================] - 0s 34ms/step - loss: 0.3065 - accuracy: 0.7566 - val_loss: 0.5589 - val_accuracy: 0.5906\n",
            "Epoch 43/50\n",
            "6/6 [==============================] - 0s 36ms/step - loss: 0.3065 - accuracy: 0.7725 - val_loss: 0.5556 - val_accuracy: 0.6299\n",
            "Epoch 44/50\n",
            "6/6 [==============================] - 0s 45ms/step - loss: 0.3075 - accuracy: 0.7884 - val_loss: 0.5560 - val_accuracy: 0.6299\n",
            "Epoch 45/50\n",
            "6/6 [==============================] - 0s 35ms/step - loss: 0.3060 - accuracy: 0.7725 - val_loss: 0.5597 - val_accuracy: 0.5906\n",
            "Epoch 46/50\n",
            "6/6 [==============================] - 0s 33ms/step - loss: 0.3085 - accuracy: 0.7725 - val_loss: 0.5603 - val_accuracy: 0.5906\n",
            "Epoch 47/50\n",
            "6/6 [==============================] - 0s 34ms/step - loss: 0.3061 - accuracy: 0.7884 - val_loss: 0.5536 - val_accuracy: 0.6299\n",
            "Epoch 48/50\n",
            "6/6 [==============================] - 0s 35ms/step - loss: 0.3068 - accuracy: 0.7884 - val_loss: 0.5552 - val_accuracy: 0.6299\n",
            "Epoch 49/50\n",
            "6/6 [==============================] - 0s 36ms/step - loss: 0.3063 - accuracy: 0.7725 - val_loss: 0.5607 - val_accuracy: 0.5906\n",
            "Epoch 50/50\n",
            "6/6 [==============================] - 0s 36ms/step - loss: 0.3072 - accuracy: 0.7725 - val_loss: 0.5605 - val_accuracy: 0.5906\n",
            "<keras.callbacks.History object at 0x7a068ebd2140>\n"
          ]
        }
      ],
      "source": [
        "from keras.models import Sequential\n",
        "from keras.layers import LSTM, SimpleRNN, Dense\n",
        "\n",
        "# Define the model\n",
        "# model = Sequential()\n",
        "# model.add(LSTM(64, input_shape=(config.buckets, config.max_len))) # 64 is the number of LSTM units\n",
        "# model.add(Dense(4, activation='sigmoid')) # Output layer with sigmoid activation\n",
        "model = Sequential()\n",
        "model.add(LSTM(64, input_shape=(config.buckets, config.max_len), return_sequences=True))\n",
        "model.add(SimpleRNN(64, return_sequences=False))\n",
        "model.add(Dense(5))\n",
        "\n",
        "\n",
        "# Compile the model\n",
        "model.compile(loss='binary_crossentropy', optimizer='adam', metrics=['accuracy'])\n",
        "\n",
        "# Train the modelwandb.init()\n",
        "x=model.fit(X_train, y_train_hot, epochs=config.epochs, validation_data=(X_test, y_test_hot), callbacks=[WandbCallback(data_type=\"audio\", labels=labels)])\n",
        "print(x)\n"
      ]
    },
    {
      "cell_type": "code",
      "execution_count": null,
      "metadata": {
        "colab": {
          "base_uri": "https://localhost:8080/"
        },
        "id": "YPQuBzGbJMaP",
        "outputId": "99d8440c-13ab-446a-b329-bda299ab20cc"
      },
      "outputs": [
        {
          "output_type": "stream",
          "name": "stdout",
          "text": [
            "4/4 [==============================] - 0s 7ms/step - loss: 0.5605 - accuracy: 0.5906\n"
          ]
        }
      ],
      "source": [
        "# Evaluate the model\n",
        "loss, accuracy = model.evaluate(X_test, y_test_hot)\n",
        "\n",
        "# # Make predictions\n",
        "# predictions = model.predict(X_test)"
      ]
    },
    {
      "cell_type": "code",
      "execution_count": null,
      "metadata": {
        "colab": {
          "base_uri": "https://localhost:8080/"
        },
        "id": "nXaGQVCGKdN3",
        "outputId": "b465a8a1-8d7d-4cc0-ede6-629380ecfb42"
      },
      "outputs": [
        {
          "output_type": "stream",
          "name": "stdout",
          "text": [
            "4/4 [==============================] - 0s 7ms/step - loss: 0.5605 - accuracy: 0.5906\n",
            "Test error: 0.5604835748672485, test_accuracy: 0.5905511975288391\n"
          ]
        }
      ],
      "source": [
        "test_error, test_accuracy = model.evaluate(X_test, y_test_hot)\n",
        "print(f\"Test error: {test_error}, test_accuracy: {test_accuracy}\")"
      ]
    },
    {
      "cell_type": "code",
      "execution_count": null,
      "metadata": {
        "colab": {
          "base_uri": "https://localhost:8080/"
        },
        "id": "xf0sh3__L6TG",
        "outputId": "d0534987-71a5-4767-900f-4ee384f55a42"
      },
      "outputs": [
        {
          "output_type": "stream",
          "name": "stdout",
          "text": [
            "4/4 [==============================] - 0s 6ms/step\n",
            "Accuracy: 0.84251968503937\n"
          ]
        }
      ],
      "source": [
        "predictions = model.predict(X_test)\n",
        "\n",
        "# Convert predictions to binary values (if necessary)\n",
        "binary_predictions = (predictions > 0.5).astype(int)\n",
        "\n",
        "# Calculate accuracy\n",
        "accuracy = (binary_predictions == y_test_hot).mean()\n",
        "\n",
        "# Print the accuracy\n",
        "print(\"Accuracy:\", accuracy)\n"
      ]
    },
    {
      "cell_type": "markdown",
      "metadata": {
        "id": "9TVg70IaIuPW"
      },
      "source": [
        "LSTM"
      ]
    },
    {
      "cell_type": "code",
      "execution_count": null,
      "metadata": {
        "id": "8SM36ZddHh67"
      },
      "outputs": [],
      "source": [
        "from keras.models import Sequential\n",
        "from keras.layers import LSTM, SimpleRNN, Dense"
      ]
    },
    {
      "cell_type": "code",
      "execution_count": null,
      "metadata": {
        "id": "cE3ycoHHHNoP"
      },
      "outputs": [],
      "source": [
        "model = Sequential()\n",
        "model.add(LSTM(128, input_shape=(config.buckets, config.max_len)))  # Adjust input shape as per your data\n",
        "model.add(Dense(num_classes, activation='softmax'))"
      ]
    },
    {
      "cell_type": "code",
      "execution_count": null,
      "metadata": {
        "id": "MAva6UwRH16U"
      },
      "outputs": [],
      "source": [
        "model.compile(loss=\"categorical_crossentropy\",\n",
        "                  optimizer=\"adam\",\n",
        "                  metrics=['accuracy'])"
      ]
    },
    {
      "cell_type": "code",
      "execution_count": null,
      "metadata": {
        "colab": {
          "base_uri": "https://localhost:8080/",
          "height": 1000,
          "referenced_widgets": [
            "040e8e4ccbcd4e3aa95335a23c8f6167",
            "77798e2b52f849bcbf61c2c7faf9c797",
            "c745e3cb4f85476cb110721f0c03ed4f",
            "ba9fb2df67a3492faa62efdde206bf2c",
            "217f0a830bb245b3987625f48dd4e9f1",
            "0cd88bf11fcd44c3b62e040d90d4e472",
            "14499bb321ed4346ac9ef086a8293dbc",
            "5c24794b5fd342219aed7fcefd8d25b8"
          ]
        },
        "id": "RXFJ7oHdH4KJ",
        "outputId": "2a6a9f87-b55c-4b2b-b1df-6ff43994c1e7"
      },
      "outputs": [
        {
          "output_type": "display_data",
          "data": {
            "text/plain": [
              "<IPython.core.display.HTML object>"
            ],
            "text/html": [
              "Finishing last run (ID:e9kndx6z) before initializing another..."
            ]
          },
          "metadata": {}
        },
        {
          "output_type": "display_data",
          "data": {
            "text/plain": [
              "<IPython.core.display.HTML object>"
            ],
            "text/html": [
              "Waiting for W&B process to finish... <strong style=\"color:green\">(success).</strong>"
            ]
          },
          "metadata": {}
        },
        {
          "output_type": "display_data",
          "data": {
            "text/plain": [
              "VBox(children=(Label(value='29.149 MB of 29.149 MB uploaded (0.245 MB deduped)\\r'), FloatProgress(value=1.0, m…"
            ],
            "application/vnd.jupyter.widget-view+json": {
              "version_major": 2,
              "version_minor": 0,
              "model_id": "040e8e4ccbcd4e3aa95335a23c8f6167"
            }
          },
          "metadata": {}
        },
        {
          "output_type": "display_data",
          "data": {
            "text/plain": [
              "<IPython.core.display.HTML object>"
            ],
            "text/html": [
              "<style>\n",
              "    table.wandb td:nth-child(1) { padding: 0 10px; text-align: left ; width: auto;} td:nth-child(2) {text-align: left ; width: 100%}\n",
              "    .wandb-row { display: flex; flex-direction: row; flex-wrap: wrap; justify-content: flex-start; width: 100% }\n",
              "    .wandb-col { display: flex; flex-direction: column; flex-basis: 100%; flex: 1; padding: 10px; }\n",
              "    </style>\n",
              "<div class=\"wandb-row\"><div class=\"wandb-col\"><h3>Run history:</h3><br/><table class=\"wandb\"><tr><td>accuracy</td><td>▁▃▄▅▇▇▇▇▇▇▇▇▇█▇▇▇███████▇▇███████▇██████</td></tr><tr><td>epoch</td><td>▁▁▁▁▂▂▂▂▂▃▃▃▃▃▃▄▄▄▄▄▅▅▅▅▅▅▆▆▆▆▆▆▇▇▇▇▇███</td></tr><tr><td>loss</td><td>█▆▄▃▂▂▂▂▂▁▁▁▁▁▁▁▁▁▁▁▁▁▁▁▁▁▁▁▁▁▁▁▁▁▁▁▁▁▁▁</td></tr><tr><td>val_accuracy</td><td>▁▃▂▄▇▇▆▇▇█████▇██▇▇██▇▇█▇███▇████▇██▇██▇</td></tr><tr><td>val_loss</td><td>█▇▅▅▃▂▂▂▁▁▁▁▁▁▁▁▁▁▁▁▁▁▁▁▁▁▁▁▁▁▁▁▁▁▁▁▁▁▁▁</td></tr></table><br/></div><div class=\"wandb-col\"><h3>Run summary:</h3><br/><table class=\"wandb\"><tr><td>accuracy</td><td>0.77249</td></tr><tr><td>best_epoch</td><td>23</td></tr><tr><td>best_val_loss</td><td>0.52945</td></tr><tr><td>epoch</td><td>49</td></tr><tr><td>loss</td><td>0.30723</td></tr><tr><td>val_accuracy</td><td>0.59055</td></tr><tr><td>val_loss</td><td>0.56048</td></tr></table><br/></div></div>"
            ]
          },
          "metadata": {}
        },
        {
          "output_type": "display_data",
          "data": {
            "text/plain": [
              "<IPython.core.display.HTML object>"
            ],
            "text/html": [
              " View run <strong style=\"color:#cdcd00\">iconic-forest-121</strong> at: <a href='https://wandb.ai/speaker_recognitionas/uncategorized/runs/e9kndx6z' target=\"_blank\">https://wandb.ai/speaker_recognitionas/uncategorized/runs/e9kndx6z</a><br/>Synced 5 W&B file(s), 1 media file(s), 100 artifact file(s) and 1 other file(s)"
            ]
          },
          "metadata": {}
        },
        {
          "output_type": "display_data",
          "data": {
            "text/plain": [
              "<IPython.core.display.HTML object>"
            ],
            "text/html": [
              "Find logs at: <code>./wandb/run-20230804_122034-e9kndx6z/logs</code>"
            ]
          },
          "metadata": {}
        },
        {
          "output_type": "display_data",
          "data": {
            "text/plain": [
              "<IPython.core.display.HTML object>"
            ],
            "text/html": [
              "Successfully finished last run (ID:e9kndx6z). Initializing new run:<br/>"
            ]
          },
          "metadata": {}
        },
        {
          "output_type": "display_data",
          "data": {
            "text/plain": [
              "<IPython.core.display.HTML object>"
            ],
            "text/html": [
              "Tracking run with wandb version 0.15.8"
            ]
          },
          "metadata": {}
        },
        {
          "output_type": "display_data",
          "data": {
            "text/plain": [
              "<IPython.core.display.HTML object>"
            ],
            "text/html": [
              "Run data is saved locally in <code>/content/wandb/run-20230804_122701-5htvodn9</code>"
            ]
          },
          "metadata": {}
        },
        {
          "output_type": "display_data",
          "data": {
            "text/plain": [
              "<IPython.core.display.HTML object>"
            ],
            "text/html": [
              "Syncing run <strong><a href='https://wandb.ai/speaker_recognitionas/uncategorized/runs/5htvodn9' target=\"_blank\">scarlet-voice-122</a></strong> to <a href='https://wandb.ai/speaker_recognitionas/uncategorized' target=\"_blank\">Weights & Biases</a> (<a href='https://wandb.me/run' target=\"_blank\">docs</a>)<br/>"
            ]
          },
          "metadata": {}
        },
        {
          "output_type": "display_data",
          "data": {
            "text/plain": [
              "<IPython.core.display.HTML object>"
            ],
            "text/html": [
              " View project at <a href='https://wandb.ai/speaker_recognitionas/uncategorized' target=\"_blank\">https://wandb.ai/speaker_recognitionas/uncategorized</a>"
            ]
          },
          "metadata": {}
        },
        {
          "output_type": "display_data",
          "data": {
            "text/plain": [
              "<IPython.core.display.HTML object>"
            ],
            "text/html": [
              " View run at <a href='https://wandb.ai/speaker_recognitionas/uncategorized/runs/5htvodn9' target=\"_blank\">https://wandb.ai/speaker_recognitionas/uncategorized/runs/5htvodn9</a>"
            ]
          },
          "metadata": {}
        },
        {
          "output_type": "stream",
          "name": "stdout",
          "text": [
            "Epoch 1/50\n",
            "1/6 [====>.........................] - ETA: 14s - loss: 1.6668 - accuracy: 0.4062"
          ]
        },
        {
          "output_type": "stream",
          "name": "stderr",
          "text": [
            "WARNING:absl:Found untraced functions such as lstm_cell_1_layer_call_fn, lstm_cell_1_layer_call_and_return_conditional_losses while saving (showing 2 of 2). These functions will not be directly callable after loading.\n",
            "\u001b[34m\u001b[1mwandb\u001b[0m: Adding directory to artifact (/content/wandb/run-20230804_122701-5htvodn9/files/model-best)... Done. 0.0s\n"
          ]
        },
        {
          "output_type": "stream",
          "name": "stdout",
          "text": [
            "\b\b\b\b\b\b\b\b\b\b\b\b\b\b\b\b\b\b\b\b\b\b\b\b\b\b\b\b\b\b\b\b\b\b\b\b\b\b\b\b\b\b\b\b\b\b\b\b\b\b\b\b\b\b\b\b\b\b\b\b\b\b\b\b\b\b\b\b\b\b\b\b\b\b\b\b\b\b\b\b\b\r6/6 [==============================] - 9s 1s/step - loss: 1.4673 - accuracy: 0.4392 - val_loss: 1.1557 - val_accuracy: 0.6929\n",
            "Epoch 2/50\n",
            "1/6 [====>.........................] - ETA: 0s - loss: 1.1732 - accuracy: 0.5938"
          ]
        },
        {
          "output_type": "stream",
          "name": "stderr",
          "text": [
            "WARNING:absl:Found untraced functions such as lstm_cell_1_layer_call_fn, lstm_cell_1_layer_call_and_return_conditional_losses while saving (showing 2 of 2). These functions will not be directly callable after loading.\n",
            "\u001b[34m\u001b[1mwandb\u001b[0m: Adding directory to artifact (/content/wandb/run-20230804_122701-5htvodn9/files/model-best)... Done. 0.0s\n"
          ]
        },
        {
          "output_type": "stream",
          "name": "stdout",
          "text": [
            "\b\b\b\b\b\b\b\b\b\b\b\b\b\b\b\b\b\b\b\b\b\b\b\b\b\b\b\b\b\b\b\b\b\b\b\b\b\b\b\b\b\b\b\b\b\b\b\b\b\b\b\b\b\b\b\b\b\b\b\b\b\b\b\b\b\b\b\b\b\b\b\b\b\b\b\b\b\b\b\b\r6/6 [==============================] - 5s 991ms/step - loss: 0.9847 - accuracy: 0.6984 - val_loss: 0.8612 - val_accuracy: 0.7008\n",
            "Epoch 3/50\n",
            "1/6 [====>.........................] - ETA: 0s - loss: 0.7247 - accuracy: 0.7500"
          ]
        },
        {
          "output_type": "stream",
          "name": "stderr",
          "text": [
            "WARNING:absl:Found untraced functions such as lstm_cell_1_layer_call_fn, lstm_cell_1_layer_call_and_return_conditional_losses while saving (showing 2 of 2). These functions will not be directly callable after loading.\n",
            "\u001b[34m\u001b[1mwandb\u001b[0m: Adding directory to artifact (/content/wandb/run-20230804_122701-5htvodn9/files/model-best)... Done. 0.0s\n"
          ]
        },
        {
          "output_type": "stream",
          "name": "stdout",
          "text": [
            "\b\b\b\b\b\b\b\b\b\b\b\b\b\b\b\b\b\b\b\b\b\b\b\b\b\b\b\b\b\b\b\b\b\b\b\b\b\b\b\b\b\b\b\b\b\b\b\b\b\b\b\b\b\b\b\b\b\b\b\b\b\b\b\b\b\b\b\b\b\b\b\b\b\b\b\b\b\b\b\b\r6/6 [==============================] - 4s 803ms/step - loss: 0.6279 - accuracy: 0.7778 - val_loss: 0.6274 - val_accuracy: 0.7087\n",
            "Epoch 4/50\n",
            "1/6 [====>.........................] - ETA: 0s - loss: 0.5068 - accuracy: 0.8125"
          ]
        },
        {
          "output_type": "stream",
          "name": "stderr",
          "text": [
            "WARNING:absl:Found untraced functions such as lstm_cell_1_layer_call_fn, lstm_cell_1_layer_call_and_return_conditional_losses while saving (showing 2 of 2). These functions will not be directly callable after loading.\n",
            "\u001b[34m\u001b[1mwandb\u001b[0m: Adding directory to artifact (/content/wandb/run-20230804_122701-5htvodn9/files/model-best)... Done. 0.0s\n"
          ]
        },
        {
          "output_type": "stream",
          "name": "stdout",
          "text": [
            "\b\b\b\b\b\b\b\b\b\b\b\b\b\b\b\b\b\b\b\b\b\b\b\b\b\b\b\b\b\b\b\b\b\b\b\b\b\b\b\b\b\b\b\b\b\b\b\b\b\b\b\b\b\b\b\b\b\b\b\b\b\b\b\b\b\b\b\b\b\b\b\b\b\b\b\b\b\b\b\b\r6/6 [==============================] - 5s 1s/step - loss: 0.4499 - accuracy: 0.7989 - val_loss: 0.5606 - val_accuracy: 0.7559\n",
            "Epoch 5/50\n",
            "1/6 [====>.........................] - ETA: 0s - loss: 0.4720 - accuracy: 0.6875"
          ]
        },
        {
          "output_type": "stream",
          "name": "stderr",
          "text": [
            "WARNING:absl:Found untraced functions such as lstm_cell_1_layer_call_fn, lstm_cell_1_layer_call_and_return_conditional_losses while saving (showing 2 of 2). These functions will not be directly callable after loading.\n",
            "\u001b[34m\u001b[1mwandb\u001b[0m: Adding directory to artifact (/content/wandb/run-20230804_122701-5htvodn9/files/model-best)... Done. 0.0s\n"
          ]
        },
        {
          "output_type": "stream",
          "name": "stdout",
          "text": [
            "\b\b\b\b\b\b\b\b\b\b\b\b\b\b\b\b\b\b\b\b\b\b\b\b\b\b\b\b\b\b\b\b\b\b\b\b\b\b\b\b\b\b\b\b\b\b\b\b\b\b\b\b\b\b\b\b\b\b\b\b\b\b\b\b\b\b\b\b\b\b\b\b\b\b\b\b\b\b\b\b\r6/6 [==============================] - 5s 996ms/step - loss: 0.3850 - accuracy: 0.7725 - val_loss: 0.5328 - val_accuracy: 0.7638\n",
            "Epoch 6/50\n",
            "1/6 [====>.........................] - ETA: 0s - loss: 0.3852 - accuracy: 0.7812"
          ]
        },
        {
          "output_type": "stream",
          "name": "stderr",
          "text": [
            "WARNING:absl:Found untraced functions such as lstm_cell_1_layer_call_fn, lstm_cell_1_layer_call_and_return_conditional_losses while saving (showing 2 of 2). These functions will not be directly callable after loading.\n",
            "\u001b[34m\u001b[1mwandb\u001b[0m: Adding directory to artifact (/content/wandb/run-20230804_122701-5htvodn9/files/model-best)... Done. 0.0s\n"
          ]
        },
        {
          "output_type": "stream",
          "name": "stdout",
          "text": [
            "\b\b\b\b\b\b\b\b\b\b\b\b\b\b\b\b\b\b\b\b\b\b\b\b\b\b\b\b\b\b\b\b\b\b\b\b\b\b\b\b\b\b\b\b\b\b\b\b\b\b\b\b\b\b\b\b\b\b\b\b\b\b\b\b\b\b\b\b\b\b\b\b\b\b\b\b\b\b\b\b\r6/6 [==============================] - 6s 1s/step - loss: 0.3486 - accuracy: 0.7672 - val_loss: 0.5124 - val_accuracy: 0.7795\n",
            "Epoch 7/50\n",
            "1/6 [====>.........................] - ETA: 0s - loss: 0.2772 - accuracy: 0.8750"
          ]
        },
        {
          "output_type": "stream",
          "name": "stderr",
          "text": [
            "WARNING:absl:Found untraced functions such as lstm_cell_1_layer_call_fn, lstm_cell_1_layer_call_and_return_conditional_losses while saving (showing 2 of 2). These functions will not be directly callable after loading.\n",
            "\u001b[34m\u001b[1mwandb\u001b[0m: Adding directory to artifact (/content/wandb/run-20230804_122701-5htvodn9/files/model-best)... Done. 0.0s\n"
          ]
        },
        {
          "output_type": "stream",
          "name": "stdout",
          "text": [
            "\b\b\b\b\b\b\b\b\b\b\b\b\b\b\b\b\b\b\b\b\b\b\b\b\b\b\b\b\b\b\b\b\b\b\b\b\b\b\b\b\b\b\b\b\b\b\b\b\b\b\b\b\b\b\b\b\b\b\b\b\b\b\b\b\b\b\b\b\b\b\b\b\b\b\b\b\b\b\b\b\r6/6 [==============================] - 6s 1s/step - loss: 0.3292 - accuracy: 0.8095 - val_loss: 0.5011 - val_accuracy: 0.7795\n",
            "Epoch 8/50\n",
            "1/6 [====>.........................] - ETA: 0s - loss: 0.3824 - accuracy: 0.7812"
          ]
        },
        {
          "output_type": "stream",
          "name": "stderr",
          "text": [
            "WARNING:absl:Found untraced functions such as lstm_cell_1_layer_call_fn, lstm_cell_1_layer_call_and_return_conditional_losses while saving (showing 2 of 2). These functions will not be directly callable after loading.\n",
            "\u001b[34m\u001b[1mwandb\u001b[0m: Adding directory to artifact (/content/wandb/run-20230804_122701-5htvodn9/files/model-best)... Done. 0.0s\n"
          ]
        },
        {
          "output_type": "stream",
          "name": "stdout",
          "text": [
            "\b\b\b\b\b\b\b\b\b\b\b\b\b\b\b\b\b\b\b\b\b\b\b\b\b\b\b\b\b\b\b\b\b\b\b\b\b\b\b\b\b\b\b\b\b\b\b\b\b\b\b\b\b\b\b\b\b\b\b\b\b\b\b\b\b\b\b\b\b\b\b\b\b\b\b\b\b\b\b\b\r6/6 [==============================] - 4s 824ms/step - loss: 0.3131 - accuracy: 0.8042 - val_loss: 0.4969 - val_accuracy: 0.7480\n",
            "Epoch 9/50\n",
            "1/6 [====>.........................] - ETA: 0s - loss: 0.2994 - accuracy: 0.7812"
          ]
        },
        {
          "output_type": "stream",
          "name": "stderr",
          "text": [
            "WARNING:absl:Found untraced functions such as lstm_cell_1_layer_call_fn, lstm_cell_1_layer_call_and_return_conditional_losses while saving (showing 2 of 2). These functions will not be directly callable after loading.\n",
            "\u001b[34m\u001b[1mwandb\u001b[0m: Adding directory to artifact (/content/wandb/run-20230804_122701-5htvodn9/files/model-best)... Done. 0.0s\n"
          ]
        },
        {
          "output_type": "stream",
          "name": "stdout",
          "text": [
            "\b\b\b\b\b\b\b\b\b\b\b\b\b\b\b\b\b\b\b\b\b\b\b\b\b\b\b\b\b\b\b\b\b\b\b\b\b\b\b\b\b\b\b\b\b\b\b\b\b\b\b\b\b\b\b\b\b\b\b\b\b\b\b\b\b\b\b\b\b\b\b\b\b\b\b\b\b\b\b\b\r6/6 [==============================] - 4s 797ms/step - loss: 0.3053 - accuracy: 0.7778 - val_loss: 0.4870 - val_accuracy: 0.7874\n",
            "Epoch 10/50\n",
            "1/6 [====>.........................] - ETA: 0s - loss: 0.4219 - accuracy: 0.7500"
          ]
        },
        {
          "output_type": "stream",
          "name": "stderr",
          "text": [
            "WARNING:absl:Found untraced functions such as lstm_cell_1_layer_call_fn, lstm_cell_1_layer_call_and_return_conditional_losses while saving (showing 2 of 2). These functions will not be directly callable after loading.\n",
            "\u001b[34m\u001b[1mwandb\u001b[0m: Adding directory to artifact (/content/wandb/run-20230804_122701-5htvodn9/files/model-best)... Done. 0.0s\n"
          ]
        },
        {
          "output_type": "stream",
          "name": "stdout",
          "text": [
            "\b\b\b\b\b\b\b\b\b\b\b\b\b\b\b\b\b\b\b\b\b\b\b\b\b\b\b\b\b\b\b\b\b\b\b\b\b\b\b\b\b\b\b\b\b\b\b\b\b\b\b\b\b\b\b\b\b\b\b\b\b\b\b\b\b\b\b\b\b\b\b\b\b\b\b\b\b\b\b\b\r6/6 [==============================] - 6s 1s/step - loss: 0.3023 - accuracy: 0.8095 - val_loss: 0.4834 - val_accuracy: 0.7874\n",
            "Epoch 11/50\n",
            "6/6 [==============================] - 0s 15ms/step - loss: 0.2949 - accuracy: 0.8042 - val_loss: 0.4851 - val_accuracy: 0.7480\n",
            "Epoch 12/50\n",
            "1/6 [====>.........................] - ETA: 0s - loss: 0.2524 - accuracy: 0.8750"
          ]
        },
        {
          "output_type": "stream",
          "name": "stderr",
          "text": [
            "WARNING:absl:Found untraced functions such as lstm_cell_1_layer_call_fn, lstm_cell_1_layer_call_and_return_conditional_losses while saving (showing 2 of 2). These functions will not be directly callable after loading.\n",
            "\u001b[34m\u001b[1mwandb\u001b[0m: Adding directory to artifact (/content/wandb/run-20230804_122701-5htvodn9/files/model-best)... Done. 0.0s\n"
          ]
        },
        {
          "output_type": "stream",
          "name": "stdout",
          "text": [
            "\b\b\b\b\b\b\b\b\b\b\b\b\b\b\b\b\b\b\b\b\b\b\b\b\b\b\b\b\b\b\b\b\b\b\b\b\b\b\b\b\b\b\b\b\b\b\b\b\b\b\b\b\b\b\b\b\b\b\b\b\b\b\b\b\b\b\b\b\b\b\b\b\b\b\b\b\b\b\b\b\r6/6 [==============================] - 4s 799ms/step - loss: 0.2942 - accuracy: 0.7831 - val_loss: 0.4770 - val_accuracy: 0.7795\n",
            "Epoch 13/50\n",
            "1/6 [====>.........................] - ETA: 0s - loss: 0.2507 - accuracy: 0.8438"
          ]
        },
        {
          "output_type": "stream",
          "name": "stderr",
          "text": [
            "WARNING:absl:Found untraced functions such as lstm_cell_1_layer_call_fn, lstm_cell_1_layer_call_and_return_conditional_losses while saving (showing 2 of 2). These functions will not be directly callable after loading.\n",
            "\u001b[34m\u001b[1mwandb\u001b[0m: Adding directory to artifact (/content/wandb/run-20230804_122701-5htvodn9/files/model-best)... Done. 0.0s\n"
          ]
        },
        {
          "output_type": "stream",
          "name": "stdout",
          "text": [
            "\b\b\b\b\b\b\b\b\b\b\b\b\b\b\b\b\b\b\b\b\b\b\b\b\b\b\b\b\b\b\b\b\b\b\b\b\b\b\b\b\b\b\b\b\b\b\b\b\b\b\b\b\b\b\b\b\b\b\b\b\b\b\b\b\b\b\b\b\b\b\b\b\b\b\b\b\b\b\b\b\r6/6 [==============================] - 5s 905ms/step - loss: 0.2905 - accuracy: 0.8095 - val_loss: 0.4739 - val_accuracy: 0.7795\n",
            "Epoch 14/50\n",
            "6/6 [==============================] - 0s 14ms/step - loss: 0.3016 - accuracy: 0.7407 - val_loss: 0.4747 - val_accuracy: 0.7402\n",
            "Epoch 15/50\n",
            "1/6 [====>.........................] - ETA: 0s - loss: 0.2469 - accuracy: 0.8750"
          ]
        },
        {
          "output_type": "stream",
          "name": "stderr",
          "text": [
            "WARNING:absl:Found untraced functions such as lstm_cell_1_layer_call_fn, lstm_cell_1_layer_call_and_return_conditional_losses while saving (showing 2 of 2). These functions will not be directly callable after loading.\n",
            "\u001b[34m\u001b[1mwandb\u001b[0m: Adding directory to artifact (/content/wandb/run-20230804_122701-5htvodn9/files/model-best)... Done. 0.0s\n"
          ]
        },
        {
          "output_type": "stream",
          "name": "stdout",
          "text": [
            "\b\b\b\b\b\b\b\b\b\b\b\b\b\b\b\b\b\b\b\b\b\b\b\b\b\b\b\b\b\b\b\b\b\b\b\b\b\b\b\b\b\b\b\b\b\b\b\b\b\b\b\b\b\b\b\b\b\b\b\b\b\b\b\b\b\b\b\b\b\b\b\b\b\b\b\b\b\b\b\b\r6/6 [==============================] - 6s 1s/step - loss: 0.2953 - accuracy: 0.7831 - val_loss: 0.4691 - val_accuracy: 0.7874\n",
            "Epoch 16/50\n",
            "6/6 [==============================] - 0s 16ms/step - loss: 0.2885 - accuracy: 0.7937 - val_loss: 0.4718 - val_accuracy: 0.7402\n",
            "Epoch 17/50\n",
            "1/6 [====>.........................] - ETA: 0s - loss: 0.2506 - accuracy: 0.8125"
          ]
        },
        {
          "output_type": "stream",
          "name": "stderr",
          "text": [
            "WARNING:absl:Found untraced functions such as lstm_cell_1_layer_call_fn, lstm_cell_1_layer_call_and_return_conditional_losses while saving (showing 2 of 2). These functions will not be directly callable after loading.\n",
            "\u001b[34m\u001b[1mwandb\u001b[0m: Adding directory to artifact (/content/wandb/run-20230804_122701-5htvodn9/files/model-best)... Done. 0.0s\n"
          ]
        },
        {
          "output_type": "stream",
          "name": "stdout",
          "text": [
            "\b\b\b\b\b\b\b\b\b\b\b\b\b\b\b\b\b\b\b\b\b\b\b\b\b\b\b\b\b\b\b\b\b\b\b\b\b\b\b\b\b\b\b\b\b\b\b\b\b\b\b\b\b\b\b\b\b\b\b\b\b\b\b\b\b\b\b\b\b\b\b\b\b\b\b\b\b\b\b\b\r6/6 [==============================] - 4s 829ms/step - loss: 0.2853 - accuracy: 0.7937 - val_loss: 0.4679 - val_accuracy: 0.7795\n",
            "Epoch 18/50\n",
            "1/6 [====>.........................] - ETA: 0s - loss: 0.2038 - accuracy: 0.7500"
          ]
        },
        {
          "output_type": "stream",
          "name": "stderr",
          "text": [
            "WARNING:absl:Found untraced functions such as lstm_cell_1_layer_call_fn, lstm_cell_1_layer_call_and_return_conditional_losses while saving (showing 2 of 2). These functions will not be directly callable after loading.\n",
            "\u001b[34m\u001b[1mwandb\u001b[0m: Adding directory to artifact (/content/wandb/run-20230804_122701-5htvodn9/files/model-best)... Done. 0.0s\n"
          ]
        },
        {
          "output_type": "stream",
          "name": "stdout",
          "text": [
            "\b\b\b\b\b\b\b\b\b\b\b\b\b\b\b\b\b\b\b\b\b\b\b\b\b\b\b\b\b\b\b\b\b\b\b\b\b\b\b\b\b\b\b\b\b\b\b\b\b\b\b\b\b\b\b\b\b\b\b\b\b\b\b\b\b\b\b\b\b\b\b\b\b\b\b\b\b\b\b\b\r6/6 [==============================] - 4s 787ms/step - loss: 0.2846 - accuracy: 0.7249 - val_loss: 0.4660 - val_accuracy: 0.7795\n",
            "Epoch 19/50\n",
            "1/6 [====>.........................] - ETA: 0s - loss: 0.3337 - accuracy: 0.7500"
          ]
        },
        {
          "output_type": "stream",
          "name": "stderr",
          "text": [
            "WARNING:absl:Found untraced functions such as lstm_cell_1_layer_call_fn, lstm_cell_1_layer_call_and_return_conditional_losses while saving (showing 2 of 2). These functions will not be directly callable after loading.\n",
            "\u001b[34m\u001b[1mwandb\u001b[0m: Adding directory to artifact (/content/wandb/run-20230804_122701-5htvodn9/files/model-best)... Done. 0.0s\n"
          ]
        },
        {
          "output_type": "stream",
          "name": "stdout",
          "text": [
            "\b\b\b\b\b\b\b\b\b\b\b\b\b\b\b\b\b\b\b\b\b\b\b\b\b\b\b\b\b\b\b\b\b\b\b\b\b\b\b\b\b\b\b\b\b\b\b\b\b\b\b\b\b\b\b\b\b\b\b\b\b\b\b\b\b\b\b\b\b\b\b\b\b\b\b\b\b\b\b\b\r6/6 [==============================] - 6s 1s/step - loss: 0.2830 - accuracy: 0.8095 - val_loss: 0.4645 - val_accuracy: 0.7795\n",
            "Epoch 20/50\n",
            "6/6 [==============================] - 0s 14ms/step - loss: 0.2838 - accuracy: 0.8095 - val_loss: 0.4650 - val_accuracy: 0.7795\n",
            "Epoch 21/50\n",
            "6/6 [==============================] - 0s 15ms/step - loss: 0.2821 - accuracy: 0.7884 - val_loss: 0.4647 - val_accuracy: 0.7795\n",
            "Epoch 22/50\n",
            "1/6 [====>.........................] - ETA: 0s - loss: 0.3051 - accuracy: 0.8438"
          ]
        },
        {
          "output_type": "stream",
          "name": "stderr",
          "text": [
            "WARNING:absl:Found untraced functions such as lstm_cell_1_layer_call_fn, lstm_cell_1_layer_call_and_return_conditional_losses while saving (showing 2 of 2). These functions will not be directly callable after loading.\n",
            "\u001b[34m\u001b[1mwandb\u001b[0m: Adding directory to artifact (/content/wandb/run-20230804_122701-5htvodn9/files/model-best)... Done. 0.0s\n"
          ]
        },
        {
          "output_type": "stream",
          "name": "stdout",
          "text": [
            "\b\b\b\b\b\b\b\b\b\b\b\b\b\b\b\b\b\b\b\b\b\b\b\b\b\b\b\b\b\b\b\b\b\b\b\b\b\b\b\b\b\b\b\b\b\b\b\b\b\b\b\b\b\b\b\b\b\b\b\b\b\b\b\b\b\b\b\b\b\b\b\b\b\b\b\b\b\b\b\b\r6/6 [==============================] - 4s 802ms/step - loss: 0.2823 - accuracy: 0.8095 - val_loss: 0.4634 - val_accuracy: 0.7795\n",
            "Epoch 23/50\n",
            "6/6 [==============================] - 0s 16ms/step - loss: 0.2827 - accuracy: 0.7778 - val_loss: 0.4667 - val_accuracy: 0.7402\n",
            "Epoch 24/50\n",
            "6/6 [==============================] - 0s 14ms/step - loss: 0.2822 - accuracy: 0.7831 - val_loss: 0.4635 - val_accuracy: 0.7795\n",
            "Epoch 25/50\n",
            "1/6 [====>.........................] - ETA: 0s - loss: 0.2569 - accuracy: 0.9062"
          ]
        },
        {
          "output_type": "stream",
          "name": "stderr",
          "text": [
            "WARNING:absl:Found untraced functions such as lstm_cell_1_layer_call_fn, lstm_cell_1_layer_call_and_return_conditional_losses while saving (showing 2 of 2). These functions will not be directly callable after loading.\n",
            "\u001b[34m\u001b[1mwandb\u001b[0m: Adding directory to artifact (/content/wandb/run-20230804_122701-5htvodn9/files/model-best)... Done. 0.0s\n"
          ]
        },
        {
          "output_type": "stream",
          "name": "stdout",
          "text": [
            "\b\b\b\b\b\b\b\b\b\b\b\b\b\b\b\b\b\b\b\b\b\b\b\b\b\b\b\b\b\b\b\b\b\b\b\b\b\b\b\b\b\b\b\b\b\b\b\b\b\b\b\b\b\b\b\b\b\b\b\b\b\b\b\b\b\b\b\b\b\b\b\b\b\b\b\b\b\b\b\b\r6/6 [==============================] - 4s 802ms/step - loss: 0.2841 - accuracy: 0.8095 - val_loss: 0.4625 - val_accuracy: 0.7795\n",
            "Epoch 26/50\n",
            "6/6 [==============================] - 0s 13ms/step - loss: 0.2788 - accuracy: 0.8201 - val_loss: 0.4657 - val_accuracy: 0.7402\n",
            "Epoch 27/50\n",
            "6/6 [==============================] - 0s 13ms/step - loss: 0.2806 - accuracy: 0.7725 - val_loss: 0.4645 - val_accuracy: 0.7402\n",
            "Epoch 28/50\n",
            "6/6 [==============================] - 0s 17ms/step - loss: 0.2836 - accuracy: 0.7937 - val_loss: 0.4639 - val_accuracy: 0.7795\n",
            "Epoch 29/50\n",
            "1/6 [====>.........................] - ETA: 0s - loss: 0.3289 - accuracy: 0.6562"
          ]
        },
        {
          "output_type": "stream",
          "name": "stderr",
          "text": [
            "WARNING:absl:Found untraced functions such as lstm_cell_1_layer_call_fn, lstm_cell_1_layer_call_and_return_conditional_losses while saving (showing 2 of 2). These functions will not be directly callable after loading.\n",
            "\u001b[34m\u001b[1mwandb\u001b[0m: Adding directory to artifact (/content/wandb/run-20230804_122701-5htvodn9/files/model-best)... Done. 0.0s\n"
          ]
        },
        {
          "output_type": "stream",
          "name": "stdout",
          "text": [
            "\b\b\b\b\b\b\b\b\b\b\b\b\b\b\b\b\b\b\b\b\b\b\b\b\b\b\b\b\b\b\b\b\b\b\b\b\b\b\b\b\b\b\b\b\b\b\b\b\b\b\b\b\b\b\b\b\b\b\b\b\b\b\b\b\b\b\b\b\b\b\b\b\b\b\b\b\b\b\b\b\r6/6 [==============================] - 6s 1s/step - loss: 0.2803 - accuracy: 0.7937 - val_loss: 0.4621 - val_accuracy: 0.7795\n",
            "Epoch 30/50\n",
            "1/6 [====>.........................] - ETA: 0s - loss: 0.3916 - accuracy: 0.6875"
          ]
        },
        {
          "output_type": "stream",
          "name": "stderr",
          "text": [
            "WARNING:absl:Found untraced functions such as lstm_cell_1_layer_call_fn, lstm_cell_1_layer_call_and_return_conditional_losses while saving (showing 2 of 2). These functions will not be directly callable after loading.\n",
            "\u001b[34m\u001b[1mwandb\u001b[0m: Adding directory to artifact (/content/wandb/run-20230804_122701-5htvodn9/files/model-best)... Done. 0.0s\n"
          ]
        },
        {
          "output_type": "stream",
          "name": "stdout",
          "text": [
            "\b\b\b\b\b\b\b\b\b\b\b\b\b\b\b\b\b\b\b\b\b\b\b\b\b\b\b\b\b\b\b\b\b\b\b\b\b\b\b\b\b\b\b\b\b\b\b\b\b\b\b\b\b\b\b\b\b\b\b\b\b\b\b\b\b\b\b\b\b\b\b\b\b\b\b\b\b\b\b\b\r6/6 [==============================] - 5s 964ms/step - loss: 0.2808 - accuracy: 0.8095 - val_loss: 0.4615 - val_accuracy: 0.7874\n",
            "Epoch 31/50\n",
            "6/6 [==============================] - 0s 15ms/step - loss: 0.2791 - accuracy: 0.8095 - val_loss: 0.4639 - val_accuracy: 0.7402\n",
            "Epoch 32/50\n",
            "6/6 [==============================] - 0s 14ms/step - loss: 0.2785 - accuracy: 0.7884 - val_loss: 0.4637 - val_accuracy: 0.7795\n",
            "Epoch 33/50\n",
            "6/6 [==============================] - 0s 15ms/step - loss: 0.2788 - accuracy: 0.8095 - val_loss: 0.4624 - val_accuracy: 0.7795\n",
            "Epoch 34/50\n",
            "6/6 [==============================] - 0s 12ms/step - loss: 0.2779 - accuracy: 0.8095 - val_loss: 0.4631 - val_accuracy: 0.7795\n",
            "Epoch 35/50\n",
            "6/6 [==============================] - 0s 15ms/step - loss: 0.2805 - accuracy: 0.8095 - val_loss: 0.4622 - val_accuracy: 0.7795\n",
            "Epoch 36/50\n",
            "6/6 [==============================] - 0s 12ms/step - loss: 0.2806 - accuracy: 0.7725 - val_loss: 0.4644 - val_accuracy: 0.7795\n",
            "Epoch 37/50\n",
            "6/6 [==============================] - 0s 16ms/step - loss: 0.2788 - accuracy: 0.8095 - val_loss: 0.4625 - val_accuracy: 0.7795\n",
            "Epoch 38/50\n",
            "6/6 [==============================] - 0s 14ms/step - loss: 0.2777 - accuracy: 0.8095 - val_loss: 0.4630 - val_accuracy: 0.7795\n",
            "Epoch 39/50\n",
            "6/6 [==============================] - 0s 13ms/step - loss: 0.2790 - accuracy: 0.8095 - val_loss: 0.4626 - val_accuracy: 0.7795\n",
            "Epoch 40/50\n",
            "6/6 [==============================] - 0s 15ms/step - loss: 0.2804 - accuracy: 0.7989 - val_loss: 0.4657 - val_accuracy: 0.7402\n",
            "Epoch 41/50\n",
            "6/6 [==============================] - 0s 14ms/step - loss: 0.2801 - accuracy: 0.7302 - val_loss: 0.4636 - val_accuracy: 0.7795\n",
            "Epoch 42/50\n",
            "6/6 [==============================] - 0s 20ms/step - loss: 0.2808 - accuracy: 0.7566 - val_loss: 0.4649 - val_accuracy: 0.7795\n",
            "Epoch 43/50\n",
            "6/6 [==============================] - 0s 18ms/step - loss: 0.2788 - accuracy: 0.8095 - val_loss: 0.4630 - val_accuracy: 0.7795\n",
            "Epoch 44/50\n",
            "6/6 [==============================] - 0s 19ms/step - loss: 0.2805 - accuracy: 0.8095 - val_loss: 0.4629 - val_accuracy: 0.7795\n",
            "Epoch 45/50\n",
            "6/6 [==============================] - 0s 21ms/step - loss: 0.2766 - accuracy: 0.8095 - val_loss: 0.4648 - val_accuracy: 0.7402\n",
            "Epoch 46/50\n",
            "6/6 [==============================] - 0s 18ms/step - loss: 0.2793 - accuracy: 0.7937 - val_loss: 0.4642 - val_accuracy: 0.7795\n",
            "Epoch 47/50\n",
            "6/6 [==============================] - 0s 17ms/step - loss: 0.2871 - accuracy: 0.7619 - val_loss: 0.4662 - val_accuracy: 0.7402\n",
            "Epoch 48/50\n",
            "6/6 [==============================] - 0s 15ms/step - loss: 0.2786 - accuracy: 0.8095 - val_loss: 0.4643 - val_accuracy: 0.7795\n",
            "Epoch 49/50\n",
            "6/6 [==============================] - 0s 14ms/step - loss: 0.2804 - accuracy: 0.8095 - val_loss: 0.4616 - val_accuracy: 0.7795\n",
            "Epoch 50/50\n",
            "6/6 [==============================] - 0s 14ms/step - loss: 0.2854 - accuracy: 0.7460 - val_loss: 0.4656 - val_accuracy: 0.7402\n",
            "<keras.callbacks.History object at 0x7a05f9149db0>\n"
          ]
        }
      ],
      "source": [
        "wandb.init()\n",
        "x=model.fit(X_train, y_train_hot, epochs=config.epochs, validation_data=(X_test, y_test_hot), callbacks=[WandbCallback(data_type=\"audio\", labels=labels)])\n",
        "print(x)"
      ]
    },
    {
      "cell_type": "code",
      "execution_count": null,
      "metadata": {
        "colab": {
          "base_uri": "https://localhost:8080/"
        },
        "id": "2tAiaRYGH9Y6",
        "outputId": "fdf21496-782d-4cfc-ec49-53586bd4c18b"
      },
      "outputs": [
        {
          "output_type": "stream",
          "name": "stdout",
          "text": [
            "4/4 [==============================] - 0s 4ms/step\n",
            "Accuracy: 0.8960629921259843\n"
          ]
        }
      ],
      "source": [
        "predictions = model.predict(X_test)\n",
        "\n",
        "# Convert predictions to binary values (if necessary)\n",
        "binary_predictions = (predictions > 0.5).astype(int)\n",
        "\n",
        "# Calculate accuracy\n",
        "accuracy = (binary_predictions == y_test_hot).mean()\n",
        "\n",
        "# Print the accuracy\n",
        "print(\"Accuracy:\", accuracy)"
      ]
    },
    {
      "cell_type": "markdown",
      "metadata": {
        "id": "SnAnJ8kwHZ1P"
      },
      "source": [
        "LSTM MAM"
      ]
    },
    {
      "cell_type": "code",
      "execution_count": null,
      "metadata": {
        "id": "aakP466hA_ab"
      },
      "outputs": [],
      "source": [
        "model = Sequential()\n",
        "model.add(Flatten(input_shape=(config.buckets, config.max_len)))\n",
        "model.add(Dense(num_classes, activation='softmax'))\n",
        "model.compile(loss=\"categorical_crossentropy\",\n",
        "                  optimizer=\"adam\",\n",
        "                  metrics=['accuracy'])"
      ]
    },
    {
      "cell_type": "code",
      "execution_count": null,
      "metadata": {
        "id": "DiAwLhD9BNZg"
      },
      "outputs": [],
      "source": [
        "# build model\n",
        "model = Sequential()\n",
        "model.add(LSTM(32, input_shape=(config.buckets, config.max_len), activation=\"tanh\")) #changes done\n",
        "model.add(Dense(32, activation='tanh'))\n",
        "model.add(Dense(num_classes, activation='softmax'))"
      ]
    },
    {
      "cell_type": "code",
      "execution_count": null,
      "metadata": {
        "id": "YG5tkbPjBSNd"
      },
      "outputs": [],
      "source": [
        "model.compile(loss=\"categorical_crossentropy\",\n",
        "                  optimizer=\"adam\",\n",
        "                  metrics=['accuracy'])"
      ]
    },
    {
      "cell_type": "code",
      "execution_count": null,
      "metadata": {
        "colab": {
          "base_uri": "https://localhost:8080/",
          "height": 1000
        },
        "id": "I3BGmpchNuDA",
        "outputId": "e0891230-200c-411e-db1e-aa24dfb6adb9"
      },
      "outputs": [
        {
          "output_type": "display_data",
          "data": {
            "text/plain": [
              "<IPython.core.display.HTML object>"
            ],
            "text/html": [
              "Finishing last run (ID:5htvodn9) before initializing another..."
            ]
          },
          "metadata": {}
        },
        {
          "output_type": "display_data",
          "data": {
            "text/plain": [
              "<IPython.core.display.HTML object>"
            ],
            "text/html": [
              "Waiting for W&B process to finish... <strong style=\"color:green\">(success).</strong>"
            ]
          },
          "metadata": {}
        },
        {
          "output_type": "display_data",
          "data": {
            "text/plain": [
              "<IPython.core.display.HTML object>"
            ],
            "text/html": [
              "<style>\n",
              "    table.wandb td:nth-child(1) { padding: 0 10px; text-align: left ; width: auto;} td:nth-child(2) {text-align: left ; width: 100%}\n",
              "    .wandb-row { display: flex; flex-direction: row; flex-wrap: wrap; justify-content: flex-start; width: 100% }\n",
              "    .wandb-col { display: flex; flex-direction: column; flex-basis: 100%; flex: 1; padding: 10px; }\n",
              "    </style>\n",
              "<div class=\"wandb-row\"><div class=\"wandb-col\"><h3>Run history:</h3><br/><table class=\"wandb\"><tr><td>accuracy</td><td>▁▆▇█▇██▇█▇█▇██▆█▇█▇▇█▇███▇██▇███▆▇███▇█▇</td></tr><tr><td>epoch</td><td>▁▁▁▁▂▂▂▂▂▃▃▃▃▃▃▄▄▄▄▄▅▅▅▅▅▅▆▆▆▆▆▆▇▇▇▇▇███</td></tr><tr><td>loss</td><td>█▅▃▂▁▁▁▁▁▁▁▁▁▁▁▁▁▁▁▁▁▁▁▁▁▁▁▁▁▁▁▁▁▁▁▁▁▁▁▁</td></tr><tr><td>val_accuracy</td><td>▁▂▂▆▇▇▅█▅▇▇▄▄▇▇▇▇▇▄▇▄▄▇▇▄▇▇▇▇▇▇▇▇▇▇▇▇▄▇▄</td></tr><tr><td>val_loss</td><td>█▅▃▂▂▁▁▁▁▁▁▁▁▁▁▁▁▁▁▁▁▁▁▁▁▁▁▁▁▁▁▁▁▁▁▁▁▁▁▁</td></tr></table><br/></div><div class=\"wandb-col\"><h3>Run summary:</h3><br/><table class=\"wandb\"><tr><td>accuracy</td><td>0.74603</td></tr><tr><td>best_epoch</td><td>29</td></tr><tr><td>best_val_loss</td><td>0.46152</td></tr><tr><td>epoch</td><td>49</td></tr><tr><td>loss</td><td>0.28537</td></tr><tr><td>val_accuracy</td><td>0.74016</td></tr><tr><td>val_loss</td><td>0.46559</td></tr></table><br/></div></div>"
            ]
          },
          "metadata": {}
        },
        {
          "output_type": "display_data",
          "data": {
            "text/plain": [
              "<IPython.core.display.HTML object>"
            ],
            "text/html": [
              " View run <strong style=\"color:#cdcd00\">scarlet-voice-122</strong> at: <a href='https://wandb.ai/speaker_recognitionas/uncategorized/runs/5htvodn9' target=\"_blank\">https://wandb.ai/speaker_recognitionas/uncategorized/runs/5htvodn9</a><br/>Synced 5 W&B file(s), 1 media file(s), 100 artifact file(s) and 1 other file(s)"
            ]
          },
          "metadata": {}
        },
        {
          "output_type": "display_data",
          "data": {
            "text/plain": [
              "<IPython.core.display.HTML object>"
            ],
            "text/html": [
              "Find logs at: <code>./wandb/run-20230804_122701-5htvodn9/logs</code>"
            ]
          },
          "metadata": {}
        },
        {
          "output_type": "display_data",
          "data": {
            "text/plain": [
              "<IPython.core.display.HTML object>"
            ],
            "text/html": [
              "Successfully finished last run (ID:5htvodn9). Initializing new run:<br/>"
            ]
          },
          "metadata": {}
        },
        {
          "output_type": "display_data",
          "data": {
            "text/plain": [
              "<IPython.core.display.HTML object>"
            ],
            "text/html": [
              "Tracking run with wandb version 0.15.8"
            ]
          },
          "metadata": {}
        },
        {
          "output_type": "display_data",
          "data": {
            "text/plain": [
              "<IPython.core.display.HTML object>"
            ],
            "text/html": [
              "Run data is saved locally in <code>/content/wandb/run-20230804_122935-jeplt2ww</code>"
            ]
          },
          "metadata": {}
        },
        {
          "output_type": "display_data",
          "data": {
            "text/plain": [
              "<IPython.core.display.HTML object>"
            ],
            "text/html": [
              "Syncing run <strong><a href='https://wandb.ai/speaker_recognitionas/uncategorized/runs/jeplt2ww' target=\"_blank\">woven-dawn-123</a></strong> to <a href='https://wandb.ai/speaker_recognitionas/uncategorized' target=\"_blank\">Weights & Biases</a> (<a href='https://wandb.me/run' target=\"_blank\">docs</a>)<br/>"
            ]
          },
          "metadata": {}
        },
        {
          "output_type": "display_data",
          "data": {
            "text/plain": [
              "<IPython.core.display.HTML object>"
            ],
            "text/html": [
              " View project at <a href='https://wandb.ai/speaker_recognitionas/uncategorized' target=\"_blank\">https://wandb.ai/speaker_recognitionas/uncategorized</a>"
            ]
          },
          "metadata": {}
        },
        {
          "output_type": "display_data",
          "data": {
            "text/plain": [
              "<IPython.core.display.HTML object>"
            ],
            "text/html": [
              " View run at <a href='https://wandb.ai/speaker_recognitionas/uncategorized/runs/jeplt2ww' target=\"_blank\">https://wandb.ai/speaker_recognitionas/uncategorized/runs/jeplt2ww</a>"
            ]
          },
          "metadata": {}
        },
        {
          "output_type": "stream",
          "name": "stdout",
          "text": [
            "Epoch 1/50\n",
            "1/6 [====>.........................] - ETA: 12s - loss: 1.5982 - accuracy: 0.2812"
          ]
        },
        {
          "output_type": "stream",
          "name": "stderr",
          "text": [
            "WARNING:absl:Found untraced functions such as lstm_cell_2_layer_call_fn, lstm_cell_2_layer_call_and_return_conditional_losses while saving (showing 2 of 2). These functions will not be directly callable after loading.\n",
            "\u001b[34m\u001b[1mwandb\u001b[0m: Adding directory to artifact (/content/wandb/run-20230804_122935-jeplt2ww/files/model-best)... Done. 0.0s\n"
          ]
        },
        {
          "output_type": "stream",
          "name": "stdout",
          "text": [
            "\b\b\b\b\b\b\b\b\b\b\b\b\b\b\b\b\b\b\b\b\b\b\b\b\b\b\b\b\b\b\b\b\b\b\b\b\b\b\b\b\b\b\b\b\b\b\b\b\b\b\b\b\b\b\b\b\b\b\b\b\b\b\b\b\b\b\b\b\b\b\b\b\b\b\b\b\b\b\b\b\b\r6/6 [==============================] - 8s 998ms/step - loss: 1.5410 - accuracy: 0.2646 - val_loss: 1.5224 - val_accuracy: 0.4016\n",
            "Epoch 2/50\n",
            "1/6 [====>.........................] - ETA: 0s - loss: 1.4246 - accuracy: 0.5625"
          ]
        },
        {
          "output_type": "stream",
          "name": "stderr",
          "text": [
            "WARNING:absl:Found untraced functions such as lstm_cell_2_layer_call_fn, lstm_cell_2_layer_call_and_return_conditional_losses while saving (showing 2 of 2). These functions will not be directly callable after loading.\n",
            "\u001b[34m\u001b[1mwandb\u001b[0m: Adding directory to artifact (/content/wandb/run-20230804_122935-jeplt2ww/files/model-best)... Done. 0.0s\n"
          ]
        },
        {
          "output_type": "stream",
          "name": "stdout",
          "text": [
            "\b\b\b\b\b\b\b\b\b\b\b\b\b\b\b\b\b\b\b\b\b\b\b\b\b\b\b\b\b\b\b\b\b\b\b\b\b\b\b\b\b\b\b\b\b\b\b\b\b\b\b\b\b\b\b\b\b\b\b\b\b\b\b\b\b\b\b\b\b\b\b\b\b\b\b\b\b\b\b\b\r6/6 [==============================] - 6s 1s/step - loss: 1.3632 - accuracy: 0.5503 - val_loss: 1.4154 - val_accuracy: 0.4724\n",
            "Epoch 3/50\n",
            "1/6 [====>.........................] - ETA: 0s - loss: 1.3624 - accuracy: 0.5625"
          ]
        },
        {
          "output_type": "stream",
          "name": "stderr",
          "text": [
            "WARNING:absl:Found untraced functions such as lstm_cell_2_layer_call_fn, lstm_cell_2_layer_call_and_return_conditional_losses while saving (showing 2 of 2). These functions will not be directly callable after loading.\n",
            "\u001b[34m\u001b[1mwandb\u001b[0m: Adding directory to artifact (/content/wandb/run-20230804_122935-jeplt2ww/files/model-best)... Done. 0.0s\n"
          ]
        },
        {
          "output_type": "stream",
          "name": "stdout",
          "text": [
            "\b\b\b\b\b\b\b\b\b\b\b\b\b\b\b\b\b\b\b\b\b\b\b\b\b\b\b\b\b\b\b\b\b\b\b\b\b\b\b\b\b\b\b\b\b\b\b\b\b\b\b\b\b\b\b\b\b\b\b\b\b\b\b\b\b\b\b\b\b\b\b\b\b\b\b\b\b\b\b\b\r6/6 [==============================] - 4s 816ms/step - loss: 1.2291 - accuracy: 0.6772 - val_loss: 1.3202 - val_accuracy: 0.5118\n",
            "Epoch 4/50\n",
            "1/6 [====>.........................] - ETA: 0s - loss: 1.1966 - accuracy: 0.6562"
          ]
        },
        {
          "output_type": "stream",
          "name": "stderr",
          "text": [
            "WARNING:absl:Found untraced functions such as lstm_cell_2_layer_call_fn, lstm_cell_2_layer_call_and_return_conditional_losses while saving (showing 2 of 2). These functions will not be directly callable after loading.\n",
            "\u001b[34m\u001b[1mwandb\u001b[0m: Adding directory to artifact (/content/wandb/run-20230804_122935-jeplt2ww/files/model-best)... Done. 0.0s\n"
          ]
        },
        {
          "output_type": "stream",
          "name": "stdout",
          "text": [
            "\b\b\b\b\b\b\b\b\b\b\b\b\b\b\b\b\b\b\b\b\b\b\b\b\b\b\b\b\b\b\b\b\b\b\b\b\b\b\b\b\b\b\b\b\b\b\b\b\b\b\b\b\b\b\b\b\b\b\b\b\b\b\b\b\b\b\b\b\b\b\b\b\b\b\b\b\b\b\b\b\r6/6 [==============================] - 5s 910ms/step - loss: 1.1052 - accuracy: 0.7249 - val_loss: 1.2149 - val_accuracy: 0.5669\n",
            "Epoch 5/50\n",
            "1/6 [====>.........................] - ETA: 0s - loss: 1.0591 - accuracy: 0.7500"
          ]
        },
        {
          "output_type": "stream",
          "name": "stderr",
          "text": [
            "WARNING:absl:Found untraced functions such as lstm_cell_2_layer_call_fn, lstm_cell_2_layer_call_and_return_conditional_losses while saving (showing 2 of 2). These functions will not be directly callable after loading.\n",
            "\u001b[34m\u001b[1mwandb\u001b[0m: Adding directory to artifact (/content/wandb/run-20230804_122935-jeplt2ww/files/model-best)... Done. 0.0s\n"
          ]
        },
        {
          "output_type": "stream",
          "name": "stdout",
          "text": [
            "\b\b\b\b\b\b\b\b\b\b\b\b\b\b\b\b\b\b\b\b\b\b\b\b\b\b\b\b\b\b\b\b\b\b\b\b\b\b\b\b\b\b\b\b\b\b\b\b\b\b\b\b\b\b\b\b\b\b\b\b\b\b\b\b\b\b\b\b\b\b\b\b\b\b\b\b\b\b\b\b\r6/6 [==============================] - 6s 1s/step - loss: 0.9724 - accuracy: 0.7460 - val_loss: 1.1021 - val_accuracy: 0.5984\n",
            "Epoch 6/50\n",
            "1/6 [====>.........................] - ETA: 0s - loss: 0.8937 - accuracy: 0.6875"
          ]
        },
        {
          "output_type": "stream",
          "name": "stderr",
          "text": [
            "WARNING:absl:Found untraced functions such as lstm_cell_2_layer_call_fn, lstm_cell_2_layer_call_and_return_conditional_losses while saving (showing 2 of 2). These functions will not be directly callable after loading.\n",
            "\u001b[34m\u001b[1mwandb\u001b[0m: Adding directory to artifact (/content/wandb/run-20230804_122935-jeplt2ww/files/model-best)... Done. 0.0s\n"
          ]
        },
        {
          "output_type": "stream",
          "name": "stdout",
          "text": [
            "\b\b\b\b\b\b\b\b\b\b\b\b\b\b\b\b\b\b\b\b\b\b\b\b\b\b\b\b\b\b\b\b\b\b\b\b\b\b\b\b\b\b\b\b\b\b\b\b\b\b\b\b\b\b\b\b\b\b\b\b\b\b\b\b\b\b\b\b\b\b\b\b\b\b\b\b\b\b\b\b\r6/6 [==============================] - 4s 828ms/step - loss: 0.8301 - accuracy: 0.7619 - val_loss: 0.9808 - val_accuracy: 0.6142\n",
            "Epoch 7/50\n",
            "1/6 [====>.........................] - ETA: 0s - loss: 0.7878 - accuracy: 0.8438"
          ]
        },
        {
          "output_type": "stream",
          "name": "stderr",
          "text": [
            "WARNING:absl:Found untraced functions such as lstm_cell_2_layer_call_fn, lstm_cell_2_layer_call_and_return_conditional_losses while saving (showing 2 of 2). These functions will not be directly callable after loading.\n",
            "\u001b[34m\u001b[1mwandb\u001b[0m: Adding directory to artifact (/content/wandb/run-20230804_122935-jeplt2ww/files/model-best)... Done. 0.0s\n"
          ]
        },
        {
          "output_type": "stream",
          "name": "stdout",
          "text": [
            "\b\b\b\b\b\b\b\b\b\b\b\b\b\b\b\b\b\b\b\b\b\b\b\b\b\b\b\b\b\b\b\b\b\b\b\b\b\b\b\b\b\b\b\b\b\b\b\b\b\b\b\b\b\b\b\b\b\b\b\b\b\b\b\b\b\b\b\b\b\b\b\b\b\b\b\b\b\b\b\b\r6/6 [==============================] - 5s 966ms/step - loss: 0.6947 - accuracy: 0.7778 - val_loss: 0.8933 - val_accuracy: 0.6220\n",
            "Epoch 8/50\n",
            "1/6 [====>.........................] - ETA: 0s - loss: 0.6232 - accuracy: 0.8438"
          ]
        },
        {
          "output_type": "stream",
          "name": "stderr",
          "text": [
            "WARNING:absl:Found untraced functions such as lstm_cell_2_layer_call_fn, lstm_cell_2_layer_call_and_return_conditional_losses while saving (showing 2 of 2). These functions will not be directly callable after loading.\n",
            "\u001b[34m\u001b[1mwandb\u001b[0m: Adding directory to artifact (/content/wandb/run-20230804_122935-jeplt2ww/files/model-best)... Done. 0.0s\n"
          ]
        },
        {
          "output_type": "stream",
          "name": "stdout",
          "text": [
            "\b\b\b\b\b\b\b\b\b\b\b\b\b\b\b\b\b\b\b\b\b\b\b\b\b\b\b\b\b\b\b\b\b\b\b\b\b\b\b\b\b\b\b\b\b\b\b\b\b\b\b\b\b\b\b\b\b\b\b\b\b\b\b\b\b\b\b\b\b\b\b\b\b\b\b\b\b\b\b\b\r6/6 [==============================] - 6s 1s/step - loss: 0.5993 - accuracy: 0.7778 - val_loss: 0.8336 - val_accuracy: 0.6850\n",
            "Epoch 9/50\n",
            "1/6 [====>.........................] - ETA: 0s - loss: 0.5466 - accuracy: 0.8750"
          ]
        },
        {
          "output_type": "stream",
          "name": "stderr",
          "text": [
            "WARNING:absl:Found untraced functions such as lstm_cell_2_layer_call_fn, lstm_cell_2_layer_call_and_return_conditional_losses while saving (showing 2 of 2). These functions will not be directly callable after loading.\n",
            "\u001b[34m\u001b[1mwandb\u001b[0m: Adding directory to artifact (/content/wandb/run-20230804_122935-jeplt2ww/files/model-best)... Done. 0.0s\n"
          ]
        },
        {
          "output_type": "stream",
          "name": "stdout",
          "text": [
            "\b\b\b\b\b\b\b\b\b\b\b\b\b\b\b\b\b\b\b\b\b\b\b\b\b\b\b\b\b\b\b\b\b\b\b\b\b\b\b\b\b\b\b\b\b\b\b\b\b\b\b\b\b\b\b\b\b\b\b\b\b\b\b\b\b\b\b\b\b\b\b\b\b\b\b\b\b\b\b\b\r6/6 [==============================] - 4s 839ms/step - loss: 0.5392 - accuracy: 0.8042 - val_loss: 0.7949 - val_accuracy: 0.6929\n",
            "Epoch 10/50\n",
            "1/6 [====>.........................] - ETA: 0s - loss: 0.4831 - accuracy: 0.7500"
          ]
        },
        {
          "output_type": "stream",
          "name": "stderr",
          "text": [
            "WARNING:absl:Found untraced functions such as lstm_cell_2_layer_call_fn, lstm_cell_2_layer_call_and_return_conditional_losses while saving (showing 2 of 2). These functions will not be directly callable after loading.\n",
            "\u001b[34m\u001b[1mwandb\u001b[0m: Adding directory to artifact (/content/wandb/run-20230804_122935-jeplt2ww/files/model-best)... Done. 0.0s\n"
          ]
        },
        {
          "output_type": "stream",
          "name": "stdout",
          "text": [
            "\b\b\b\b\b\b\b\b\b\b\b\b\b\b\b\b\b\b\b\b\b\b\b\b\b\b\b\b\b\b\b\b\b\b\b\b\b\b\b\b\b\b\b\b\b\b\b\b\b\b\b\b\b\b\b\b\b\b\b\b\b\b\b\b\b\b\b\b\b\b\b\b\b\b\b\b\b\b\b\b\r6/6 [==============================] - 5s 981ms/step - loss: 0.4957 - accuracy: 0.8042 - val_loss: 0.7664 - val_accuracy: 0.6929\n",
            "Epoch 11/50\n",
            "1/6 [====>.........................] - ETA: 0s - loss: 0.4302 - accuracy: 0.9062"
          ]
        },
        {
          "output_type": "stream",
          "name": "stderr",
          "text": [
            "WARNING:absl:Found untraced functions such as lstm_cell_2_layer_call_fn, lstm_cell_2_layer_call_and_return_conditional_losses while saving (showing 2 of 2). These functions will not be directly callable after loading.\n",
            "\u001b[34m\u001b[1mwandb\u001b[0m: Adding directory to artifact (/content/wandb/run-20230804_122935-jeplt2ww/files/model-best)... Done. 0.0s\n"
          ]
        },
        {
          "output_type": "stream",
          "name": "stdout",
          "text": [
            "\b\b\b\b\b\b\b\b\b\b\b\b\b\b\b\b\b\b\b\b\b\b\b\b\b\b\b\b\b\b\b\b\b\b\b\b\b\b\b\b\b\b\b\b\b\b\b\b\b\b\b\b\b\b\b\b\b\b\b\b\b\b\b\b\b\b\b\b\b\b\b\b\b\b\b\b\b\b\b\b\r6/6 [==============================] - 6s 1s/step - loss: 0.4579 - accuracy: 0.8042 - val_loss: 0.7420 - val_accuracy: 0.7087\n",
            "Epoch 12/50\n",
            "1/6 [====>.........................] - ETA: 0s - loss: 0.4410 - accuracy: 0.7812"
          ]
        },
        {
          "output_type": "stream",
          "name": "stderr",
          "text": [
            "WARNING:absl:Found untraced functions such as lstm_cell_2_layer_call_fn, lstm_cell_2_layer_call_and_return_conditional_losses while saving (showing 2 of 2). These functions will not be directly callable after loading.\n",
            "\u001b[34m\u001b[1mwandb\u001b[0m: Adding directory to artifact (/content/wandb/run-20230804_122935-jeplt2ww/files/model-best)... Done. 0.0s\n"
          ]
        },
        {
          "output_type": "stream",
          "name": "stdout",
          "text": [
            "\b\b\b\b\b\b\b\b\b\b\b\b\b\b\b\b\b\b\b\b\b\b\b\b\b\b\b\b\b\b\b\b\b\b\b\b\b\b\b\b\b\b\b\b\b\b\b\b\b\b\b\b\b\b\b\b\b\b\b\b\b\b\b\b\b\b\b\b\b\b\b\b\b\b\b\b\b\b\b\b\r6/6 [==============================] - 4s 846ms/step - loss: 0.4293 - accuracy: 0.8095 - val_loss: 0.7216 - val_accuracy: 0.7087\n",
            "Epoch 13/50\n",
            "1/6 [====>.........................] - ETA: 0s - loss: 0.4705 - accuracy: 0.7812"
          ]
        },
        {
          "output_type": "stream",
          "name": "stderr",
          "text": [
            "WARNING:absl:Found untraced functions such as lstm_cell_2_layer_call_fn, lstm_cell_2_layer_call_and_return_conditional_losses while saving (showing 2 of 2). These functions will not be directly callable after loading.\n",
            "\u001b[34m\u001b[1mwandb\u001b[0m: Adding directory to artifact (/content/wandb/run-20230804_122935-jeplt2ww/files/model-best)... Done. 0.0s\n"
          ]
        },
        {
          "output_type": "stream",
          "name": "stdout",
          "text": [
            "\b\b\b\b\b\b\b\b\b\b\b\b\b\b\b\b\b\b\b\b\b\b\b\b\b\b\b\b\b\b\b\b\b\b\b\b\b\b\b\b\b\b\b\b\b\b\b\b\b\b\b\b\b\b\b\b\b\b\b\b\b\b\b\b\b\b\b\b\b\b\b\b\b\b\b\b\b\b\b\b\r6/6 [==============================] - 5s 992ms/step - loss: 0.4057 - accuracy: 0.8095 - val_loss: 0.7064 - val_accuracy: 0.7008\n",
            "Epoch 14/50\n",
            "1/6 [====>.........................] - ETA: 0s - loss: 0.2601 - accuracy: 0.9375"
          ]
        },
        {
          "output_type": "stream",
          "name": "stderr",
          "text": [
            "WARNING:absl:Found untraced functions such as lstm_cell_2_layer_call_fn, lstm_cell_2_layer_call_and_return_conditional_losses while saving (showing 2 of 2). These functions will not be directly callable after loading.\n",
            "\u001b[34m\u001b[1mwandb\u001b[0m: Adding directory to artifact (/content/wandb/run-20230804_122935-jeplt2ww/files/model-best)... Done. 0.0s\n"
          ]
        },
        {
          "output_type": "stream",
          "name": "stdout",
          "text": [
            "\b\b\b\b\b\b\b\b\b\b\b\b\b\b\b\b\b\b\b\b\b\b\b\b\b\b\b\b\b\b\b\b\b\b\b\b\b\b\b\b\b\b\b\b\b\b\b\b\b\b\b\b\b\b\b\b\b\b\b\b\b\b\b\b\b\b\b\b\b\b\b\b\b\b\b\b\b\b\b\b\r6/6 [==============================] - 6s 1s/step - loss: 0.3869 - accuracy: 0.8095 - val_loss: 0.6945 - val_accuracy: 0.6929\n",
            "Epoch 15/50\n",
            "1/6 [====>.........................] - ETA: 0s - loss: 0.4786 - accuracy: 0.8125"
          ]
        },
        {
          "output_type": "stream",
          "name": "stderr",
          "text": [
            "WARNING:absl:Found untraced functions such as lstm_cell_2_layer_call_fn, lstm_cell_2_layer_call_and_return_conditional_losses while saving (showing 2 of 2). These functions will not be directly callable after loading.\n",
            "\u001b[34m\u001b[1mwandb\u001b[0m: Adding directory to artifact (/content/wandb/run-20230804_122935-jeplt2ww/files/model-best)... Done. 0.0s\n"
          ]
        },
        {
          "output_type": "stream",
          "name": "stdout",
          "text": [
            "\b\b\b\b\b\b\b\b\b\b\b\b\b\b\b\b\b\b\b\b\b\b\b\b\b\b\b\b\b\b\b\b\b\b\b\b\b\b\b\b\b\b\b\b\b\b\b\b\b\b\b\b\b\b\b\b\b\b\b\b\b\b\b\b\b\b\b\b\b\b\b\b\b\b\b\b\b\b\b\b\r6/6 [==============================] - 6s 1s/step - loss: 0.3714 - accuracy: 0.8095 - val_loss: 0.6828 - val_accuracy: 0.6929\n",
            "Epoch 16/50\n",
            "1/6 [====>.........................] - ETA: 0s - loss: 0.3298 - accuracy: 0.8438"
          ]
        },
        {
          "output_type": "stream",
          "name": "stderr",
          "text": [
            "WARNING:absl:Found untraced functions such as lstm_cell_2_layer_call_fn, lstm_cell_2_layer_call_and_return_conditional_losses while saving (showing 2 of 2). These functions will not be directly callable after loading.\n",
            "\u001b[34m\u001b[1mwandb\u001b[0m: Adding directory to artifact (/content/wandb/run-20230804_122935-jeplt2ww/files/model-best)... Done. 0.0s\n"
          ]
        },
        {
          "output_type": "stream",
          "name": "stdout",
          "text": [
            "\b\b\b\b\b\b\b\b\b\b\b\b\b\b\b\b\b\b\b\b\b\b\b\b\b\b\b\b\b\b\b\b\b\b\b\b\b\b\b\b\b\b\b\b\b\b\b\b\b\b\b\b\b\b\b\b\b\b\b\b\b\b\b\b\b\b\b\b\b\b\b\b\b\b\b\b\b\b\b\b\r6/6 [==============================] - 6s 1s/step - loss: 0.3595 - accuracy: 0.8095 - val_loss: 0.6721 - val_accuracy: 0.6929\n",
            "Epoch 17/50\n",
            "1/6 [====>.........................] - ETA: 0s - loss: 0.3722 - accuracy: 0.8125"
          ]
        },
        {
          "output_type": "stream",
          "name": "stderr",
          "text": [
            "WARNING:absl:Found untraced functions such as lstm_cell_2_layer_call_fn, lstm_cell_2_layer_call_and_return_conditional_losses while saving (showing 2 of 2). These functions will not be directly callable after loading.\n",
            "\u001b[34m\u001b[1mwandb\u001b[0m: Adding directory to artifact (/content/wandb/run-20230804_122935-jeplt2ww/files/model-best)... Done. 0.0s\n"
          ]
        },
        {
          "output_type": "stream",
          "name": "stdout",
          "text": [
            "\b\b\b\b\b\b\b\b\b\b\b\b\b\b\b\b\b\b\b\b\b\b\b\b\b\b\b\b\b\b\b\b\b\b\b\b\b\b\b\b\b\b\b\b\b\b\b\b\b\b\b\b\b\b\b\b\b\b\b\b\b\b\b\b\b\b\b\b\b\b\b\b\b\b\b\b\b\b\b\b\r6/6 [==============================] - 5s 988ms/step - loss: 0.3482 - accuracy: 0.8095 - val_loss: 0.6638 - val_accuracy: 0.6929\n",
            "Epoch 18/50\n",
            "1/6 [====>.........................] - ETA: 0s - loss: 0.3222 - accuracy: 0.7812"
          ]
        },
        {
          "output_type": "stream",
          "name": "stderr",
          "text": [
            "WARNING:absl:Found untraced functions such as lstm_cell_2_layer_call_fn, lstm_cell_2_layer_call_and_return_conditional_losses while saving (showing 2 of 2). These functions will not be directly callable after loading.\n",
            "\u001b[34m\u001b[1mwandb\u001b[0m: Adding directory to artifact (/content/wandb/run-20230804_122935-jeplt2ww/files/model-best)... Done. 0.0s\n"
          ]
        },
        {
          "output_type": "stream",
          "name": "stdout",
          "text": [
            "\b\b\b\b\b\b\b\b\b\b\b\b\b\b\b\b\b\b\b\b\b\b\b\b\b\b\b\b\b\b\b\b\b\b\b\b\b\b\b\b\b\b\b\b\b\b\b\b\b\b\b\b\b\b\b\b\b\b\b\b\b\b\b\b\b\b\b\b\b\b\b\b\b\b\b\b\b\b\b\b\r6/6 [==============================] - 4s 830ms/step - loss: 0.3405 - accuracy: 0.7884 - val_loss: 0.6576 - val_accuracy: 0.6614\n",
            "Epoch 19/50\n",
            "1/6 [====>.........................] - ETA: 0s - loss: 0.2474 - accuracy: 0.8125"
          ]
        },
        {
          "output_type": "stream",
          "name": "stderr",
          "text": [
            "WARNING:absl:Found untraced functions such as lstm_cell_2_layer_call_fn, lstm_cell_2_layer_call_and_return_conditional_losses while saving (showing 2 of 2). These functions will not be directly callable after loading.\n",
            "\u001b[34m\u001b[1mwandb\u001b[0m: Adding directory to artifact (/content/wandb/run-20230804_122935-jeplt2ww/files/model-best)... Done. 0.0s\n"
          ]
        },
        {
          "output_type": "stream",
          "name": "stdout",
          "text": [
            "\b\b\b\b\b\b\b\b\b\b\b\b\b\b\b\b\b\b\b\b\b\b\b\b\b\b\b\b\b\b\b\b\b\b\b\b\b\b\b\b\b\b\b\b\b\b\b\b\b\b\b\b\b\b\b\b\b\b\b\b\b\b\b\b\b\b\b\b\b\b\b\b\b\b\b\b\b\b\b\b\r6/6 [==============================] - 6s 1s/step - loss: 0.3334 - accuracy: 0.8095 - val_loss: 0.6485 - val_accuracy: 0.7008\n",
            "Epoch 20/50\n",
            "1/6 [====>.........................] - ETA: 0s - loss: 0.3470 - accuracy: 0.8438"
          ]
        },
        {
          "output_type": "stream",
          "name": "stderr",
          "text": [
            "WARNING:absl:Found untraced functions such as lstm_cell_2_layer_call_fn, lstm_cell_2_layer_call_and_return_conditional_losses while saving (showing 2 of 2). These functions will not be directly callable after loading.\n",
            "\u001b[34m\u001b[1mwandb\u001b[0m: Adding directory to artifact (/content/wandb/run-20230804_122935-jeplt2ww/files/model-best)... Done. 0.0s\n"
          ]
        },
        {
          "output_type": "stream",
          "name": "stdout",
          "text": [
            "\b\b\b\b\b\b\b\b\b\b\b\b\b\b\b\b\b\b\b\b\b\b\b\b\b\b\b\b\b\b\b\b\b\b\b\b\b\b\b\b\b\b\b\b\b\b\b\b\b\b\b\b\b\b\b\b\b\b\b\b\b\b\b\b\b\b\b\b\b\b\b\b\b\b\b\b\b\b\b\b\r6/6 [==============================] - 4s 808ms/step - loss: 0.3293 - accuracy: 0.8095 - val_loss: 0.6409 - val_accuracy: 0.7087\n",
            "Epoch 21/50\n",
            "1/6 [====>.........................] - ETA: 0s - loss: 0.2552 - accuracy: 0.8438"
          ]
        },
        {
          "output_type": "stream",
          "name": "stderr",
          "text": [
            "WARNING:absl:Found untraced functions such as lstm_cell_2_layer_call_fn, lstm_cell_2_layer_call_and_return_conditional_losses while saving (showing 2 of 2). These functions will not be directly callable after loading.\n",
            "\u001b[34m\u001b[1mwandb\u001b[0m: Adding directory to artifact (/content/wandb/run-20230804_122935-jeplt2ww/files/model-best)... Done. 0.0s\n"
          ]
        },
        {
          "output_type": "stream",
          "name": "stdout",
          "text": [
            "\b\b\b\b\b\b\b\b\b\b\b\b\b\b\b\b\b\b\b\b\b\b\b\b\b\b\b\b\b\b\b\b\b\b\b\b\b\b\b\b\b\b\b\b\b\b\b\b\b\b\b\b\b\b\b\b\b\b\b\b\b\b\b\b\b\b\b\b\b\b\b\b\b\b\b\b\b\b\b\b\r6/6 [==============================] - 5s 976ms/step - loss: 0.3242 - accuracy: 0.7619 - val_loss: 0.6385 - val_accuracy: 0.6693\n",
            "Epoch 22/50\n",
            "1/6 [====>.........................] - ETA: 0s - loss: 0.3696 - accuracy: 0.6875"
          ]
        },
        {
          "output_type": "stream",
          "name": "stderr",
          "text": [
            "WARNING:absl:Found untraced functions such as lstm_cell_2_layer_call_fn, lstm_cell_2_layer_call_and_return_conditional_losses while saving (showing 2 of 2). These functions will not be directly callable after loading.\n",
            "\u001b[34m\u001b[1mwandb\u001b[0m: Adding directory to artifact (/content/wandb/run-20230804_122935-jeplt2ww/files/model-best)... Done. 0.0s\n"
          ]
        },
        {
          "output_type": "stream",
          "name": "stdout",
          "text": [
            "\b\b\b\b\b\b\b\b\b\b\b\b\b\b\b\b\b\b\b\b\b\b\b\b\b\b\b\b\b\b\b\b\b\b\b\b\b\b\b\b\b\b\b\b\b\b\b\b\b\b\b\b\b\b\b\b\b\b\b\b\b\b\b\b\b\b\b\b\b\b\b\b\b\b\b\b\b\b\b\b\r6/6 [==============================] - 6s 1s/step - loss: 0.3177 - accuracy: 0.7831 - val_loss: 0.6324 - val_accuracy: 0.7165\n",
            "Epoch 23/50\n",
            "1/6 [====>.........................] - ETA: 0s - loss: 0.3038 - accuracy: 0.7812"
          ]
        },
        {
          "output_type": "stream",
          "name": "stderr",
          "text": [
            "WARNING:absl:Found untraced functions such as lstm_cell_2_layer_call_fn, lstm_cell_2_layer_call_and_return_conditional_losses while saving (showing 2 of 2). These functions will not be directly callable after loading.\n",
            "\u001b[34m\u001b[1mwandb\u001b[0m: Adding directory to artifact (/content/wandb/run-20230804_122935-jeplt2ww/files/model-best)... Done. 0.0s\n"
          ]
        },
        {
          "output_type": "stream",
          "name": "stdout",
          "text": [
            "\b\b\b\b\b\b\b\b\b\b\b\b\b\b\b\b\b\b\b\b\b\b\b\b\b\b\b\b\b\b\b\b\b\b\b\b\b\b\b\b\b\b\b\b\b\b\b\b\b\b\b\b\b\b\b\b\b\b\b\b\b\b\b\b\b\b\b\b\b\b\b\b\b\b\b\b\b\b\b\b\r6/6 [==============================] - 4s 824ms/step - loss: 0.3138 - accuracy: 0.8095 - val_loss: 0.6275 - val_accuracy: 0.7323\n",
            "Epoch 24/50\n",
            "1/6 [====>.........................] - ETA: 0s - loss: 0.3135 - accuracy: 0.7812"
          ]
        },
        {
          "output_type": "stream",
          "name": "stderr",
          "text": [
            "WARNING:absl:Found untraced functions such as lstm_cell_2_layer_call_fn, lstm_cell_2_layer_call_and_return_conditional_losses while saving (showing 2 of 2). These functions will not be directly callable after loading.\n",
            "\u001b[34m\u001b[1mwandb\u001b[0m: Adding directory to artifact (/content/wandb/run-20230804_122935-jeplt2ww/files/model-best)... Done. 0.0s\n"
          ]
        },
        {
          "output_type": "stream",
          "name": "stdout",
          "text": [
            "\b\b\b\b\b\b\b\b\b\b\b\b\b\b\b\b\b\b\b\b\b\b\b\b\b\b\b\b\b\b\b\b\b\b\b\b\b\b\b\b\b\b\b\b\b\b\b\b\b\b\b\b\b\b\b\b\b\b\b\b\b\b\b\b\b\b\b\b\b\b\b\b\b\b\b\b\b\b\b\b\r6/6 [==============================] - 5s 967ms/step - loss: 0.3109 - accuracy: 0.8095 - val_loss: 0.6245 - val_accuracy: 0.7402\n",
            "Epoch 25/50\n",
            "1/6 [====>.........................] - ETA: 0s - loss: 0.4184 - accuracy: 0.7812"
          ]
        },
        {
          "output_type": "stream",
          "name": "stderr",
          "text": [
            "WARNING:absl:Found untraced functions such as lstm_cell_2_layer_call_fn, lstm_cell_2_layer_call_and_return_conditional_losses while saving (showing 2 of 2). These functions will not be directly callable after loading.\n",
            "\u001b[34m\u001b[1mwandb\u001b[0m: Adding directory to artifact (/content/wandb/run-20230804_122935-jeplt2ww/files/model-best)... Done. 0.0s\n"
          ]
        },
        {
          "output_type": "stream",
          "name": "stdout",
          "text": [
            "\b\b\b\b\b\b\b\b\b\b\b\b\b\b\b\b\b\b\b\b\b\b\b\b\b\b\b\b\b\b\b\b\b\b\b\b\b\b\b\b\b\b\b\b\b\b\b\b\b\b\b\b\b\b\b\b\b\b\b\b\b\b\b\b\b\b\b\b\b\b\b\b\b\b\b\b\b\b\b\b\r6/6 [==============================] - 6s 1s/step - loss: 0.3083 - accuracy: 0.8095 - val_loss: 0.6201 - val_accuracy: 0.7323\n",
            "Epoch 26/50\n",
            "1/6 [====>.........................] - ETA: 0s - loss: 0.2990 - accuracy: 0.7500"
          ]
        },
        {
          "output_type": "stream",
          "name": "stderr",
          "text": [
            "WARNING:absl:Found untraced functions such as lstm_cell_2_layer_call_fn, lstm_cell_2_layer_call_and_return_conditional_losses while saving (showing 2 of 2). These functions will not be directly callable after loading.\n",
            "\u001b[34m\u001b[1mwandb\u001b[0m: Adding directory to artifact (/content/wandb/run-20230804_122935-jeplt2ww/files/model-best)... Done. 0.0s\n"
          ]
        },
        {
          "output_type": "stream",
          "name": "stdout",
          "text": [
            "\b\b\b\b\b\b\b\b\b\b\b\b\b\b\b\b\b\b\b\b\b\b\b\b\b\b\b\b\b\b\b\b\b\b\b\b\b\b\b\b\b\b\b\b\b\b\b\b\b\b\b\b\b\b\b\b\b\b\b\b\b\b\b\b\b\b\b\b\b\b\b\b\b\b\b\b\b\b\b\b\r6/6 [==============================] - 5s 961ms/step - loss: 0.3052 - accuracy: 0.8095 - val_loss: 0.6172 - val_accuracy: 0.7323\n",
            "Epoch 27/50\n",
            "1/6 [====>.........................] - ETA: 0s - loss: 0.2713 - accuracy: 0.8125"
          ]
        },
        {
          "output_type": "stream",
          "name": "stderr",
          "text": [
            "WARNING:absl:Found untraced functions such as lstm_cell_2_layer_call_fn, lstm_cell_2_layer_call_and_return_conditional_losses while saving (showing 2 of 2). These functions will not be directly callable after loading.\n",
            "\u001b[34m\u001b[1mwandb\u001b[0m: Adding directory to artifact (/content/wandb/run-20230804_122935-jeplt2ww/files/model-best)... Done. 0.0s\n"
          ]
        },
        {
          "output_type": "stream",
          "name": "stdout",
          "text": [
            "\b\b\b\b\b\b\b\b\b\b\b\b\b\b\b\b\b\b\b\b\b\b\b\b\b\b\b\b\b\b\b\b\b\b\b\b\b\b\b\b\b\b\b\b\b\b\b\b\b\b\b\b\b\b\b\b\b\b\b\b\b\b\b\b\b\b\b\b\b\b\b\b\b\b\b\b\b\b\b\b\r6/6 [==============================] - 4s 876ms/step - loss: 0.3031 - accuracy: 0.8095 - val_loss: 0.6147 - val_accuracy: 0.7323\n",
            "Epoch 28/50\n",
            "1/6 [====>.........................] - ETA: 0s - loss: 0.3054 - accuracy: 0.8125"
          ]
        },
        {
          "output_type": "stream",
          "name": "stderr",
          "text": [
            "WARNING:absl:Found untraced functions such as lstm_cell_2_layer_call_fn, lstm_cell_2_layer_call_and_return_conditional_losses while saving (showing 2 of 2). These functions will not be directly callable after loading.\n",
            "\u001b[34m\u001b[1mwandb\u001b[0m: Adding directory to artifact (/content/wandb/run-20230804_122935-jeplt2ww/files/model-best)... Done. 0.0s\n"
          ]
        },
        {
          "output_type": "stream",
          "name": "stdout",
          "text": [
            "\b\b\b\b\b\b\b\b\b\b\b\b\b\b\b\b\b\b\b\b\b\b\b\b\b\b\b\b\b\b\b\b\b\b\b\b\b\b\b\b\b\b\b\b\b\b\b\b\b\b\b\b\b\b\b\b\b\b\b\b\b\b\b\b\b\b\b\b\b\b\b\b\b\b\b\b\b\b\b\b\r6/6 [==============================] - 6s 1s/step - loss: 0.3011 - accuracy: 0.8095 - val_loss: 0.6129 - val_accuracy: 0.7323\n",
            "Epoch 29/50\n",
            "1/6 [====>.........................] - ETA: 0s - loss: 0.3261 - accuracy: 0.8125"
          ]
        },
        {
          "output_type": "stream",
          "name": "stderr",
          "text": [
            "WARNING:absl:Found untraced functions such as lstm_cell_2_layer_call_fn, lstm_cell_2_layer_call_and_return_conditional_losses while saving (showing 2 of 2). These functions will not be directly callable after loading.\n",
            "\u001b[34m\u001b[1mwandb\u001b[0m: Adding directory to artifact (/content/wandb/run-20230804_122935-jeplt2ww/files/model-best)... Done. 0.0s\n"
          ]
        },
        {
          "output_type": "stream",
          "name": "stdout",
          "text": [
            "\b\b\b\b\b\b\b\b\b\b\b\b\b\b\b\b\b\b\b\b\b\b\b\b\b\b\b\b\b\b\b\b\b\b\b\b\b\b\b\b\b\b\b\b\b\b\b\b\b\b\b\b\b\b\b\b\b\b\b\b\b\b\b\b\b\b\b\b\b\b\b\b\b\b\b\b\b\b\b\b\r6/6 [==============================] - 4s 831ms/step - loss: 0.2998 - accuracy: 0.8095 - val_loss: 0.6118 - val_accuracy: 0.7323\n",
            "Epoch 30/50\n",
            "1/6 [====>.........................] - ETA: 0s - loss: 0.2277 - accuracy: 0.9062"
          ]
        },
        {
          "output_type": "stream",
          "name": "stderr",
          "text": [
            "WARNING:absl:Found untraced functions such as lstm_cell_2_layer_call_fn, lstm_cell_2_layer_call_and_return_conditional_losses while saving (showing 2 of 2). These functions will not be directly callable after loading.\n",
            "\u001b[34m\u001b[1mwandb\u001b[0m: Adding directory to artifact (/content/wandb/run-20230804_122935-jeplt2ww/files/model-best)... Done. 0.0s\n"
          ]
        },
        {
          "output_type": "stream",
          "name": "stdout",
          "text": [
            "\b\b\b\b\b\b\b\b\b\b\b\b\b\b\b\b\b\b\b\b\b\b\b\b\b\b\b\b\b\b\b\b\b\b\b\b\b\b\b\b\b\b\b\b\b\b\b\b\b\b\b\b\b\b\b\b\b\b\b\b\b\b\b\b\b\b\b\b\b\b\b\b\b\b\b\b\b\b\b\b\r6/6 [==============================] - 5s 1s/step - loss: 0.2982 - accuracy: 0.8095 - val_loss: 0.6098 - val_accuracy: 0.7323\n",
            "Epoch 31/50\n",
            "1/6 [====>.........................] - ETA: 0s - loss: 0.1992 - accuracy: 0.8750"
          ]
        },
        {
          "output_type": "stream",
          "name": "stderr",
          "text": [
            "WARNING:absl:Found untraced functions such as lstm_cell_2_layer_call_fn, lstm_cell_2_layer_call_and_return_conditional_losses while saving (showing 2 of 2). These functions will not be directly callable after loading.\n",
            "\u001b[34m\u001b[1mwandb\u001b[0m: Adding directory to artifact (/content/wandb/run-20230804_122935-jeplt2ww/files/model-best)... Done. 0.0s\n"
          ]
        },
        {
          "output_type": "stream",
          "name": "stdout",
          "text": [
            "\b\b\b\b\b\b\b\b\b\b\b\b\b\b\b\b\b\b\b\b\b\b\b\b\b\b\b\b\b\b\b\b\b\b\b\b\b\b\b\b\b\b\b\b\b\b\b\b\b\b\b\b\b\b\b\b\b\b\b\b\b\b\b\b\b\b\b\b\b\b\b\b\b\b\b\b\b\b\b\b\r6/6 [==============================] - 6s 1s/step - loss: 0.2967 - accuracy: 0.8095 - val_loss: 0.6086 - val_accuracy: 0.7323\n",
            "Epoch 32/50\n",
            "1/6 [====>.........................] - ETA: 0s - loss: 0.2167 - accuracy: 0.8750"
          ]
        },
        {
          "output_type": "stream",
          "name": "stderr",
          "text": [
            "WARNING:absl:Found untraced functions such as lstm_cell_2_layer_call_fn, lstm_cell_2_layer_call_and_return_conditional_losses while saving (showing 2 of 2). These functions will not be directly callable after loading.\n",
            "\u001b[34m\u001b[1mwandb\u001b[0m: Adding directory to artifact (/content/wandb/run-20230804_122935-jeplt2ww/files/model-best)... Done. 0.0s\n"
          ]
        },
        {
          "output_type": "stream",
          "name": "stdout",
          "text": [
            "\b\b\b\b\b\b\b\b\b\b\b\b\b\b\b\b\b\b\b\b\b\b\b\b\b\b\b\b\b\b\b\b\b\b\b\b\b\b\b\b\b\b\b\b\b\b\b\b\b\b\b\b\b\b\b\b\b\b\b\b\b\b\b\b\b\b\b\b\b\b\b\b\b\b\b\b\b\b\b\b\r6/6 [==============================] - 4s 835ms/step - loss: 0.2959 - accuracy: 0.8095 - val_loss: 0.6076 - val_accuracy: 0.7323\n",
            "Epoch 33/50\n",
            "1/6 [====>.........................] - ETA: 0s - loss: 0.2924 - accuracy: 0.9062"
          ]
        },
        {
          "output_type": "stream",
          "name": "stderr",
          "text": [
            "WARNING:absl:Found untraced functions such as lstm_cell_2_layer_call_fn, lstm_cell_2_layer_call_and_return_conditional_losses while saving (showing 2 of 2). These functions will not be directly callable after loading.\n",
            "\u001b[34m\u001b[1mwandb\u001b[0m: Adding directory to artifact (/content/wandb/run-20230804_122935-jeplt2ww/files/model-best)... Done. 0.0s\n"
          ]
        },
        {
          "output_type": "stream",
          "name": "stdout",
          "text": [
            "\b\b\b\b\b\b\b\b\b\b\b\b\b\b\b\b\b\b\b\b\b\b\b\b\b\b\b\b\b\b\b\b\b\b\b\b\b\b\b\b\b\b\b\b\b\b\b\b\b\b\b\b\b\b\b\b\b\b\b\b\b\b\b\b\b\b\b\b\b\b\b\b\b\b\b\b\b\b\b\b\r6/6 [==============================] - 5s 1s/step - loss: 0.2952 - accuracy: 0.8095 - val_loss: 0.6055 - val_accuracy: 0.7323\n",
            "Epoch 34/50\n",
            "1/6 [====>.........................] - ETA: 0s - loss: 0.3424 - accuracy: 0.7500"
          ]
        },
        {
          "output_type": "stream",
          "name": "stderr",
          "text": [
            "WARNING:absl:Found untraced functions such as lstm_cell_2_layer_call_fn, lstm_cell_2_layer_call_and_return_conditional_losses while saving (showing 2 of 2). These functions will not be directly callable after loading.\n",
            "\u001b[34m\u001b[1mwandb\u001b[0m: Adding directory to artifact (/content/wandb/run-20230804_122935-jeplt2ww/files/model-best)... Done. 0.0s\n"
          ]
        },
        {
          "output_type": "stream",
          "name": "stdout",
          "text": [
            "\b\b\b\b\b\b\b\b\b\b\b\b\b\b\b\b\b\b\b\b\b\b\b\b\b\b\b\b\b\b\b\b\b\b\b\b\b\b\b\b\b\b\b\b\b\b\b\b\b\b\b\b\b\b\b\b\b\b\b\b\b\b\b\b\b\b\b\b\b\b\b\b\b\b\b\b\b\b\b\b\r6/6 [==============================] - 5s 1s/step - loss: 0.2934 - accuracy: 0.8095 - val_loss: 0.6047 - val_accuracy: 0.7323\n",
            "Epoch 35/50\n",
            "1/6 [====>.........................] - ETA: 0s - loss: 0.3432 - accuracy: 0.7812"
          ]
        },
        {
          "output_type": "stream",
          "name": "stderr",
          "text": [
            "WARNING:absl:Found untraced functions such as lstm_cell_2_layer_call_fn, lstm_cell_2_layer_call_and_return_conditional_losses while saving (showing 2 of 2). These functions will not be directly callable after loading.\n",
            "\u001b[34m\u001b[1mwandb\u001b[0m: Adding directory to artifact (/content/wandb/run-20230804_122935-jeplt2ww/files/model-best)... Done. 0.0s\n"
          ]
        },
        {
          "output_type": "stream",
          "name": "stdout",
          "text": [
            "\b\b\b\b\b\b\b\b\b\b\b\b\b\b\b\b\b\b\b\b\b\b\b\b\b\b\b\b\b\b\b\b\b\b\b\b\b\b\b\b\b\b\b\b\b\b\b\b\b\b\b\b\b\b\b\b\b\b\b\b\b\b\b\b\b\b\b\b\b\b\b\b\b\b\b\b\b\b\b\b\r6/6 [==============================] - 4s 832ms/step - loss: 0.2926 - accuracy: 0.8095 - val_loss: 0.6033 - val_accuracy: 0.7323\n",
            "Epoch 36/50\n",
            "1/6 [====>.........................] - ETA: 0s - loss: 0.2715 - accuracy: 0.8750"
          ]
        },
        {
          "output_type": "stream",
          "name": "stderr",
          "text": [
            "WARNING:absl:Found untraced functions such as lstm_cell_2_layer_call_fn, lstm_cell_2_layer_call_and_return_conditional_losses while saving (showing 2 of 2). These functions will not be directly callable after loading.\n",
            "\u001b[34m\u001b[1mwandb\u001b[0m: Adding directory to artifact (/content/wandb/run-20230804_122935-jeplt2ww/files/model-best)... Done. 0.0s\n"
          ]
        },
        {
          "output_type": "stream",
          "name": "stdout",
          "text": [
            "\b\b\b\b\b\b\b\b\b\b\b\b\b\b\b\b\b\b\b\b\b\b\b\b\b\b\b\b\b\b\b\b\b\b\b\b\b\b\b\b\b\b\b\b\b\b\b\b\b\b\b\b\b\b\b\b\b\b\b\b\b\b\b\b\b\b\b\b\b\b\b\b\b\b\b\b\b\b\b\b\r6/6 [==============================] - 5s 1s/step - loss: 0.2938 - accuracy: 0.8095 - val_loss: 0.6018 - val_accuracy: 0.7323\n",
            "Epoch 37/50\n",
            "6/6 [==============================] - 0s 19ms/step - loss: 0.2946 - accuracy: 0.7725 - val_loss: 0.6037 - val_accuracy: 0.6929\n",
            "Epoch 38/50\n",
            "1/6 [====>.........................] - ETA: 0s - loss: 0.3005 - accuracy: 0.7812"
          ]
        },
        {
          "output_type": "stream",
          "name": "stderr",
          "text": [
            "WARNING:absl:Found untraced functions such as lstm_cell_2_layer_call_fn, lstm_cell_2_layer_call_and_return_conditional_losses while saving (showing 2 of 2). These functions will not be directly callable after loading.\n",
            "\u001b[34m\u001b[1mwandb\u001b[0m: Adding directory to artifact (/content/wandb/run-20230804_122935-jeplt2ww/files/model-best)... Done. 0.0s\n"
          ]
        },
        {
          "output_type": "stream",
          "name": "stdout",
          "text": [
            "\b\b\b\b\b\b\b\b\b\b\b\b\b\b\b\b\b\b\b\b\b\b\b\b\b\b\b\b\b\b\b\b\b\b\b\b\b\b\b\b\b\b\b\b\b\b\b\b\b\b\b\b\b\b\b\b\b\b\b\b\b\b\b\b\b\b\b\b\b\b\b\b\b\b\b\b\b\b\b\b\r6/6 [==============================] - 5s 1s/step - loss: 0.2907 - accuracy: 0.7884 - val_loss: 0.6008 - val_accuracy: 0.7244\n",
            "Epoch 39/50\n",
            "1/6 [====>.........................] - ETA: 0s - loss: 0.2917 - accuracy: 0.8750"
          ]
        },
        {
          "output_type": "stream",
          "name": "stderr",
          "text": [
            "WARNING:absl:Found untraced functions such as lstm_cell_2_layer_call_fn, lstm_cell_2_layer_call_and_return_conditional_losses while saving (showing 2 of 2). These functions will not be directly callable after loading.\n",
            "\u001b[34m\u001b[1mwandb\u001b[0m: Adding directory to artifact (/content/wandb/run-20230804_122935-jeplt2ww/files/model-best)... Done. 0.0s\n"
          ]
        },
        {
          "output_type": "stream",
          "name": "stdout",
          "text": [
            "\b\b\b\b\b\b\b\b\b\b\b\b\b\b\b\b\b\b\b\b\b\b\b\b\b\b\b\b\b\b\b\b\b\b\b\b\b\b\b\b\b\b\b\b\b\b\b\b\b\b\b\b\b\b\b\b\b\b\b\b\b\b\b\b\b\b\b\b\b\b\b\b\b\b\b\b\b\b\b\b\r6/6 [==============================] - 4s 823ms/step - loss: 0.2901 - accuracy: 0.8095 - val_loss: 0.5995 - val_accuracy: 0.7244\n",
            "Epoch 40/50\n",
            "1/6 [====>.........................] - ETA: 0s - loss: 0.2271 - accuracy: 0.9062"
          ]
        },
        {
          "output_type": "stream",
          "name": "stderr",
          "text": [
            "WARNING:absl:Found untraced functions such as lstm_cell_2_layer_call_fn, lstm_cell_2_layer_call_and_return_conditional_losses while saving (showing 2 of 2). These functions will not be directly callable after loading.\n",
            "\u001b[34m\u001b[1mwandb\u001b[0m: Adding directory to artifact (/content/wandb/run-20230804_122935-jeplt2ww/files/model-best)... Done. 0.0s\n"
          ]
        },
        {
          "output_type": "stream",
          "name": "stdout",
          "text": [
            "\b\b\b\b\b\b\b\b\b\b\b\b\b\b\b\b\b\b\b\b\b\b\b\b\b\b\b\b\b\b\b\b\b\b\b\b\b\b\b\b\b\b\b\b\b\b\b\b\b\b\b\b\b\b\b\b\b\b\b\b\b\b\b\b\b\b\b\b\b\b\b\b\b\b\b\b\b\b\b\b\r6/6 [==============================] - 6s 1s/step - loss: 0.2907 - accuracy: 0.8095 - val_loss: 0.5983 - val_accuracy: 0.7244\n",
            "Epoch 41/50\n",
            "6/6 [==============================] - 0s 23ms/step - loss: 0.2891 - accuracy: 0.8095 - val_loss: 0.5990 - val_accuracy: 0.7244\n",
            "Epoch 42/50\n",
            "6/6 [==============================] - 0s 22ms/step - loss: 0.2902 - accuracy: 0.7619 - val_loss: 0.5996 - val_accuracy: 0.6850\n",
            "Epoch 43/50\n",
            "1/6 [====>.........................] - ETA: 0s - loss: 0.2975 - accuracy: 0.7500"
          ]
        },
        {
          "output_type": "stream",
          "name": "stderr",
          "text": [
            "WARNING:absl:Found untraced functions such as lstm_cell_2_layer_call_fn, lstm_cell_2_layer_call_and_return_conditional_losses while saving (showing 2 of 2). These functions will not be directly callable after loading.\n",
            "\u001b[34m\u001b[1mwandb\u001b[0m: Adding directory to artifact (/content/wandb/run-20230804_122935-jeplt2ww/files/model-best)... Done. 0.0s\n"
          ]
        },
        {
          "output_type": "stream",
          "name": "stdout",
          "text": [
            "\b\b\b\b\b\b\b\b\b\b\b\b\b\b\b\b\b\b\b\b\b\b\b\b\b\b\b\b\b\b\b\b\b\b\b\b\b\b\b\b\b\b\b\b\b\b\b\b\b\b\b\b\b\b\b\b\b\b\b\b\b\b\b\b\b\b\b\b\b\b\b\b\b\b\b\b\b\b\b\b\r6/6 [==============================] - 5s 997ms/step - loss: 0.2899 - accuracy: 0.7937 - val_loss: 0.5962 - val_accuracy: 0.7244\n",
            "Epoch 44/50\n",
            "1/6 [====>.........................] - ETA: 0s - loss: 0.2913 - accuracy: 0.8125"
          ]
        },
        {
          "output_type": "stream",
          "name": "stderr",
          "text": [
            "WARNING:absl:Found untraced functions such as lstm_cell_2_layer_call_fn, lstm_cell_2_layer_call_and_return_conditional_losses while saving (showing 2 of 2). These functions will not be directly callable after loading.\n",
            "\u001b[34m\u001b[1mwandb\u001b[0m: Adding directory to artifact (/content/wandb/run-20230804_122935-jeplt2ww/files/model-best)... Done. 0.0s\n"
          ]
        },
        {
          "output_type": "stream",
          "name": "stdout",
          "text": [
            "\b\b\b\b\b\b\b\b\b\b\b\b\b\b\b\b\b\b\b\b\b\b\b\b\b\b\b\b\b\b\b\b\b\b\b\b\b\b\b\b\b\b\b\b\b\b\b\b\b\b\b\b\b\b\b\b\b\b\b\b\b\b\b\b\b\b\b\b\b\b\b\b\b\b\b\b\b\b\b\b\r6/6 [==============================] - 5s 952ms/step - loss: 0.2881 - accuracy: 0.8095 - val_loss: 0.5956 - val_accuracy: 0.7244\n",
            "Epoch 45/50\n",
            "1/6 [====>.........................] - ETA: 0s - loss: 0.2915 - accuracy: 0.8125"
          ]
        },
        {
          "output_type": "stream",
          "name": "stderr",
          "text": [
            "WARNING:absl:Found untraced functions such as lstm_cell_2_layer_call_fn, lstm_cell_2_layer_call_and_return_conditional_losses while saving (showing 2 of 2). These functions will not be directly callable after loading.\n",
            "\u001b[34m\u001b[1mwandb\u001b[0m: Adding directory to artifact (/content/wandb/run-20230804_122935-jeplt2ww/files/model-best)... Done. 0.0s\n"
          ]
        },
        {
          "output_type": "stream",
          "name": "stdout",
          "text": [
            "\b\b\b\b\b\b\b\b\b\b\b\b\b\b\b\b\b\b\b\b\b\b\b\b\b\b\b\b\b\b\b\b\b\b\b\b\b\b\b\b\b\b\b\b\b\b\b\b\b\b\b\b\b\b\b\b\b\b\b\b\b\b\b\b\b\b\b\b\b\b\b\b\b\b\b\b\b\b\b\b\r6/6 [==============================] - 5s 1s/step - loss: 0.2868 - accuracy: 0.8095 - val_loss: 0.5955 - val_accuracy: 0.7244\n",
            "Epoch 46/50\n",
            "6/6 [==============================] - 0s 21ms/step - loss: 0.2881 - accuracy: 0.7672 - val_loss: 0.5973 - val_accuracy: 0.6850\n",
            "Epoch 47/50\n",
            "6/6 [==============================] - 0s 18ms/step - loss: 0.2880 - accuracy: 0.7937 - val_loss: 0.5975 - val_accuracy: 0.6850\n",
            "Epoch 48/50\n",
            "1/6 [====>.........................] - ETA: 0s - loss: 0.2751 - accuracy: 0.7500"
          ]
        },
        {
          "output_type": "stream",
          "name": "stderr",
          "text": [
            "WARNING:absl:Found untraced functions such as lstm_cell_2_layer_call_fn, lstm_cell_2_layer_call_and_return_conditional_losses while saving (showing 2 of 2). These functions will not be directly callable after loading.\n",
            "\u001b[34m\u001b[1mwandb\u001b[0m: Adding directory to artifact (/content/wandb/run-20230804_122935-jeplt2ww/files/model-best)... Done. 0.0s\n"
          ]
        },
        {
          "output_type": "stream",
          "name": "stdout",
          "text": [
            "\b\b\b\b\b\b\b\b\b\b\b\b\b\b\b\b\b\b\b\b\b\b\b\b\b\b\b\b\b\b\b\b\b\b\b\b\b\b\b\b\b\b\b\b\b\b\b\b\b\b\b\b\b\b\b\b\b\b\b\b\b\b\b\b\b\b\b\b\b\b\b\b\b\b\b\b\b\b\b\b\r6/6 [==============================] - 5s 961ms/step - loss: 0.2866 - accuracy: 0.8095 - val_loss: 0.5940 - val_accuracy: 0.7244\n",
            "Epoch 49/50\n",
            "1/6 [====>.........................] - ETA: 0s - loss: 0.2284 - accuracy: 0.8438"
          ]
        },
        {
          "output_type": "stream",
          "name": "stderr",
          "text": [
            "WARNING:absl:Found untraced functions such as lstm_cell_2_layer_call_fn, lstm_cell_2_layer_call_and_return_conditional_losses while saving (showing 2 of 2). These functions will not be directly callable after loading.\n",
            "\u001b[34m\u001b[1mwandb\u001b[0m: Adding directory to artifact (/content/wandb/run-20230804_122935-jeplt2ww/files/model-best)... Done. 0.0s\n"
          ]
        },
        {
          "output_type": "stream",
          "name": "stdout",
          "text": [
            "\b\b\b\b\b\b\b\b\b\b\b\b\b\b\b\b\b\b\b\b\b\b\b\b\b\b\b\b\b\b\b\b\b\b\b\b\b\b\b\b\b\b\b\b\b\b\b\b\b\b\b\b\b\b\b\b\b\b\b\b\b\b\b\b\b\b\b\b\b\b\b\b\b\b\b\b\b\b\b\b\r6/6 [==============================] - 4s 849ms/step - loss: 0.2868 - accuracy: 0.8095 - val_loss: 0.5932 - val_accuracy: 0.7244\n",
            "Epoch 50/50\n",
            "6/6 [==============================] - 0s 14ms/step - loss: 0.2850 - accuracy: 0.8095 - val_loss: 0.5935 - val_accuracy: 0.7244\n",
            "<keras.callbacks.History object at 0x7a05f948a770>\n"
          ]
        }
      ],
      "source": [
        "wandb.init()\n",
        "x=model.fit(X_train, y_train_hot, epochs=config.epochs, validation_data=(X_test, y_test_hot), callbacks=[WandbCallback(data_type=\"audio\", labels=labels)])\n",
        "print(x)"
      ]
    },
    {
      "cell_type": "code",
      "execution_count": null,
      "metadata": {
        "colab": {
          "base_uri": "https://localhost:8080/"
        },
        "id": "TLZb7z04M2qj",
        "outputId": "86477356-d7ec-4075-9b29-2e607f8d6df3"
      },
      "outputs": [
        {
          "output_type": "stream",
          "name": "stdout",
          "text": [
            "4/4 [==============================] - 0s 4ms/step\n",
            "Accuracy: 0.8913385826771654\n"
          ]
        }
      ],
      "source": [
        "predictions = model.predict(X_test)\n",
        "\n",
        "# Convert predictions to binary values (if necessary)\n",
        "binary_predictions = (predictions > 0.5).astype(int)\n",
        "\n",
        "# Calculate accuracy\n",
        "accuracy = (binary_predictions == y_test_hot).mean()\n",
        "\n",
        "# Print the accuracy\n",
        "print(\"Accuracy:\", accuracy)"
      ]
    },
    {
      "cell_type": "code",
      "execution_count": null,
      "metadata": {
        "colab": {
          "base_uri": "https://localhost:8080/"
        },
        "id": "ay9a0IAX4HJd",
        "outputId": "0e3f4dc6-6a06-462e-8bca-55d6c504516b"
      },
      "outputs": [
        {
          "output_type": "stream",
          "name": "stdout",
          "text": [
            "4/4 [==============================] - 0s 5ms/step - loss: 0.5935 - accuracy: 0.7244\n",
            "Test error: 0.5935237407684326, test_accuracy: 0.7244094610214233\n"
          ]
        }
      ],
      "source": [
        "test_error, test_accuracy = model.evaluate(X_test, y_test_hot)\n",
        "print(f\"Test error: {test_error}, test_accuracy: {test_accuracy}\")"
      ]
    },
    {
      "cell_type": "markdown",
      "metadata": {
        "id": "Hc6eA_i_M__8"
      },
      "source": [
        "GRU"
      ]
    },
    {
      "cell_type": "code",
      "execution_count": null,
      "metadata": {
        "id": "dX2niycRN0fL"
      },
      "outputs": [],
      "source": [
        "from keras.models import Sequential\n",
        "from keras.layers import LSTM, GRU, Dense\n",
        "import numpy as np"
      ]
    },
    {
      "cell_type": "code",
      "execution_count": null,
      "metadata": {
        "colab": {
          "base_uri": "https://localhost:8080/"
        },
        "id": "QmA47GNyNxtu",
        "outputId": "a7e49e30-fb21-4418-9db5-6261d7c55f45"
      },
      "outputs": [
        {
          "output_type": "stream",
          "name": "stdout",
          "text": [
            "Epoch 1/50\n",
            "1/6 [====>.........................] - ETA: 24s - loss: 0.2631"
          ]
        },
        {
          "output_type": "stream",
          "name": "stderr",
          "text": [
            "WARNING:absl:Found untraced functions such as lstm_cell_3_layer_call_fn, lstm_cell_3_layer_call_and_return_conditional_losses, gru_cell_layer_call_fn, gru_cell_layer_call_and_return_conditional_losses while saving (showing 4 of 4). These functions will not be directly callable after loading.\n",
            "\u001b[34m\u001b[1mwandb\u001b[0m: Adding directory to artifact (/content/wandb/run-20230804_122935-jeplt2ww/files/model-best)... Done. 0.0s\n"
          ]
        },
        {
          "output_type": "stream",
          "name": "stdout",
          "text": [
            "\b\b\b\b\b\b\b\b\b\b\b\b\b\b\b\b\b\b\b\b\b\b\b\b\b\b\b\b\b\b\b\b\b\b\b\b\b\b\b\b\b\b\b\b\b\b\b\b\b\b\b\b\b\b\b\b\b\b\b\b\b\b\r6/6 [==============================] - 13s 2s/step - loss: 0.1919 - val_loss: 0.1440\n",
            "Epoch 2/50\n",
            "1/6 [====>.........................] - ETA: 0s - loss: 0.1346"
          ]
        },
        {
          "output_type": "stream",
          "name": "stderr",
          "text": [
            "WARNING:absl:Found untraced functions such as lstm_cell_3_layer_call_fn, lstm_cell_3_layer_call_and_return_conditional_losses, gru_cell_layer_call_fn, gru_cell_layer_call_and_return_conditional_losses while saving (showing 4 of 4). These functions will not be directly callable after loading.\n",
            "\u001b[34m\u001b[1mwandb\u001b[0m: Adding directory to artifact (/content/wandb/run-20230804_122935-jeplt2ww/files/model-best)... Done. 0.0s\n"
          ]
        },
        {
          "output_type": "stream",
          "name": "stdout",
          "text": [
            "\b\b\b\b\b\b\b\b\b\b\b\b\b\b\b\b\b\b\b\b\b\b\b\b\b\b\b\b\b\b\b\b\b\b\b\b\b\b\b\b\b\b\b\b\b\b\b\b\b\b\b\b\b\b\b\b\b\b\b\b\b\r6/6 [==============================] - 10s 2s/step - loss: 0.1165 - val_loss: 0.1112\n",
            "Epoch 3/50\n",
            "1/6 [====>.........................] - ETA: 0s - loss: 0.0981"
          ]
        },
        {
          "output_type": "stream",
          "name": "stderr",
          "text": [
            "WARNING:absl:Found untraced functions such as lstm_cell_3_layer_call_fn, lstm_cell_3_layer_call_and_return_conditional_losses, gru_cell_layer_call_fn, gru_cell_layer_call_and_return_conditional_losses while saving (showing 4 of 4). These functions will not be directly callable after loading.\n",
            "\u001b[34m\u001b[1mwandb\u001b[0m: Adding directory to artifact (/content/wandb/run-20230804_122935-jeplt2ww/files/model-best)... Done. 0.0s\n"
          ]
        },
        {
          "output_type": "stream",
          "name": "stdout",
          "text": [
            "\b\b\b\b\b\b\b\b\b\b\b\b\b\b\b\b\b\b\b\b\b\b\b\b\b\b\b\b\b\b\b\b\b\b\b\b\b\b\b\b\b\b\b\b\b\b\b\b\b\b\b\b\b\b\b\b\b\b\b\b\b\r6/6 [==============================] - 8s 2s/step - loss: 0.0814 - val_loss: 0.0903\n",
            "Epoch 4/50\n",
            "1/6 [====>.........................] - ETA: 0s - loss: 0.0420"
          ]
        },
        {
          "output_type": "stream",
          "name": "stderr",
          "text": [
            "WARNING:absl:Found untraced functions such as lstm_cell_3_layer_call_fn, lstm_cell_3_layer_call_and_return_conditional_losses, gru_cell_layer_call_fn, gru_cell_layer_call_and_return_conditional_losses while saving (showing 4 of 4). These functions will not be directly callable after loading.\n",
            "\u001b[34m\u001b[1mwandb\u001b[0m: Adding directory to artifact (/content/wandb/run-20230804_122935-jeplt2ww/files/model-best)... Done. 0.0s\n"
          ]
        },
        {
          "output_type": "stream",
          "name": "stdout",
          "text": [
            "\b\b\b\b\b\b\b\b\b\b\b\b\b\b\b\b\b\b\b\b\b\b\b\b\b\b\b\b\b\b\b\b\b\b\b\b\b\b\b\b\b\b\b\b\b\b\b\b\b\b\b\b\b\b\b\b\b\b\b\b\b\r6/6 [==============================] - 8s 2s/step - loss: 0.0602 - val_loss: 0.0856\n",
            "Epoch 5/50\n",
            "1/6 [====>.........................] - ETA: 0s - loss: 0.0498"
          ]
        },
        {
          "output_type": "stream",
          "name": "stderr",
          "text": [
            "WARNING:absl:Found untraced functions such as lstm_cell_3_layer_call_fn, lstm_cell_3_layer_call_and_return_conditional_losses, gru_cell_layer_call_fn, gru_cell_layer_call_and_return_conditional_losses while saving (showing 4 of 4). These functions will not be directly callable after loading.\n",
            "\u001b[34m\u001b[1mwandb\u001b[0m: Adding directory to artifact (/content/wandb/run-20230804_122935-jeplt2ww/files/model-best)... Done. 0.0s\n"
          ]
        },
        {
          "output_type": "stream",
          "name": "stdout",
          "text": [
            "\b\b\b\b\b\b\b\b\b\b\b\b\b\b\b\b\b\b\b\b\b\b\b\b\b\b\b\b\b\b\b\b\b\b\b\b\b\b\b\b\b\b\b\b\b\b\b\b\b\b\b\b\b\b\b\b\b\b\b\b\b\r6/6 [==============================] - 9s 2s/step - loss: 0.0536 - val_loss: 0.0816\n",
            "Epoch 6/50\n",
            "6/6 [==============================] - ETA: 0s - loss: 0.0483"
          ]
        },
        {
          "output_type": "stream",
          "name": "stderr",
          "text": [
            "WARNING:absl:Found untraced functions such as lstm_cell_3_layer_call_fn, lstm_cell_3_layer_call_and_return_conditional_losses, gru_cell_layer_call_fn, gru_cell_layer_call_and_return_conditional_losses while saving (showing 4 of 4). These functions will not be directly callable after loading.\n",
            "\u001b[34m\u001b[1mwandb\u001b[0m: Adding directory to artifact (/content/wandb/run-20230804_122935-jeplt2ww/files/model-best)... Done. 0.0s\n"
          ]
        },
        {
          "output_type": "stream",
          "name": "stdout",
          "text": [
            "\b\b\b\b\b\b\b\b\b\b\b\b\b\b\b\b\b\b\b\b\b\b\b\b\b\b\b\b\b\b\b\b\b\b\b\b\b\b\b\b\b\b\b\b\b\b\b\b\b\b\b\b\b\b\b\b\b\b\b\b\b\r6/6 [==============================] - 7s 1s/step - loss: 0.0483 - val_loss: 0.0794\n",
            "Epoch 7/50\n",
            "1/6 [====>.........................] - ETA: 0s - loss: 0.0330"
          ]
        },
        {
          "output_type": "stream",
          "name": "stderr",
          "text": [
            "WARNING:absl:Found untraced functions such as lstm_cell_3_layer_call_fn, lstm_cell_3_layer_call_and_return_conditional_losses, gru_cell_layer_call_fn, gru_cell_layer_call_and_return_conditional_losses while saving (showing 4 of 4). These functions will not be directly callable after loading.\n",
            "\u001b[34m\u001b[1mwandb\u001b[0m: Adding directory to artifact (/content/wandb/run-20230804_122935-jeplt2ww/files/model-best)... Done. 0.0s\n"
          ]
        },
        {
          "output_type": "stream",
          "name": "stdout",
          "text": [
            "\b\b\b\b\b\b\b\b\b\b\b\b\b\b\b\b\b\b\b\b\b\b\b\b\b\b\b\b\b\b\b\b\b\b\b\b\b\b\b\b\b\b\b\b\b\b\b\b\b\b\b\b\b\b\b\b\b\b\b\b\b\r6/6 [==============================] - 9s 2s/step - loss: 0.0455 - val_loss: 0.0783\n",
            "Epoch 8/50\n",
            "1/6 [====>.........................] - ETA: 0s - loss: 0.0479"
          ]
        },
        {
          "output_type": "stream",
          "name": "stderr",
          "text": [
            "WARNING:absl:Found untraced functions such as lstm_cell_3_layer_call_fn, lstm_cell_3_layer_call_and_return_conditional_losses, gru_cell_layer_call_fn, gru_cell_layer_call_and_return_conditional_losses while saving (showing 4 of 4). These functions will not be directly callable after loading.\n",
            "\u001b[34m\u001b[1mwandb\u001b[0m: Adding directory to artifact (/content/wandb/run-20230804_122935-jeplt2ww/files/model-best)... Done. 0.0s\n"
          ]
        },
        {
          "output_type": "stream",
          "name": "stdout",
          "text": [
            "\b\b\b\b\b\b\b\b\b\b\b\b\b\b\b\b\b\b\b\b\b\b\b\b\b\b\b\b\b\b\b\b\b\b\b\b\b\b\b\b\b\b\b\b\b\b\b\b\b\b\b\b\b\b\b\b\b\b\b\b\b\r6/6 [==============================] - 7s 1s/step - loss: 0.0436 - val_loss: 0.0781\n",
            "Epoch 9/50\n",
            "1/6 [====>.........................] - ETA: 0s - loss: 0.0507"
          ]
        },
        {
          "output_type": "stream",
          "name": "stderr",
          "text": [
            "WARNING:absl:Found untraced functions such as lstm_cell_3_layer_call_fn, lstm_cell_3_layer_call_and_return_conditional_losses, gru_cell_layer_call_fn, gru_cell_layer_call_and_return_conditional_losses while saving (showing 4 of 4). These functions will not be directly callable after loading.\n",
            "\u001b[34m\u001b[1mwandb\u001b[0m: Adding directory to artifact (/content/wandb/run-20230804_122935-jeplt2ww/files/model-best)... Done. 0.0s\n"
          ]
        },
        {
          "output_type": "stream",
          "name": "stdout",
          "text": [
            "\b\b\b\b\b\b\b\b\b\b\b\b\b\b\b\b\b\b\b\b\b\b\b\b\b\b\b\b\b\b\b\b\b\b\b\b\b\b\b\b\b\b\b\b\b\b\b\b\b\b\b\b\b\b\b\b\b\b\b\b\b\r6/6 [==============================] - 9s 2s/step - loss: 0.0422 - val_loss: 0.0780\n",
            "Epoch 10/50\n",
            "1/6 [====>.........................] - ETA: 0s - loss: 0.0400"
          ]
        },
        {
          "output_type": "stream",
          "name": "stderr",
          "text": [
            "WARNING:absl:Found untraced functions such as lstm_cell_3_layer_call_fn, lstm_cell_3_layer_call_and_return_conditional_losses, gru_cell_layer_call_fn, gru_cell_layer_call_and_return_conditional_losses while saving (showing 4 of 4). These functions will not be directly callable after loading.\n",
            "\u001b[34m\u001b[1mwandb\u001b[0m: Adding directory to artifact (/content/wandb/run-20230804_122935-jeplt2ww/files/model-best)... Done. 0.0s\n"
          ]
        },
        {
          "output_type": "stream",
          "name": "stdout",
          "text": [
            "\b\b\b\b\b\b\b\b\b\b\b\b\b\b\b\b\b\b\b\b\b\b\b\b\b\b\b\b\b\b\b\b\b\b\b\b\b\b\b\b\b\b\b\b\b\b\b\b\b\b\b\b\b\b\b\b\b\b\b\b\b\r6/6 [==============================] - 7s 1s/step - loss: 0.0415 - val_loss: 0.0776\n",
            "Epoch 11/50\n",
            "1/6 [====>.........................] - ETA: 0s - loss: 0.0325"
          ]
        },
        {
          "output_type": "stream",
          "name": "stderr",
          "text": [
            "WARNING:absl:Found untraced functions such as lstm_cell_3_layer_call_fn, lstm_cell_3_layer_call_and_return_conditional_losses, gru_cell_layer_call_fn, gru_cell_layer_call_and_return_conditional_losses while saving (showing 4 of 4). These functions will not be directly callable after loading.\n",
            "\u001b[34m\u001b[1mwandb\u001b[0m: Adding directory to artifact (/content/wandb/run-20230804_122935-jeplt2ww/files/model-best)... Done. 0.0s\n"
          ]
        },
        {
          "output_type": "stream",
          "name": "stdout",
          "text": [
            "\b\b\b\b\b\b\b\b\b\b\b\b\b\b\b\b\b\b\b\b\b\b\b\b\b\b\b\b\b\b\b\b\b\b\b\b\b\b\b\b\b\b\b\b\b\b\b\b\b\b\b\b\b\b\b\b\b\b\b\b\b\r6/6 [==============================] - 9s 2s/step - loss: 0.0409 - val_loss: 0.0773\n",
            "Epoch 12/50\n",
            "6/6 [==============================] - 0s 17ms/step - loss: 0.0406 - val_loss: 0.0774\n",
            "Epoch 13/50\n",
            "1/6 [====>.........................] - ETA: 0s - loss: 0.0310"
          ]
        },
        {
          "output_type": "stream",
          "name": "stderr",
          "text": [
            "WARNING:absl:Found untraced functions such as lstm_cell_3_layer_call_fn, lstm_cell_3_layer_call_and_return_conditional_losses, gru_cell_layer_call_fn, gru_cell_layer_call_and_return_conditional_losses while saving (showing 4 of 4). These functions will not be directly callable after loading.\n",
            "\u001b[34m\u001b[1mwandb\u001b[0m: Adding directory to artifact (/content/wandb/run-20230804_122935-jeplt2ww/files/model-best)... Done. 0.0s\n"
          ]
        },
        {
          "output_type": "stream",
          "name": "stdout",
          "text": [
            "\b\b\b\b\b\b\b\b\b\b\b\b\b\b\b\b\b\b\b\b\b\b\b\b\b\b\b\b\b\b\b\b\b\b\b\b\b\b\b\b\b\b\b\b\b\b\b\b\b\b\b\b\b\b\b\b\b\b\b\b\b\r6/6 [==============================] - 7s 1s/step - loss: 0.0402 - val_loss: 0.0771\n",
            "Epoch 14/50\n",
            "6/6 [==============================] - 0s 29ms/step - loss: 0.0401 - val_loss: 0.0772\n",
            "Epoch 15/50\n",
            "6/6 [==============================] - ETA: 0s - loss: 0.0402"
          ]
        },
        {
          "output_type": "stream",
          "name": "stderr",
          "text": [
            "WARNING:absl:Found untraced functions such as lstm_cell_3_layer_call_fn, lstm_cell_3_layer_call_and_return_conditional_losses, gru_cell_layer_call_fn, gru_cell_layer_call_and_return_conditional_losses while saving (showing 4 of 4). These functions will not be directly callable after loading.\n",
            "\u001b[34m\u001b[1mwandb\u001b[0m: Adding directory to artifact (/content/wandb/run-20230804_122935-jeplt2ww/files/model-best)... Done. 0.0s\n"
          ]
        },
        {
          "output_type": "stream",
          "name": "stdout",
          "text": [
            "\b\b\b\b\b\b\b\b\b\b\b\b\b\b\b\b\b\b\b\b\b\b\b\b\b\b\b\b\b\b\b\b\b\b\b\b\b\b\b\b\b\b\b\b\b\b\b\b\b\b\b\b\b\b\b\b\b\b\b\b\b\r6/6 [==============================] - 9s 2s/step - loss: 0.0402 - val_loss: 0.0771\n",
            "Epoch 16/50\n",
            "1/6 [====>.........................] - ETA: 0s - loss: 0.0329"
          ]
        },
        {
          "output_type": "stream",
          "name": "stderr",
          "text": [
            "WARNING:absl:Found untraced functions such as lstm_cell_3_layer_call_fn, lstm_cell_3_layer_call_and_return_conditional_losses, gru_cell_layer_call_fn, gru_cell_layer_call_and_return_conditional_losses while saving (showing 4 of 4). These functions will not be directly callable after loading.\n",
            "\u001b[34m\u001b[1mwandb\u001b[0m: Adding directory to artifact (/content/wandb/run-20230804_122935-jeplt2ww/files/model-best)... Done. 0.0s\n"
          ]
        },
        {
          "output_type": "stream",
          "name": "stdout",
          "text": [
            "\b\b\b\b\b\b\b\b\b\b\b\b\b\b\b\b\b\b\b\b\b\b\b\b\b\b\b\b\b\b\b\b\b\b\b\b\b\b\b\b\b\b\b\b\b\b\b\b\b\b\b\b\b\b\b\b\b\b\b\b\b\r6/6 [==============================] - 8s 2s/step - loss: 0.0398 - val_loss: 0.0770\n",
            "Epoch 17/50\n",
            "6/6 [==============================] - 0s 31ms/step - loss: 0.0400 - val_loss: 0.0770\n",
            "Epoch 18/50\n",
            "6/6 [==============================] - 0s 23ms/step - loss: 0.0398 - val_loss: 0.0771\n",
            "Epoch 19/50\n",
            "6/6 [==============================] - 0s 23ms/step - loss: 0.0401 - val_loss: 0.0773\n",
            "Epoch 20/50\n",
            "6/6 [==============================] - 0s 20ms/step - loss: 0.0398 - val_loss: 0.0771\n",
            "Epoch 21/50\n",
            "6/6 [==============================] - ETA: 0s - loss: 0.0398"
          ]
        },
        {
          "output_type": "stream",
          "name": "stderr",
          "text": [
            "WARNING:absl:Found untraced functions such as lstm_cell_3_layer_call_fn, lstm_cell_3_layer_call_and_return_conditional_losses, gru_cell_layer_call_fn, gru_cell_layer_call_and_return_conditional_losses while saving (showing 4 of 4). These functions will not be directly callable after loading.\n",
            "\u001b[34m\u001b[1mwandb\u001b[0m: Adding directory to artifact (/content/wandb/run-20230804_122935-jeplt2ww/files/model-best)... Done. 0.0s\n"
          ]
        },
        {
          "output_type": "stream",
          "name": "stdout",
          "text": [
            "\b\b\b\b\b\b\b\b\b\b\b\b\b\b\b\b\b\b\b\b\b\b\b\b\b\b\b\b\b\b\b\b\b\b\b\b\b\b\b\b\b\b\b\b\b\b\b\b\b\b\b\b\b\b\b\b\b\b\b\b\b\r6/6 [==============================] - 8s 2s/step - loss: 0.0398 - val_loss: 0.0770\n",
            "Epoch 22/50\n",
            "6/6 [==============================] - 0s 16ms/step - loss: 0.0397 - val_loss: 0.0770\n",
            "Epoch 23/50\n",
            "6/6 [==============================] - 0s 17ms/step - loss: 0.0397 - val_loss: 0.0771\n",
            "Epoch 24/50\n",
            "1/6 [====>.........................] - ETA: 0s - loss: 0.0297"
          ]
        },
        {
          "output_type": "stream",
          "name": "stderr",
          "text": [
            "WARNING:absl:Found untraced functions such as lstm_cell_3_layer_call_fn, lstm_cell_3_layer_call_and_return_conditional_losses, gru_cell_layer_call_fn, gru_cell_layer_call_and_return_conditional_losses while saving (showing 4 of 4). These functions will not be directly callable after loading.\n",
            "\u001b[34m\u001b[1mwandb\u001b[0m: Adding directory to artifact (/content/wandb/run-20230804_122935-jeplt2ww/files/model-best)... Done. 0.0s\n"
          ]
        },
        {
          "output_type": "stream",
          "name": "stdout",
          "text": [
            "\b\b\b\b\b\b\b\b\b\b\b\b\b\b\b\b\b\b\b\b\b\b\b\b\b\b\b\b\b\b\b\b\b\b\b\b\b\b\b\b\b\b\b\b\b\b\b\b\b\b\b\b\b\b\b\b\b\b\b\b\b\r6/6 [==============================] - 8s 2s/step - loss: 0.0398 - val_loss: 0.0769\n",
            "Epoch 25/50\n",
            "6/6 [==============================] - 0s 15ms/step - loss: 0.0397 - val_loss: 0.0770\n",
            "Epoch 26/50\n",
            "6/6 [==============================] - 0s 14ms/step - loss: 0.0399 - val_loss: 0.0774\n",
            "Epoch 27/50\n",
            "6/6 [==============================] - 0s 15ms/step - loss: 0.0399 - val_loss: 0.0773\n",
            "Epoch 28/50\n",
            "6/6 [==============================] - 0s 16ms/step - loss: 0.0398 - val_loss: 0.0770\n",
            "Epoch 29/50\n",
            "6/6 [==============================] - 0s 17ms/step - loss: 0.0397 - val_loss: 0.0771\n",
            "Epoch 30/50\n",
            "6/6 [==============================] - 0s 15ms/step - loss: 0.0400 - val_loss: 0.0773\n",
            "Epoch 31/50\n",
            "6/6 [==============================] - 0s 15ms/step - loss: 0.0398 - val_loss: 0.0772\n",
            "Epoch 32/50\n",
            "6/6 [==============================] - 0s 15ms/step - loss: 0.0398 - val_loss: 0.0770\n",
            "Epoch 33/50\n",
            "6/6 [==============================] - 0s 14ms/step - loss: 0.0397 - val_loss: 0.0771\n",
            "Epoch 34/50\n",
            "6/6 [==============================] - 0s 17ms/step - loss: 0.0400 - val_loss: 0.0774\n",
            "Epoch 35/50\n",
            "6/6 [==============================] - 0s 14ms/step - loss: 0.0399 - val_loss: 0.0773\n",
            "Epoch 36/50\n",
            "6/6 [==============================] - 0s 17ms/step - loss: 0.0397 - val_loss: 0.0772\n",
            "Epoch 37/50\n",
            "6/6 [==============================] - 0s 21ms/step - loss: 0.0398 - val_loss: 0.0772\n",
            "Epoch 38/50\n",
            "6/6 [==============================] - 0s 25ms/step - loss: 0.0405 - val_loss: 0.0775\n",
            "Epoch 39/50\n",
            "6/6 [==============================] - 0s 19ms/step - loss: 0.0396 - val_loss: 0.0775\n",
            "Epoch 40/50\n",
            "6/6 [==============================] - 0s 21ms/step - loss: 0.0400 - val_loss: 0.0771\n",
            "Epoch 41/50\n",
            "6/6 [==============================] - 0s 16ms/step - loss: 0.0398 - val_loss: 0.0771\n",
            "Epoch 42/50\n",
            "6/6 [==============================] - 0s 14ms/step - loss: 0.0398 - val_loss: 0.0773\n",
            "Epoch 43/50\n",
            "6/6 [==============================] - 0s 16ms/step - loss: 0.0397 - val_loss: 0.0773\n",
            "Epoch 44/50\n",
            "6/6 [==============================] - 0s 14ms/step - loss: 0.0397 - val_loss: 0.0774\n",
            "Epoch 45/50\n",
            "6/6 [==============================] - 0s 15ms/step - loss: 0.0398 - val_loss: 0.0775\n",
            "Epoch 46/50\n",
            "6/6 [==============================] - 0s 15ms/step - loss: 0.0400 - val_loss: 0.0773\n",
            "Epoch 47/50\n",
            "6/6 [==============================] - 0s 14ms/step - loss: 0.0400 - val_loss: 0.0774\n",
            "Epoch 48/50\n",
            "6/6 [==============================] - 0s 15ms/step - loss: 0.0397 - val_loss: 0.0774\n",
            "Epoch 49/50\n",
            "6/6 [==============================] - 0s 14ms/step - loss: 0.0397 - val_loss: 0.0773\n",
            "Epoch 50/50\n",
            "6/6 [==============================] - 0s 15ms/step - loss: 0.0397 - val_loss: 0.0774\n"
          ]
        }
      ],
      "source": [
        "model = Sequential()\n",
        "model.add(LSTM(64, input_shape=(config.buckets, config.max_len), return_sequences=True))\n",
        "model.add(GRU(64, return_sequences=False))\n",
        "model.add(Dense(5))\n",
        "\n",
        "# Compile the model\n",
        "model.compile(loss='mean_squared_error', optimizer='adam')\n",
        "\n",
        "# Train the model\n",
        "x=model.fit(X_train, y_train_hot, epochs=config.epochs, validation_data=(X_test, y_test_hot), callbacks=[WandbCallback(data_type=\"audio\", labels=labels)])\n",
        "\n",
        "# Make predictions\n",
        "# predictions = model.predict(X_test)\n",
        "\n",
        "# Print the predictions\n",
        "# print(predictions)\n"
      ]
    },
    {
      "cell_type": "code",
      "execution_count": null,
      "metadata": {
        "colab": {
          "base_uri": "https://localhost:8080/"
        },
        "id": "av7xtyYdN4BE",
        "outputId": "58a0ebe2-2132-4630-fc3b-0e4cb793d19d"
      },
      "outputs": [
        {
          "output_type": "stream",
          "name": "stdout",
          "text": [
            "4/4 [==============================] - 1s 5ms/step\n",
            "Accuracy: 0.889763779527559\n"
          ]
        }
      ],
      "source": [
        "predictions = model.predict(X_test)\n",
        "\n",
        "# Convert predictions to binary values (if necessary)\n",
        "binary_predictions = (predictions > 0.5).astype(int)\n",
        "\n",
        "# Calculate accuracy\n",
        "accuracy = (binary_predictions == y_test_hot).mean()\n",
        "\n",
        "# Print the accuracy\n",
        "print(\"Accuracy:\", accuracy)"
      ]
    },
    {
      "cell_type": "code",
      "execution_count": null,
      "metadata": {
        "colab": {
          "base_uri": "https://localhost:8080/"
        },
        "id": "_g0aN4qFVumq",
        "outputId": "ad9fd042-9fb9-43ed-b633-fd9bdda31a84"
      },
      "outputs": [
        {
          "output_type": "stream",
          "name": "stdout",
          "text": [
            "4/4 [==============================] - 0s 6ms/step - loss: 0.0774\n",
            "Test loss: 0.0773736983537674, Test accuracy: 0.9226263016462326\n"
          ]
        }
      ],
      "source": [
        "test_loss = model.evaluate(X_test, y_test_hot)\n",
        "test_accuracy = 1 - test_loss  # Assuming you're calculating accuracy as (1 - loss)\n",
        "\n",
        "print(f\"Test loss: {test_loss}, Test accuracy: {test_accuracy}\")"
      ]
    },
    {
      "cell_type": "markdown",
      "source": [
        "CNN"
      ],
      "metadata": {
        "id": "J85Q_LXEfc9O"
      }
    },
    {
      "cell_type": "code",
      "execution_count": null,
      "metadata": {
        "id": "jhVqRadoKieK",
        "colab": {
          "base_uri": "https://localhost:8080/"
        },
        "outputId": "315d0759-0001-445a-cace-495140763606"
      },
      "outputs": [
        {
          "output_type": "stream",
          "name": "stdout",
          "text": [
            "Epoch 1/50\n",
            "6/6 [==============================] - 9s 118ms/step - loss: 7.8969 - accuracy: 0.4339 - val_loss: 2.6422 - val_accuracy: 0.6693\n",
            "Epoch 2/50\n",
            "6/6 [==============================] - 0s 28ms/step - loss: 2.2875 - accuracy: 0.6720 - val_loss: 0.9221 - val_accuracy: 0.7323\n",
            "Epoch 3/50\n",
            "6/6 [==============================] - 0s 18ms/step - loss: 0.7281 - accuracy: 0.7619 - val_loss: 0.5744 - val_accuracy: 0.8031\n",
            "Epoch 4/50\n",
            "6/6 [==============================] - 0s 18ms/step - loss: 0.5572 - accuracy: 0.7619 - val_loss: 0.4422 - val_accuracy: 0.7638\n",
            "Epoch 5/50\n",
            "6/6 [==============================] - 0s 19ms/step - loss: 0.4024 - accuracy: 0.7460 - val_loss: 0.3868 - val_accuracy: 0.8110\n",
            "Epoch 6/50\n",
            "6/6 [==============================] - 0s 18ms/step - loss: 0.3635 - accuracy: 0.7831 - val_loss: 0.3845 - val_accuracy: 0.8110\n",
            "Epoch 7/50\n",
            "6/6 [==============================] - 0s 21ms/step - loss: 0.3602 - accuracy: 0.7778 - val_loss: 0.3883 - val_accuracy: 0.7717\n",
            "Epoch 8/50\n",
            "6/6 [==============================] - 0s 17ms/step - loss: 0.3549 - accuracy: 0.7672 - val_loss: 0.3845 - val_accuracy: 0.8110\n",
            "Epoch 9/50\n",
            "6/6 [==============================] - 0s 18ms/step - loss: 0.3410 - accuracy: 0.7778 - val_loss: 0.3939 - val_accuracy: 0.7717\n",
            "Epoch 10/50\n",
            "6/6 [==============================] - 0s 18ms/step - loss: 0.3361 - accuracy: 0.8095 - val_loss: 0.3980 - val_accuracy: 0.8110\n",
            "Epoch 11/50\n",
            "6/6 [==============================] - 0s 26ms/step - loss: 0.3215 - accuracy: 0.7989 - val_loss: 0.4061 - val_accuracy: 0.8110\n",
            "Epoch 12/50\n",
            "6/6 [==============================] - 0s 17ms/step - loss: 0.3011 - accuracy: 0.8095 - val_loss: 0.4104 - val_accuracy: 0.8110\n",
            "Epoch 13/50\n",
            "6/6 [==============================] - 0s 17ms/step - loss: 0.3211 - accuracy: 0.8201 - val_loss: 0.4157 - val_accuracy: 0.8110\n",
            "Epoch 14/50\n",
            "6/6 [==============================] - 0s 18ms/step - loss: 0.3091 - accuracy: 0.7989 - val_loss: 0.4234 - val_accuracy: 0.8110\n",
            "Epoch 15/50\n",
            "6/6 [==============================] - 0s 16ms/step - loss: 0.3046 - accuracy: 0.8307 - val_loss: 0.4319 - val_accuracy: 0.7717\n",
            "Epoch 16/50\n",
            "6/6 [==============================] - 0s 19ms/step - loss: 0.3284 - accuracy: 0.7619 - val_loss: 0.4289 - val_accuracy: 0.8110\n",
            "Epoch 17/50\n",
            "6/6 [==============================] - 0s 18ms/step - loss: 0.3390 - accuracy: 0.7460 - val_loss: 0.4186 - val_accuracy: 0.8110\n",
            "Epoch 18/50\n",
            "6/6 [==============================] - 0s 18ms/step - loss: 0.3464 - accuracy: 0.7354 - val_loss: 0.4097 - val_accuracy: 0.8110\n",
            "Epoch 19/50\n",
            "6/6 [==============================] - 0s 17ms/step - loss: 0.3079 - accuracy: 0.7989 - val_loss: 0.4152 - val_accuracy: 0.8110\n",
            "Epoch 20/50\n",
            "6/6 [==============================] - 0s 18ms/step - loss: 0.3059 - accuracy: 0.8095 - val_loss: 0.4166 - val_accuracy: 0.8110\n",
            "Epoch 21/50\n",
            "6/6 [==============================] - 0s 18ms/step - loss: 0.2949 - accuracy: 0.8254 - val_loss: 0.4247 - val_accuracy: 0.8110\n",
            "Epoch 22/50\n",
            "6/6 [==============================] - 0s 26ms/step - loss: 0.3025 - accuracy: 0.7989 - val_loss: 0.4395 - val_accuracy: 0.7717\n",
            "Epoch 23/50\n",
            "6/6 [==============================] - 0s 18ms/step - loss: 0.2971 - accuracy: 0.7778 - val_loss: 0.4495 - val_accuracy: 0.7717\n",
            "Epoch 24/50\n",
            "6/6 [==============================] - 0s 18ms/step - loss: 0.3041 - accuracy: 0.8095 - val_loss: 0.4551 - val_accuracy: 0.8110\n",
            "Epoch 25/50\n",
            "6/6 [==============================] - 0s 19ms/step - loss: 0.2901 - accuracy: 0.8201 - val_loss: 0.4601 - val_accuracy: 0.8110\n",
            "Epoch 26/50\n",
            "6/6 [==============================] - 0s 17ms/step - loss: 0.3082 - accuracy: 0.7249 - val_loss: 0.4624 - val_accuracy: 0.7717\n",
            "Epoch 27/50\n",
            "6/6 [==============================] - 0s 17ms/step - loss: 0.3043 - accuracy: 0.7884 - val_loss: 0.4643 - val_accuracy: 0.7717\n",
            "Epoch 28/50\n",
            "6/6 [==============================] - 0s 17ms/step - loss: 0.3072 - accuracy: 0.7831 - val_loss: 0.4660 - val_accuracy: 0.7717\n",
            "Epoch 29/50\n",
            "6/6 [==============================] - 0s 20ms/step - loss: 0.2951 - accuracy: 0.7778 - val_loss: 0.4704 - val_accuracy: 0.8110\n",
            "Epoch 30/50\n",
            "6/6 [==============================] - 0s 26ms/step - loss: 0.2933 - accuracy: 0.8148 - val_loss: 0.4798 - val_accuracy: 0.8110\n",
            "Epoch 31/50\n",
            "6/6 [==============================] - 0s 19ms/step - loss: 0.2976 - accuracy: 0.8148 - val_loss: 0.4886 - val_accuracy: 0.8110\n",
            "Epoch 32/50\n",
            "6/6 [==============================] - 0s 13ms/step - loss: 0.2951 - accuracy: 0.8042 - val_loss: 0.5017 - val_accuracy: 0.8110\n",
            "Epoch 33/50\n",
            "6/6 [==============================] - 0s 15ms/step - loss: 0.2831 - accuracy: 0.8201 - val_loss: 0.5161 - val_accuracy: 0.8110\n",
            "Epoch 34/50\n",
            "6/6 [==============================] - 0s 14ms/step - loss: 0.2907 - accuracy: 0.8254 - val_loss: 0.5274 - val_accuracy: 0.8110\n",
            "Epoch 35/50\n",
            "6/6 [==============================] - 0s 11ms/step - loss: 0.2949 - accuracy: 0.7672 - val_loss: 0.5368 - val_accuracy: 0.8110\n",
            "Epoch 36/50\n",
            "6/6 [==============================] - 0s 11ms/step - loss: 0.2833 - accuracy: 0.7725 - val_loss: 0.5439 - val_accuracy: 0.8110\n",
            "Epoch 37/50\n",
            "6/6 [==============================] - 0s 13ms/step - loss: 0.2896 - accuracy: 0.8095 - val_loss: 0.5492 - val_accuracy: 0.8110\n",
            "Epoch 38/50\n",
            "6/6 [==============================] - 0s 11ms/step - loss: 0.2783 - accuracy: 0.8360 - val_loss: 0.5544 - val_accuracy: 0.8110\n",
            "Epoch 39/50\n",
            "6/6 [==============================] - 0s 12ms/step - loss: 0.2938 - accuracy: 0.8042 - val_loss: 0.5590 - val_accuracy: 0.8110\n",
            "Epoch 40/50\n",
            "6/6 [==============================] - 0s 13ms/step - loss: 0.2791 - accuracy: 0.8201 - val_loss: 0.5599 - val_accuracy: 0.8110\n",
            "Epoch 41/50\n",
            "6/6 [==============================] - 0s 14ms/step - loss: 0.2798 - accuracy: 0.8148 - val_loss: 0.5662 - val_accuracy: 0.7717\n",
            "Epoch 42/50\n",
            "6/6 [==============================] - 0s 12ms/step - loss: 0.2863 - accuracy: 0.7460 - val_loss: 0.5702 - val_accuracy: 0.7717\n",
            "Epoch 43/50\n",
            "6/6 [==============================] - 0s 14ms/step - loss: 0.2896 - accuracy: 0.7989 - val_loss: 0.5714 - val_accuracy: 0.8110\n",
            "Epoch 44/50\n",
            "6/6 [==============================] - 0s 13ms/step - loss: 0.2949 - accuracy: 0.7778 - val_loss: 0.5686 - val_accuracy: 0.8110\n",
            "Epoch 45/50\n",
            "6/6 [==============================] - 0s 14ms/step - loss: 0.2889 - accuracy: 0.7831 - val_loss: 0.5659 - val_accuracy: 0.8110\n",
            "Epoch 46/50\n",
            "6/6 [==============================] - 0s 12ms/step - loss: 0.2831 - accuracy: 0.8148 - val_loss: 0.5607 - val_accuracy: 0.8110\n",
            "Epoch 47/50\n",
            "6/6 [==============================] - 0s 12ms/step - loss: 0.2746 - accuracy: 0.8042 - val_loss: 0.5605 - val_accuracy: 0.8110\n",
            "Epoch 48/50\n",
            "6/6 [==============================] - 0s 14ms/step - loss: 0.2813 - accuracy: 0.7937 - val_loss: 0.5670 - val_accuracy: 0.8110\n",
            "Epoch 49/50\n",
            "6/6 [==============================] - 0s 12ms/step - loss: 0.2865 - accuracy: 0.8148 - val_loss: 0.5697 - val_accuracy: 0.8110\n",
            "Epoch 50/50\n",
            "6/6 [==============================] - 0s 14ms/step - loss: 0.2803 - accuracy: 0.8148 - val_loss: 0.5738 - val_accuracy: 0.8110\n",
            "<keras.callbacks.History object at 0x7a068e8ddcf0>\n"
          ]
        }
      ],
      "source": [
        "import numpy as np\n",
        "import keras\n",
        "from keras.models import Sequential\n",
        "from keras.layers import Conv2D, MaxPooling2D, Flatten, Dense, Dropout\n",
        "\n",
        "# Assuming your input data is X_train and X_test with shape (num_samples, height, width)\n",
        "\n",
        "# Reshape the data to have a single channel\n",
        "X_train = X_train.reshape(X_train.shape[0], X_train.shape[1], X_train.shape[2], 1)\n",
        "X_test = X_test.reshape(X_test.shape[0], X_test.shape[1], X_test.shape[2], 1)\n",
        "\n",
        "# Build the CNN model\n",
        "model = Sequential()\n",
        "model.add(Conv2D(32, (3, 3), activation='relu', input_shape=(X_train.shape[1], X_train.shape[2], 1)))\n",
        "model.add(MaxPooling2D((2, 2)))\n",
        "model.add(Conv2D(64, (3, 3), activation='relu'))\n",
        "model.add(MaxPooling2D((2, 2)))\n",
        "model.add(Flatten())\n",
        "model.add(Dense(128, activation='relu'))\n",
        "model.add(Dropout(0.5))\n",
        "model.add(Dense(num_classes, activation='softmax'))\n",
        "\n",
        "# Compile the model\n",
        "model.compile(loss='categorical_crossentropy', optimizer='adam', metrics=['accuracy'])\n",
        "\n",
        "# Train the model\n",
        "x = model.fit(X_train, y_train_hot, epochs=config.epochs, validation_data=(X_test, y_test_hot), callbacks=[WandbCallback(data_type=\"audio\", labels=labels)])\n",
        "print(x)\n",
        "\n"
      ]
    },
    {
      "cell_type": "code",
      "source": [
        "predictions = model.predict(X_test)\n",
        "\n",
        "# Convert predictions to binary values (if necessary)\n",
        "binary_predictions = (predictions > 0.5).astype(int)\n",
        "\n",
        "# Calculate accuracy\n",
        "accuracy = (binary_predictions == y_test_hot).mean()\n",
        "\n",
        "# Print the accuracy\n",
        "print(\"Accuracy:\", accuracy)"
      ],
      "metadata": {
        "colab": {
          "base_uri": "https://localhost:8080/"
        },
        "id": "PeUVmrISf1__",
        "outputId": "93e42860-67a4-4bae-ae7c-6fb28ec5cd77"
      },
      "execution_count": null,
      "outputs": [
        {
          "output_type": "stream",
          "name": "stdout",
          "text": [
            "4/4 [==============================] - 0s 3ms/step\n",
            "Accuracy: 0.9244094488188976\n"
          ]
        }
      ]
    },
    {
      "cell_type": "code",
      "source": [
        "# Assuming you have already trained the model and have X_test and y_test_hot ready\n",
        "\n",
        "# Evaluate the model\n",
        "test_results = model.evaluate(X_test, y_test_hot)\n",
        "\n",
        "# Extract the loss and accuracy from the test_results list\n",
        "test_loss = test_results[0]\n",
        "test_accuracy = 1 - test_results[1]  # Assuming the second element is the accuracy (1 - accuracy)\n",
        "\n",
        "print(f\"Test loss: {test_loss}, Test accuracy: {test_accuracy}\")\n"
      ],
      "metadata": {
        "colab": {
          "base_uri": "https://localhost:8080/"
        },
        "id": "HTfUVU3df11H",
        "outputId": "08ac2154-90b5-4b80-a10a-6e7b1203f0f3"
      },
      "execution_count": null,
      "outputs": [
        {
          "output_type": "stream",
          "name": "stdout",
          "text": [
            "4/4 [==============================] - 0s 7ms/step - loss: 0.5738 - accuracy: 0.8110\n",
            "Test loss: 0.5738465785980225, Test accuracy: 0.18897640705108643\n"
          ]
        }
      ]
    },
    {
      "cell_type": "markdown",
      "source": [
        "TDNN"
      ],
      "metadata": {
        "id": "kZssC6NtgO-W"
      }
    },
    {
      "cell_type": "code",
      "source": [
        "import numpy as np\n",
        "import keras\n",
        "from keras.models import Sequential\n",
        "from keras.layers import Conv1D, MaxPooling1D, Flatten, Dense\n",
        "\n",
        "# Build the TDNN model\n",
        "model = Sequential()\n",
        "model.add(Conv1D(64, 3, activation='relu', input_shape=(config.buckets, config.max_len)))\n",
        "model.add(MaxPooling1D(2))\n",
        "model.add(Conv1D(128, 3, activation='relu'))\n",
        "model.add(MaxPooling1D(2))\n",
        "model.add(Flatten())\n",
        "model.add(Dense(256, activation='relu'))\n",
        "model.add(Dense(num_classes, activation='softmax'))\n",
        "\n",
        "# Compile the model\n",
        "model.compile(loss='categorical_crossentropy', optimizer='adam', metrics=['accuracy'])\n",
        "\n",
        "x=model.fit(X_train, y_train_hot, epochs=config.epochs, validation_data=(X_test, y_test_hot), callbacks=[WandbCallback(data_type=\"audio\", labels=labels)])\n",
        "print(x)\n"
      ],
      "metadata": {
        "colab": {
          "base_uri": "https://localhost:8080/"
        },
        "id": "k8jVPHDCgQB3",
        "outputId": "825fd512-0f77-49c6-af2d-7edcfbd759b4"
      },
      "execution_count": null,
      "outputs": [
        {
          "output_type": "stream",
          "name": "stdout",
          "text": [
            "Epoch 1/50\n",
            "6/6 [==============================] - 3s 114ms/step - loss: 11.7972 - accuracy: 0.5079 - val_loss: 8.6769 - val_accuracy: 0.6535\n",
            "Epoch 2/50\n",
            "6/6 [==============================] - 0s 20ms/step - loss: 7.2138 - accuracy: 0.5926 - val_loss: 4.0054 - val_accuracy: 0.7402\n",
            "Epoch 3/50\n",
            "6/6 [==============================] - 0s 20ms/step - loss: 1.6454 - accuracy: 0.7725 - val_loss: 2.2494 - val_accuracy: 0.7559\n",
            "Epoch 4/50\n",
            "6/6 [==============================] - 0s 20ms/step - loss: 0.5738 - accuracy: 0.7989 - val_loss: 1.6934 - val_accuracy: 0.7953\n",
            "Epoch 5/50\n",
            "6/6 [==============================] - 0s 21ms/step - loss: 0.8939 - accuracy: 0.7619 - val_loss: 1.8385 - val_accuracy: 0.7795\n",
            "Epoch 6/50\n",
            "6/6 [==============================] - 0s 19ms/step - loss: 0.7304 - accuracy: 0.8307 - val_loss: 2.3943 - val_accuracy: 0.7953\n",
            "Epoch 7/50\n",
            "6/6 [==============================] - 0s 21ms/step - loss: 0.9873 - accuracy: 0.8201 - val_loss: 1.1956 - val_accuracy: 0.7953\n",
            "Epoch 8/50\n",
            "6/6 [==============================] - 0s 19ms/step - loss: 0.7121 - accuracy: 0.7831 - val_loss: 1.2624 - val_accuracy: 0.7953\n",
            "Epoch 9/50\n",
            "6/6 [==============================] - 0s 18ms/step - loss: 0.3399 - accuracy: 0.7672 - val_loss: 1.1685 - val_accuracy: 0.7953\n",
            "Epoch 10/50\n",
            "6/6 [==============================] - 0s 20ms/step - loss: 0.2861 - accuracy: 0.8042 - val_loss: 1.2849 - val_accuracy: 0.7953\n",
            "Epoch 11/50\n",
            "6/6 [==============================] - 0s 20ms/step - loss: 0.3663 - accuracy: 0.7937 - val_loss: 1.1652 - val_accuracy: 0.7559\n",
            "Epoch 12/50\n",
            "6/6 [==============================] - 0s 19ms/step - loss: 0.3657 - accuracy: 0.8148 - val_loss: 1.3784 - val_accuracy: 0.7559\n",
            "Epoch 13/50\n",
            "6/6 [==============================] - 0s 17ms/step - loss: 0.4508 - accuracy: 0.7884 - val_loss: 1.4805 - val_accuracy: 0.7559\n",
            "Epoch 14/50\n",
            "6/6 [==============================] - 0s 19ms/step - loss: 0.5468 - accuracy: 0.7831 - val_loss: 1.5361 - val_accuracy: 0.7559\n",
            "Epoch 15/50\n",
            "6/6 [==============================] - 0s 18ms/step - loss: 0.4964 - accuracy: 0.8042 - val_loss: 1.4462 - val_accuracy: 0.7559\n",
            "Epoch 16/50\n",
            "6/6 [==============================] - 0s 19ms/step - loss: 0.4983 - accuracy: 0.7354 - val_loss: 1.1624 - val_accuracy: 0.7559\n",
            "Epoch 17/50\n",
            "6/6 [==============================] - 0s 13ms/step - loss: 0.4737 - accuracy: 0.7513 - val_loss: 1.5682 - val_accuracy: 0.7559\n",
            "Epoch 18/50\n",
            "6/6 [==============================] - 0s 11ms/step - loss: 0.8715 - accuracy: 0.8042 - val_loss: 2.3644 - val_accuracy: 0.7559\n",
            "Epoch 19/50\n",
            "6/6 [==============================] - 0s 11ms/step - loss: 1.1204 - accuracy: 0.7989 - val_loss: 1.6150 - val_accuracy: 0.7953\n",
            "Epoch 20/50\n",
            "6/6 [==============================] - 0s 14ms/step - loss: 0.7940 - accuracy: 0.7937 - val_loss: 1.2894 - val_accuracy: 0.7953\n",
            "Epoch 21/50\n",
            "6/6 [==============================] - 0s 14ms/step - loss: 0.4557 - accuracy: 0.7937 - val_loss: 0.8352 - val_accuracy: 0.7559\n",
            "Epoch 22/50\n",
            "6/6 [==============================] - 0s 12ms/step - loss: 0.3164 - accuracy: 0.7884 - val_loss: 0.7790 - val_accuracy: 0.7953\n",
            "Epoch 23/50\n",
            "6/6 [==============================] - 0s 12ms/step - loss: 0.5317 - accuracy: 0.7778 - val_loss: 1.1707 - val_accuracy: 0.7953\n",
            "Epoch 24/50\n",
            "6/6 [==============================] - 0s 12ms/step - loss: 0.5281 - accuracy: 0.7937 - val_loss: 0.9617 - val_accuracy: 0.7953\n",
            "Epoch 25/50\n",
            "6/6 [==============================] - 0s 11ms/step - loss: 0.3538 - accuracy: 0.8254 - val_loss: 0.8659 - val_accuracy: 0.7953\n",
            "Epoch 26/50\n",
            "6/6 [==============================] - 0s 14ms/step - loss: 0.4065 - accuracy: 0.8095 - val_loss: 0.8956 - val_accuracy: 0.7953\n",
            "Epoch 27/50\n",
            "6/6 [==============================] - 0s 12ms/step - loss: 0.4545 - accuracy: 0.7566 - val_loss: 0.8379 - val_accuracy: 0.7953\n",
            "Epoch 28/50\n",
            "6/6 [==============================] - 0s 13ms/step - loss: 0.3786 - accuracy: 0.7778 - val_loss: 0.7712 - val_accuracy: 0.7953\n",
            "Epoch 29/50\n",
            "6/6 [==============================] - 0s 13ms/step - loss: 0.3797 - accuracy: 0.8042 - val_loss: 0.7851 - val_accuracy: 0.7953\n",
            "Epoch 30/50\n",
            "6/6 [==============================] - 0s 13ms/step - loss: 0.3467 - accuracy: 0.8254 - val_loss: 0.8291 - val_accuracy: 0.7953\n",
            "Epoch 31/50\n",
            "6/6 [==============================] - 0s 13ms/step - loss: 0.3878 - accuracy: 0.7831 - val_loss: 0.7502 - val_accuracy: 0.7953\n",
            "Epoch 32/50\n",
            "6/6 [==============================] - 0s 13ms/step - loss: 0.2861 - accuracy: 0.8042 - val_loss: 0.6798 - val_accuracy: 0.7559\n",
            "Epoch 33/50\n",
            "6/6 [==============================] - 0s 11ms/step - loss: 0.2821 - accuracy: 0.8201 - val_loss: 0.7336 - val_accuracy: 0.7953\n",
            "Epoch 34/50\n",
            "6/6 [==============================] - 0s 12ms/step - loss: 0.2983 - accuracy: 0.8148 - val_loss: 0.7183 - val_accuracy: 0.7953\n",
            "Epoch 35/50\n",
            "6/6 [==============================] - 0s 12ms/step - loss: 0.3678 - accuracy: 0.8042 - val_loss: 0.6933 - val_accuracy: 0.7953\n",
            "Epoch 36/50\n",
            "6/6 [==============================] - 0s 13ms/step - loss: 0.3786 - accuracy: 0.8042 - val_loss: 0.9536 - val_accuracy: 0.7559\n",
            "Epoch 37/50\n",
            "6/6 [==============================] - 0s 16ms/step - loss: 0.4410 - accuracy: 0.8201 - val_loss: 0.6689 - val_accuracy: 0.7559\n",
            "Epoch 38/50\n",
            "6/6 [==============================] - 0s 12ms/step - loss: 0.3856 - accuracy: 0.7778 - val_loss: 0.6717 - val_accuracy: 0.7953\n",
            "Epoch 39/50\n",
            "6/6 [==============================] - 0s 15ms/step - loss: 0.3690 - accuracy: 0.7937 - val_loss: 0.8442 - val_accuracy: 0.7953\n",
            "Epoch 40/50\n",
            "6/6 [==============================] - 0s 13ms/step - loss: 0.3450 - accuracy: 0.8254 - val_loss: 0.6405 - val_accuracy: 0.7559\n",
            "Epoch 41/50\n",
            "6/6 [==============================] - 0s 13ms/step - loss: 0.3317 - accuracy: 0.7725 - val_loss: 0.6197 - val_accuracy: 0.7559\n",
            "Epoch 42/50\n",
            "6/6 [==============================] - 0s 14ms/step - loss: 0.2864 - accuracy: 0.8201 - val_loss: 0.7150 - val_accuracy: 0.7559\n",
            "Epoch 43/50\n",
            "6/6 [==============================] - 0s 15ms/step - loss: 0.3409 - accuracy: 0.8201 - val_loss: 0.6470 - val_accuracy: 0.7953\n",
            "Epoch 44/50\n",
            "6/6 [==============================] - 0s 14ms/step - loss: 0.3149 - accuracy: 0.8095 - val_loss: 0.8588 - val_accuracy: 0.7953\n",
            "Epoch 45/50\n",
            "6/6 [==============================] - 0s 15ms/step - loss: 0.3903 - accuracy: 0.8201 - val_loss: 0.7679 - val_accuracy: 0.7559\n",
            "Epoch 46/50\n",
            "6/6 [==============================] - 0s 12ms/step - loss: 0.3679 - accuracy: 0.8095 - val_loss: 0.7008 - val_accuracy: 0.7559\n",
            "Epoch 47/50\n",
            "6/6 [==============================] - 0s 14ms/step - loss: 0.3243 - accuracy: 0.7989 - val_loss: 0.6196 - val_accuracy: 0.7953\n",
            "Epoch 48/50\n",
            "6/6 [==============================] - 0s 14ms/step - loss: 0.2996 - accuracy: 0.7937 - val_loss: 0.6124 - val_accuracy: 0.7953\n",
            "Epoch 49/50\n",
            "6/6 [==============================] - 0s 14ms/step - loss: 0.2960 - accuracy: 0.8042 - val_loss: 0.6811 - val_accuracy: 0.7953\n",
            "Epoch 50/50\n",
            "6/6 [==============================] - 0s 11ms/step - loss: 0.3427 - accuracy: 0.7937 - val_loss: 0.6536 - val_accuracy: 0.7953\n",
            "<keras.callbacks.History object at 0x7a0611b0cf70>\n"
          ]
        }
      ]
    },
    {
      "cell_type": "code",
      "source": [
        "predictions = model.predict(X_test)\n",
        "\n",
        "# Convert predictions to binary values (if necessary)\n",
        "binary_predictions = (predictions > 0.5).astype(int)\n",
        "\n",
        "# Calculate accuracy\n",
        "accuracy = (binary_predictions == y_test_hot).mean()\n",
        "\n",
        "# Print the accuracy\n",
        "print(\"Accuracy:\", accuracy)"
      ],
      "metadata": {
        "colab": {
          "base_uri": "https://localhost:8080/"
        },
        "id": "1Le8zCmCgXcM",
        "outputId": "05ae112d-03c3-4983-e1cf-71238d242731"
      },
      "execution_count": null,
      "outputs": [
        {
          "output_type": "stream",
          "name": "stdout",
          "text": [
            "4/4 [==============================] - 0s 4ms/step\n",
            "Accuracy: 0.9181102362204724\n"
          ]
        }
      ]
    },
    {
      "cell_type": "code",
      "source": [
        "# Assuming you have already trained the model and have X_test and y_test_hot ready\n",
        "\n",
        "# Evaluate the model\n",
        "test_results = model.evaluate(X_test, y_test_hot)\n",
        "\n",
        "# Extract the loss and accuracy from the test_results list\n",
        "test_loss = test_results[0]\n",
        "test_accuracy = test_results[1]\n",
        "\n",
        "print(f\"Test loss: {test_loss}, Test accuracy: {test_accuracy}\")\n"
      ],
      "metadata": {
        "colab": {
          "base_uri": "https://localhost:8080/"
        },
        "id": "RQybV9uugXLk",
        "outputId": "00073d7a-6be4-47bc-c277-3e23193e6121"
      },
      "execution_count": null,
      "outputs": [
        {
          "output_type": "stream",
          "name": "stdout",
          "text": [
            "4/4 [==============================] - 0s 9ms/step - loss: 0.6536 - accuracy: 0.7953\n",
            "Test loss: 0.6535815000534058, Test accuracy: 0.7952755689620972\n"
          ]
        }
      ]
    }
  ],
  "metadata": {
    "accelerator": "GPU",
    "colab": {
      "provenance": []
    },
    "gpuClass": "standard",
    "kernelspec": {
      "display_name": "Python 3",
      "name": "python3"
    },
    "language_info": {
      "name": "python"
    },
    "widgets": {
      "application/vnd.jupyter.widget-state+json": {
        "040e8e4ccbcd4e3aa95335a23c8f6167": {
          "model_module": "@jupyter-widgets/controls",
          "model_name": "VBoxModel",
          "model_module_version": "1.5.0",
          "state": {
            "_dom_classes": [],
            "_model_module": "@jupyter-widgets/controls",
            "_model_module_version": "1.5.0",
            "_model_name": "VBoxModel",
            "_view_count": null,
            "_view_module": "@jupyter-widgets/controls",
            "_view_module_version": "1.5.0",
            "_view_name": "VBoxView",
            "box_style": "",
            "children": [
              "IPY_MODEL_77798e2b52f849bcbf61c2c7faf9c797",
              "IPY_MODEL_c745e3cb4f85476cb110721f0c03ed4f"
            ],
            "layout": "IPY_MODEL_ba9fb2df67a3492faa62efdde206bf2c"
          }
        },
        "77798e2b52f849bcbf61c2c7faf9c797": {
          "model_module": "@jupyter-widgets/controls",
          "model_name": "LabelModel",
          "model_module_version": "1.5.0",
          "state": {
            "_dom_classes": [],
            "_model_module": "@jupyter-widgets/controls",
            "_model_module_version": "1.5.0",
            "_model_name": "LabelModel",
            "_view_count": null,
            "_view_module": "@jupyter-widgets/controls",
            "_view_module_version": "1.5.0",
            "_view_name": "LabelView",
            "description": "",
            "description_tooltip": null,
            "layout": "IPY_MODEL_217f0a830bb245b3987625f48dd4e9f1",
            "placeholder": "​",
            "style": "IPY_MODEL_0cd88bf11fcd44c3b62e040d90d4e472",
            "value": "28.632 MB of 29.172 MB uploaded (0.245 MB deduped)\r"
          }
        },
        "c745e3cb4f85476cb110721f0c03ed4f": {
          "model_module": "@jupyter-widgets/controls",
          "model_name": "FloatProgressModel",
          "model_module_version": "1.5.0",
          "state": {
            "_dom_classes": [],
            "_model_module": "@jupyter-widgets/controls",
            "_model_module_version": "1.5.0",
            "_model_name": "FloatProgressModel",
            "_view_count": null,
            "_view_module": "@jupyter-widgets/controls",
            "_view_module_version": "1.5.0",
            "_view_name": "ProgressView",
            "bar_style": "",
            "description": "",
            "description_tooltip": null,
            "layout": "IPY_MODEL_14499bb321ed4346ac9ef086a8293dbc",
            "max": 1,
            "min": 0,
            "orientation": "horizontal",
            "style": "IPY_MODEL_5c24794b5fd342219aed7fcefd8d25b8",
            "value": 0.981493756454486
          }
        },
        "ba9fb2df67a3492faa62efdde206bf2c": {
          "model_module": "@jupyter-widgets/base",
          "model_name": "LayoutModel",
          "model_module_version": "1.2.0",
          "state": {
            "_model_module": "@jupyter-widgets/base",
            "_model_module_version": "1.2.0",
            "_model_name": "LayoutModel",
            "_view_count": null,
            "_view_module": "@jupyter-widgets/base",
            "_view_module_version": "1.2.0",
            "_view_name": "LayoutView",
            "align_content": null,
            "align_items": null,
            "align_self": null,
            "border": null,
            "bottom": null,
            "display": null,
            "flex": null,
            "flex_flow": null,
            "grid_area": null,
            "grid_auto_columns": null,
            "grid_auto_flow": null,
            "grid_auto_rows": null,
            "grid_column": null,
            "grid_gap": null,
            "grid_row": null,
            "grid_template_areas": null,
            "grid_template_columns": null,
            "grid_template_rows": null,
            "height": null,
            "justify_content": null,
            "justify_items": null,
            "left": null,
            "margin": null,
            "max_height": null,
            "max_width": null,
            "min_height": null,
            "min_width": null,
            "object_fit": null,
            "object_position": null,
            "order": null,
            "overflow": null,
            "overflow_x": null,
            "overflow_y": null,
            "padding": null,
            "right": null,
            "top": null,
            "visibility": null,
            "width": null
          }
        },
        "217f0a830bb245b3987625f48dd4e9f1": {
          "model_module": "@jupyter-widgets/base",
          "model_name": "LayoutModel",
          "model_module_version": "1.2.0",
          "state": {
            "_model_module": "@jupyter-widgets/base",
            "_model_module_version": "1.2.0",
            "_model_name": "LayoutModel",
            "_view_count": null,
            "_view_module": "@jupyter-widgets/base",
            "_view_module_version": "1.2.0",
            "_view_name": "LayoutView",
            "align_content": null,
            "align_items": null,
            "align_self": null,
            "border": null,
            "bottom": null,
            "display": null,
            "flex": null,
            "flex_flow": null,
            "grid_area": null,
            "grid_auto_columns": null,
            "grid_auto_flow": null,
            "grid_auto_rows": null,
            "grid_column": null,
            "grid_gap": null,
            "grid_row": null,
            "grid_template_areas": null,
            "grid_template_columns": null,
            "grid_template_rows": null,
            "height": null,
            "justify_content": null,
            "justify_items": null,
            "left": null,
            "margin": null,
            "max_height": null,
            "max_width": null,
            "min_height": null,
            "min_width": null,
            "object_fit": null,
            "object_position": null,
            "order": null,
            "overflow": null,
            "overflow_x": null,
            "overflow_y": null,
            "padding": null,
            "right": null,
            "top": null,
            "visibility": null,
            "width": null
          }
        },
        "0cd88bf11fcd44c3b62e040d90d4e472": {
          "model_module": "@jupyter-widgets/controls",
          "model_name": "DescriptionStyleModel",
          "model_module_version": "1.5.0",
          "state": {
            "_model_module": "@jupyter-widgets/controls",
            "_model_module_version": "1.5.0",
            "_model_name": "DescriptionStyleModel",
            "_view_count": null,
            "_view_module": "@jupyter-widgets/base",
            "_view_module_version": "1.2.0",
            "_view_name": "StyleView",
            "description_width": ""
          }
        },
        "14499bb321ed4346ac9ef086a8293dbc": {
          "model_module": "@jupyter-widgets/base",
          "model_name": "LayoutModel",
          "model_module_version": "1.2.0",
          "state": {
            "_model_module": "@jupyter-widgets/base",
            "_model_module_version": "1.2.0",
            "_model_name": "LayoutModel",
            "_view_count": null,
            "_view_module": "@jupyter-widgets/base",
            "_view_module_version": "1.2.0",
            "_view_name": "LayoutView",
            "align_content": null,
            "align_items": null,
            "align_self": null,
            "border": null,
            "bottom": null,
            "display": null,
            "flex": null,
            "flex_flow": null,
            "grid_area": null,
            "grid_auto_columns": null,
            "grid_auto_flow": null,
            "grid_auto_rows": null,
            "grid_column": null,
            "grid_gap": null,
            "grid_row": null,
            "grid_template_areas": null,
            "grid_template_columns": null,
            "grid_template_rows": null,
            "height": null,
            "justify_content": null,
            "justify_items": null,
            "left": null,
            "margin": null,
            "max_height": null,
            "max_width": null,
            "min_height": null,
            "min_width": null,
            "object_fit": null,
            "object_position": null,
            "order": null,
            "overflow": null,
            "overflow_x": null,
            "overflow_y": null,
            "padding": null,
            "right": null,
            "top": null,
            "visibility": null,
            "width": null
          }
        },
        "5c24794b5fd342219aed7fcefd8d25b8": {
          "model_module": "@jupyter-widgets/controls",
          "model_name": "ProgressStyleModel",
          "model_module_version": "1.5.0",
          "state": {
            "_model_module": "@jupyter-widgets/controls",
            "_model_module_version": "1.5.0",
            "_model_name": "ProgressStyleModel",
            "_view_count": null,
            "_view_module": "@jupyter-widgets/base",
            "_view_module_version": "1.2.0",
            "_view_name": "StyleView",
            "bar_color": null,
            "description_width": ""
          }
        }
      }
    }
  },
  "nbformat": 4,
  "nbformat_minor": 0
}